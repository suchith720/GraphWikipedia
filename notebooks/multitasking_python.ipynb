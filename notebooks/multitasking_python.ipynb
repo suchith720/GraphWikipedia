{
 "cells": [
  {
   "cell_type": "code",
   "execution_count": 1,
   "id": "6a43e655",
   "metadata": {},
   "outputs": [],
   "source": [
    "from concurrent.futures import ProcessPoolExecutor, ThreadPoolExecutor\n",
    "import numpy as np\n",
    "import time\n",
    "from matplotlib import pyplot as plt\n",
    "import glob\n",
    "from PIL import Image\n",
    "import random\n",
    "import string\n",
    "\n",
    "%matplotlib inline"
   ]
  },
  {
   "cell_type": "code",
   "execution_count": 2,
   "id": "49681e5e",
   "metadata": {},
   "outputs": [],
   "source": [
    "import ssl\n",
    "ssl._create_default_https_context = ssl._create_unverified_context\n",
    "\n",
    "PROCESSING_TITLE = \"Multiprocessing\"\n",
    "THREADING_TITLE = \"Multithreading\""
   ]
  },
  {
   "cell_type": "code",
   "execution_count": 3,
   "id": "a8947531",
   "metadata": {},
   "outputs": [],
   "source": [
    "def multithreading(func, args, workers):\n",
    "    begin_time = time.time()\n",
    "    with ThreadPoolExecutor(max_workers=workers) as executor:\n",
    "        res = executor.map(func, args, [begin_time for _ in range(len(args)) ])\n",
    "    return list(res)\n",
    "\n",
    "def multiprocessing(func, args, workers):\n",
    "    begin_time = time.time()\n",
    "    with ProcessPoolExecutor(max_workers=workers) as executor:\n",
    "        res = executor.map(func, args, [begin_time for _ in range(len(args))])\n",
    "    return list(res)"
   ]
  },
  {
   "cell_type": "code",
   "execution_count": 4,
   "id": "d779dad2",
   "metadata": {},
   "outputs": [],
   "source": [
    "def visualize_runtimes(results, title):\n",
    "    start, stop = np.array(results).T\n",
    "    plt.barh(range(len(start)), stop-start, left=start)\n",
    "    plt.grid(axis='x')\n",
    "    plt.xlabel('Tasks')\n",
    "    plt.ylabel('Seconds')\n",
    "    plt.title(title)\n",
    "    return stop[-1] - start[0]"
   ]
  },
  {
   "cell_type": "markdown",
   "id": "2fc6187d",
   "metadata": {},
   "source": [
    "## API Calls"
   ]
  },
  {
   "cell_type": "code",
   "execution_count": 3,
   "id": "4b306c98",
   "metadata": {},
   "outputs": [],
   "source": [
    "from urllib.request import urlopen\n",
    "\n",
    "def download(url, base):\n",
    "    start = time.time() - base\n",
    "    \n",
    "    try:\n",
    "        res = urlopen(url)\n",
    "    except Expection as e:\n",
    "        print(f\"ERROR: {e}\")\n",
    "    \n",
    "    stop = time.time() - base\n",
    "    \n",
    "    return start, stop"
   ]
  },
  {
   "cell_type": "code",
   "execution_count": 4,
   "id": "833ace03",
   "metadata": {},
   "outputs": [],
   "source": [
    "N = 16\n",
    "URL = 'http://scholar.princeton.edu/sites/default/files/oversize_pdf_test_0.pdf'\n",
    "urls = [URL for i in range(N)]"
   ]
  },
  {
   "cell_type": "markdown",
   "id": "4ae62922",
   "metadata": {
    "heading_collapsed": true
   },
   "source": [
    "### Serial"
   ]
  },
  {
   "cell_type": "code",
   "execution_count": 35,
   "id": "8a0efe4f",
   "metadata": {
    "hidden": true
   },
   "outputs": [
    {
     "name": "stdout",
     "output_type": "stream",
     "text": [
      "18.9 s ± 493 ms per loop (mean ± std. dev. of 7 runs, 1 loop each)\n"
     ]
    }
   ],
   "source": [
    "%timeit -n 1 [download(url, 1) for url in urls]"
   ]
  },
  {
   "cell_type": "markdown",
   "id": "3c4b2c1f",
   "metadata": {
    "heading_collapsed": true
   },
   "source": [
    "### Multithreading"
   ]
  },
  {
   "cell_type": "code",
   "execution_count": 36,
   "id": "ce0f2b27",
   "metadata": {
    "hidden": true
   },
   "outputs": [
    {
     "data": {
      "text/plain": [
       "19.59378743171692"
      ]
     },
     "execution_count": 36,
     "metadata": {},
     "output_type": "execute_result"
    },
    {
     "data": {
      "image/png": "[encoded data removed]",
      "text/plain": [
       "<Figure size 432x288 with 1 Axes>"
      ]
     },
     "metadata": {
      "needs_background": "light"
     },
     "output_type": "display_data"
    }
   ],
   "source": [
    "visualize_runtimes(multithreading(download, urls, 1), 'Single Thread')"
   ]
  },
  {
   "cell_type": "code",
   "execution_count": 37,
   "id": "8b06fe57",
   "metadata": {
    "hidden": true
   },
   "outputs": [
    {
     "data": {
      "text/plain": [
       "9.278743028640747"
      ]
     },
     "execution_count": 37,
     "metadata": {},
     "output_type": "execute_result"
    },
    {
     "data": {
      "image/png": "[encoded data removed]",
      "text/plain": [
       "<Figure size 432x288 with 1 Axes>"
      ]
     },
     "metadata": {
      "needs_background": "light"
     },
     "output_type": "display_data"
    }
   ],
   "source": [
    "visualize_runtimes(multithreading(download, urls, 2), 'Multithreading')"
   ]
  },
  {
   "cell_type": "code",
   "execution_count": 38,
   "id": "a08ef535",
   "metadata": {
    "hidden": true
   },
   "outputs": [
    {
     "data": {
      "text/plain": [
       "5.217743635177612"
      ]
     },
     "execution_count": 38,
     "metadata": {},
     "output_type": "execute_result"
    },
    {
     "data": {
      "image/png": "[encoded data removed]",
      "text/plain": [
       "<Figure size 432x288 with 1 Axes>"
      ]
     },
     "metadata": {
      "needs_background": "light"
     },
     "output_type": "display_data"
    }
   ],
   "source": [
    "visualize_runtimes(multithreading(download, urls, 4), 'Multithreading')"
   ]
  },
  {
   "cell_type": "markdown",
   "id": "cda8a883",
   "metadata": {
    "heading_collapsed": true
   },
   "source": [
    "### Multiprocessing"
   ]
  },
  {
   "cell_type": "code",
   "execution_count": 39,
   "id": "7d4ec876",
   "metadata": {
    "hidden": true
   },
   "outputs": [
    {
     "data": {
      "text/plain": [
       "19.055716514587402"
      ]
     },
     "execution_count": 39,
     "metadata": {},
     "output_type": "execute_result"
    },
    {
     "data": {
      "image/png": "[encoded data removed]",
      "text/plain": [
       "<Figure size 432x288 with 1 Axes>"
      ]
     },
     "metadata": {
      "needs_background": "light"
     },
     "output_type": "display_data"
    }
   ],
   "source": [
    "visualize_runtimes(multiprocessing(download, urls, 1), 'Single Process')"
   ]
  },
  {
   "cell_type": "code",
   "execution_count": 40,
   "id": "fb5b5228",
   "metadata": {
    "hidden": true
   },
   "outputs": [
    {
     "data": {
      "text/plain": [
       "10.240890502929688"
      ]
     },
     "execution_count": 40,
     "metadata": {},
     "output_type": "execute_result"
    },
    {
     "data": {
      "image/png": "[encoded data removed]",
      "text/plain": [
       "<Figure size 432x288 with 1 Axes>"
      ]
     },
     "metadata": {
      "needs_background": "light"
     },
     "output_type": "display_data"
    }
   ],
   "source": [
    "visualize_runtimes(multiprocessing(download, urls, 2), 'Multiprocessing')"
   ]
  },
  {
   "cell_type": "code",
   "execution_count": 42,
   "id": "1e66fc16",
   "metadata": {
    "hidden": true
   },
   "outputs": [
    {
     "data": {
      "text/plain": [
       "5.411108016967773"
      ]
     },
     "execution_count": 42,
     "metadata": {},
     "output_type": "execute_result"
    },
    {
     "data": {
      "image/png": "[encoded data removed]",
      "text/plain": [
       "<Figure size 432x288 with 1 Axes>"
      ]
     },
     "metadata": {
      "needs_background": "light"
     },
     "output_type": "display_data"
    }
   ],
   "source": [
    "visualize_runtimes(multiprocessing(download, urls, 4), 'Multiprocessing')"
   ]
  },
  {
   "cell_type": "markdown",
   "id": "6e16ff15",
   "metadata": {},
   "source": [
    "## IO Heavy"
   ]
  },
  {
   "cell_type": "code",
   "execution_count": 5,
   "id": "151fb61e",
   "metadata": {},
   "outputs": [],
   "source": [
    "def io_heavy(text, base):\n",
    "    start = time.time() - base\n",
    "    with open(\"output.txt\", 'w') as file:\n",
    "        file.write(text)\n",
    "    stop = time.time() - base\n",
    "    return start, stop"
   ]
  },
  {
   "cell_type": "code",
   "execution_count": 6,
   "id": "86818b27",
   "metadata": {},
   "outputs": [],
   "source": [
    "N = 12\n",
    "TEXT = ''.join([random.choice(string.ascii_lowercase) for _ in range(10**7*5)])\n",
    "TEXTS = [TEXT for _ in range(N)]"
   ]
  },
  {
   "cell_type": "code",
   "execution_count": 7,
   "id": "363c53ec",
   "metadata": {},
   "outputs": [
    {
     "data": {
      "text/plain": [
       "12"
      ]
     },
     "execution_count": 7,
     "metadata": {},
     "output_type": "execute_result"
    }
   ],
   "source": [
    "len(TEXTS)"
   ]
  },
  {
   "cell_type": "markdown",
   "id": "14b4eb88",
   "metadata": {},
   "source": [
    "### Serial"
   ]
  },
  {
   "cell_type": "code",
   "execution_count": 9,
   "id": "4a43284b",
   "metadata": {},
   "outputs": [
    {
     "name": "stdout",
     "output_type": "stream",
     "text": [
      "1.38 s ± 83.4 ms per loop (mean ± std. dev. of 7 runs, 1 loop each)\n"
     ]
    }
   ],
   "source": [
    "%timeit -n 1 [io_heavy(TEXT, 1) for _ in range(N)]"
   ]
  },
  {
   "cell_type": "markdown",
   "id": "96e5cd48",
   "metadata": {},
   "source": [
    "### Multithreading"
   ]
  },
  {
   "cell_type": "code",
   "execution_count": 10,
   "id": "efa59afa",
   "metadata": {},
   "outputs": [
    {
     "data": {
      "text/plain": [
       "1.5082006454467773"
      ]
     },
     "execution_count": 10,
     "metadata": {},
     "output_type": "execute_result"
    },
    {
     "data": {
      "image/png": "[encoded data removed]",
      "text/plain": [
       "<Figure size 432x288 with 1 Axes>"
      ]
     },
     "metadata": {
      "needs_background": "light"
     },
     "output_type": "display_data"
    }
   ],
   "source": [
    "visualize_runtimes(multithreading(io_heavy, TEXTS, 1), \"Single thread\")"
   ]
  },
  {
   "cell_type": "code",
   "execution_count": 11,
   "id": "d203c74e",
   "metadata": {},
   "outputs": [
    {
     "data": {
      "text/plain": [
       "1.138519048690796"
      ]
     },
     "execution_count": 11,
     "metadata": {},
     "output_type": "execute_result"
    },
    {
     "data": {
      "image/png": "[encoded data removed]",
      "text/plain": [
       "<Figure size 432x288 with 1 Axes>"
      ]
     },
     "metadata": {
      "needs_background": "light"
     },
     "output_type": "display_data"
    }
   ],
   "source": [
    "visualize_runtimes(multithreading(io_heavy, TEXTS, 2), THREADING_TITLE)"
   ]
  },
  {
   "cell_type": "code",
   "execution_count": 19,
   "id": "901ff457",
   "metadata": {},
   "outputs": [
    {
     "data": {
      "text/plain": [
       "1.098402976989746"
      ]
     },
     "execution_count": 19,
     "metadata": {},
     "output_type": "execute_result"
    },
    {
     "data": {
      "image/png": "[encoded data removed]",
      "text/plain": [
       "<Figure size 432x288 with 1 Axes>"
      ]
     },
     "metadata": {
      "needs_background": "light"
     },
     "output_type": "display_data"
    }
   ],
   "source": [
    "visualize_runtimes(multithreading(io_heavy, TEXTS, 4), THREADING_TITLE)"
   ]
  },
  {
   "cell_type": "markdown",
   "id": "4e64d047",
   "metadata": {
    "heading_collapsed": true
   },
   "source": [
    "### Multiprocessing"
   ]
  },
  {
   "cell_type": "code",
   "execution_count": 16,
   "id": "5f877b0f",
   "metadata": {
    "hidden": true
   },
   "outputs": [
    {
     "data": {
      "text/plain": [
       "1.7373590469360352"
      ]
     },
     "execution_count": 16,
     "metadata": {},
     "output_type": "execute_result"
    },
    {
     "data": {
      "image/png": "[encoded data removed]",
      "text/plain": [
       "<Figure size 432x288 with 1 Axes>"
      ]
     },
     "metadata": {
      "needs_background": "light"
     },
     "output_type": "display_data"
    }
   ],
   "source": [
    "visualize_runtimes(multiprocessing(io_heavy, TEXTS, 1), \"Single thread\")"
   ]
  },
  {
   "cell_type": "code",
   "execution_count": 17,
   "id": "a1f52c70",
   "metadata": {
    "hidden": true
   },
   "outputs": [
    {
     "data": {
      "text/plain": [
       "1.3008131980895996"
      ]
     },
     "execution_count": 17,
     "metadata": {},
     "output_type": "execute_result"
    },
    {
     "data": {
      "image/png": "[encoded data removed]",
      "text/plain": [
       "<Figure size 432x288 with 1 Axes>"
      ]
     },
     "metadata": {
      "needs_background": "light"
     },
     "output_type": "display_data"
    }
   ],
   "source": [
    "visualize_runtimes(multiprocessing(io_heavy, TEXTS, 2), PROCESSING_TITLE)"
   ]
  },
  {
   "cell_type": "code",
   "execution_count": 18,
   "id": "6e291c6d",
   "metadata": {
    "hidden": true
   },
   "outputs": [
    {
     "data": {
      "text/plain": [
       "1.025106430053711"
      ]
     },
     "execution_count": 18,
     "metadata": {},
     "output_type": "execute_result"
    },
    {
     "data": {
      "image/png": "[encoded data removed]",
      "text/plain": [
       "<Figure size 432x288 with 1 Axes>"
      ]
     },
     "metadata": {
      "needs_background": "light"
     },
     "output_type": "display_data"
    }
   ],
   "source": [
    "visualize_runtimes(multiprocessing(io_heavy, TEXTS, 4), PROCESSING_TITLE)"
   ]
  },
  {
   "cell_type": "markdown",
   "id": "1c2a9f4d",
   "metadata": {},
   "source": [
    "## CPU Intensive"
   ]
  },
  {
   "cell_type": "code",
   "execution_count": 20,
   "id": "6f91f219",
   "metadata": {},
   "outputs": [],
   "source": [
    "def cpu_heavy(n, base):\n",
    "    start = time.time() - base\n",
    "    count = 0\n",
    "    for _ in range(n):\n",
    "        count += 1\n",
    "    end = time.time() - base\n",
    "    return start, end"
   ]
  },
  {
   "cell_type": "code",
   "execution_count": 21,
   "id": "65c96b17",
   "metadata": {},
   "outputs": [],
   "source": [
    "N = 10**7\n",
    "ITERS = 10"
   ]
  },
  {
   "cell_type": "markdown",
   "id": "9d309052",
   "metadata": {},
   "source": [
    "### Serial"
   ]
  },
  {
   "cell_type": "code",
   "execution_count": 22,
   "id": "87a5fba0",
   "metadata": {},
   "outputs": [
    {
     "name": "stdout",
     "output_type": "stream",
     "text": [
      "4.54 s ± 189 ms per loop (mean ± std. dev. of 7 runs, 1 loop each)\n"
     ]
    }
   ],
   "source": [
    "%timeit -n 1 [cpu_heavy(N, 1) for _ in range(ITERS)]"
   ]
  },
  {
   "cell_type": "markdown",
   "id": "73c70f15",
   "metadata": {},
   "source": [
    "### Multithreading"
   ]
  },
  {
   "cell_type": "code",
   "execution_count": 23,
   "id": "4bf5d44c",
   "metadata": {},
   "outputs": [
    {
     "data": {
      "text/plain": [
       "5.193698406219482"
      ]
     },
     "execution_count": 23,
     "metadata": {},
     "output_type": "execute_result"
    },
    {
     "data": {
      "image/png": "[encoded data removed]",
      "text/plain": [
       "<Figure size 432x288 with 1 Axes>"
      ]
     },
     "metadata": {
      "needs_background": "light"
     },
     "output_type": "display_data"
    }
   ],
   "source": [
    "visualize_runtimes(multithreading(cpu_heavy, [N for _ in range(ITERS)], 1), \"Single thread\")"
   ]
  },
  {
   "cell_type": "code",
   "execution_count": 24,
   "id": "06fab68b",
   "metadata": {},
   "outputs": [
    {
     "data": {
      "text/plain": [
       "5.26215934753418"
      ]
     },
     "execution_count": 24,
     "metadata": {},
     "output_type": "execute_result"
    },
    {
     "data": {
      "image/png": "[encoded data removed]",
      "text/plain": [
       "<Figure size 432x288 with 1 Axes>"
      ]
     },
     "metadata": {
      "needs_background": "light"
     },
     "output_type": "display_data"
    }
   ],
   "source": [
    "visualize_runtimes(multithreading(cpu_heavy, [N for _ in range(ITERS)], 2), THREADING_TITLE)"
   ]
  },
  {
   "cell_type": "code",
   "execution_count": 25,
   "id": "8433746c",
   "metadata": {},
   "outputs": [
    {
     "data": {
      "text/plain": [
       "4.909423828125"
      ]
     },
     "execution_count": 25,
     "metadata": {},
     "output_type": "execute_result"
    },
    {
     "data": {
      "image/png": "[encoded data removed]",
      "text/plain": [
       "<Figure size 432x288 with 1 Axes>"
      ]
     },
     "metadata": {
      "needs_background": "light"
     },
     "output_type": "display_data"
    }
   ],
   "source": [
    "visualize_runtimes(multithreading(cpu_heavy, [N for _ in range(ITERS)], 4), THREADING_TITLE)"
   ]
  },
  {
   "cell_type": "markdown",
   "id": "40616960",
   "metadata": {},
   "source": [
    "### Multiprocessing"
   ]
  },
  {
   "cell_type": "code",
   "execution_count": 29,
   "id": "e4f1efc7",
   "metadata": {},
   "outputs": [
    {
     "data": {
      "text/plain": [
       "5.0506861209869385"
      ]
     },
     "execution_count": 29,
     "metadata": {},
     "output_type": "execute_result"
    },
    {
     "data": {
      "image/png": "[encoded data removed]",
      "text/plain": [
       "<Figure size 432x288 with 1 Axes>"
      ]
     },
     "metadata": {
      "needs_background": "light"
     },
     "output_type": "display_data"
    }
   ],
   "source": [
    "visualize_runtimes(multiprocessing(cpu_heavy, [N for _ in range(ITERS)], 1), \"Single thread\")"
   ]
  },
  {
   "cell_type": "code",
   "execution_count": 30,
   "id": "adea6e10",
   "metadata": {},
   "outputs": [
    {
     "data": {
      "text/plain": [
       "2.304680585861206"
      ]
     },
     "execution_count": 30,
     "metadata": {},
     "output_type": "execute_result"
    },
    {
     "data": {
      "image/png": "[encoded data removed]",
      "text/plain": [
       "<Figure size 432x288 with 1 Axes>"
      ]
     },
     "metadata": {
      "needs_background": "light"
     },
     "output_type": "display_data"
    }
   ],
   "source": [
    "visualize_runtimes(multiprocessing(cpu_heavy, [N for _ in range(ITERS)], 2), PROCESSING_TITLE)"
   ]
  },
  {
   "cell_type": "code",
   "execution_count": 31,
   "id": "bd26e665",
   "metadata": {},
   "outputs": [
    {
     "data": {
      "text/plain": [
       "1.3676512241363525"
      ]
     },
     "execution_count": 31,
     "metadata": {},
     "output_type": "execute_result"
    },
    {
     "data": {
      "image/png": "[encoded data removed]",
      "text/plain": [
       "<Figure size 432x288 with 1 Axes>"
      ]
     },
     "metadata": {
      "needs_background": "light"
     },
     "output_type": "display_data"
    }
   ],
   "source": [
    "visualize_runtimes(multiprocessing(cpu_heavy, [N for _ in range(ITERS)], 4), PROCESSING_TITLE)"
   ]
  }
 ],
 "metadata": {
  "kernelspec": {
   "display_name": "Python 3 (ipykernel)",
   "language": "python",
   "name": "python3"
  },
  "language_info": {
   "codemirror_mode": {
    "name": "ipython",
    "version": 3
   },
   "file_extension": ".py",
   "mimetype": "text/x-python",
   "name": "python",
   "nbconvert_exporter": "python",
   "pygments_lexer": "ipython3",
   "version": "3.8.13"
  }
 },
 "nbformat": 4,
 "nbformat_minor": 5
}
