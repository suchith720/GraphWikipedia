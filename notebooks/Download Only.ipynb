{
 "cells": [
  {
   "cell_type": "markdown",
   "metadata": {},
   "source": [
    "# Downloading all Wikipedia Articles \n",
    "\n",
    "This notebook implements the downloading of all Wikipedia articles. I kept the actual download out of the main notebook because of the lengthy output. "
   ]
  },
  {
   "cell_type": "markdown",
   "metadata": {},
   "source": [
    "## Find Files to Download"
   ]
  },
  {
   "cell_type": "code",
   "execution_count": 1,
   "metadata": {},
   "outputs": [
    {
     "name": "stdout",
     "output_type": "stream",
     "text": [
      "There are 55 files to download.\n"
     ]
    }
   ],
   "source": [
    "import requests\n",
    "from bs4 import BeautifulSoup\n",
    "from timeit import default_timer as timer\n",
    "import os\n",
    "\n",
    "base_url = 'https://dumps.wikimedia.org/enwiki/'\n",
    "index = requests.get(base_url).text\n",
    "soup_index = BeautifulSoup(index, 'html.parser')\n",
    "\n",
    "# Find the links that are dates of dumps\n",
    "dumps = [a['href'] for a in soup_index.find_all('a') if \n",
    "         a.text == '20180901/']\n",
    "\n",
    "dumps_url = base_url + dumps[0]\n",
    "\n",
    "# Retrieve the html\n",
    "dump_html = requests.get(dumps_url).text\n",
    "\n",
    "# Convert to a soup\n",
    "soup_dump = BeautifulSoup(dump_html, 'html.parser')\n",
    "\n",
    "files = []\n",
    "for file in soup_dump.find_all('li', {'class': 'file'}):\n",
    "    text = file.text\n",
    "    if 'pages-articles' in text:\n",
    "        files.append((text.split()[0], text.split()[1:]))\n",
    "        \n",
    "files_to_download = [file[0] for file in files if '.xml-p' in file[0]]\n",
    "print(f'There are {len(files_to_download)} files to download.')"
   ]
  },
  {
   "cell_type": "markdown",
   "metadata": {},
   "source": [
    "## Download Files Using Keras\n",
    "\n",
    "Files will be saved in `/.keras/datasets`."
   ]
  },
  {
   "cell_type": "code",
   "execution_count": 2,
   "metadata": {},
   "outputs": [
    {
     "name": "stderr",
     "output_type": "stream",
     "text": [
      "Using TensorFlow backend.\n"
     ]
    },
    {
     "name": "stdout",
     "output_type": "stream",
     "text": [
      "Downloading data from https://dumps.wikimedia.org/enwiki/20180901/enwiki-20180901-pages-articles1.xml-p10p30302.bz2\n",
      "173301760/173297433 [==============================] - 84s 0us/step\n",
      "Downloading data from https://dumps.wikimedia.org/enwiki/20180901/enwiki-20180901-pages-articles2.xml-p30304p88444.bz2\n",
      "205299712/205296679 [==============================] - 98s 0us/step\n",
      "Downloading data from https://dumps.wikimedia.org/enwiki/20180901/enwiki-20180901-pages-articles3.xml-p88445p200507.bz2\n",
      "263929856/263926215 [==============================] - 129s 0us/step\n",
      "Downloading data from https://dumps.wikimedia.org/enwiki/20180901/enwiki-20180901-pages-articles4.xml-p200511p352689.bz2\n",
      "269828096/269819994 [==============================] - 131s 0us/step\n",
      "Downloading data from https://dumps.wikimedia.org/enwiki/20180901/enwiki-20180901-pages-articles5.xml-p352690p565312.bz2\n",
      "295403520/295396403 [==============================] - 142s 0us/step\n",
      "Downloading data from https://dumps.wikimedia.org/enwiki/20180901/enwiki-20180901-pages-articles6.xml-p565314p892912.bz2\n",
      "318644224/318642489 [==============================] - 154s 0us/step\n",
      "Downloading data from https://dumps.wikimedia.org/enwiki/20180901/enwiki-20180901-pages-articles7.xml-p892914p1268691.bz2\n",
      "326574080/326572014 [==============================] - 159s 0us/step\n",
      "Downloading data from https://dumps.wikimedia.org/enwiki/20180901/enwiki-20180901-pages-articles8.xml-p1268693p1791079.bz2\n",
      "357326848/357318792 [==============================] - 173s 0us/step\n",
      "Downloading data from https://dumps.wikimedia.org/enwiki/20180901/enwiki-20180901-pages-articles9.xml-p1791081p2336422.bz2\n",
      "346554368/346550202 [==============================] - 168s 0us/step\n",
      "Downloading data from https://dumps.wikimedia.org/enwiki/20180901/enwiki-20180901-pages-articles10.xml-p2336425p3046511.bz2\n",
      "362962944/362956112 [==============================] - 176s 0us/step\n",
      "Downloading data from https://dumps.wikimedia.org/enwiki/20180901/enwiki-20180901-pages-articles11.xml-p3046517p3926861.bz2\n",
      "383746048/383739076 [==============================] - 187s 0us/step\n",
      "Downloading data from https://dumps.wikimedia.org/enwiki/20180901/enwiki-20180901-pages-articles12.xml-p3926864p5040435.bz2\n",
      "396771328/396765417 [==============================] - 193s 0us/step\n",
      "Downloading data from https://dumps.wikimedia.org/enwiki/20180901/enwiki-20180901-pages-articles13.xml-p5040438p6197593.bz2\n",
      "390840320/390834855 [==============================] - 190s 0us/step\n",
      "Downloading data from https://dumps.wikimedia.org/enwiki/20180901/enwiki-20180901-pages-articles14.xml-p6197599p7697599.bz2\n",
      "397139968/397133836 [==============================] - 191s 0us/step\n",
      "Downloading data from https://dumps.wikimedia.org/enwiki/20180901/enwiki-20180901-pages-articles14.xml-p7697599p7744799.bz2\n",
      "11739136/11733713 [==============================] - 5s 0us/step\n",
      "Downloading data from https://dumps.wikimedia.org/enwiki/20180901/enwiki-20180901-pages-articles15.xml-p7744803p9244803.bz2\n",
      "374267904/374264421 [==============================] - 180s 0us/step\n",
      "Downloading data from https://dumps.wikimedia.org/enwiki/20180901/enwiki-20180901-pages-articles15.xml-p9244803p9518046.bz2\n",
      "62021632/62021166 [==============================] - 30s 0us/step\n",
      "Downloading data from https://dumps.wikimedia.org/enwiki/20180901/enwiki-20180901-pages-articles16.xml-p9518059p11018059.bz2\n",
      "310018048/310012600 [==============================] - 148s 0us/step\n",
      "Downloading data from https://dumps.wikimedia.org/enwiki/20180901/enwiki-20180901-pages-articles16.xml-p11018059p11539266.bz2\n",
      "118915072/118908795 [==============================] - 58s 0us/step\n",
      "Downloading data from https://dumps.wikimedia.org/enwiki/20180901/enwiki-20180901-pages-articles17.xml-p11539268p13039268.bz2\n",
      "369377280/369371949 [==============================] - 180s 0us/step\n",
      "Downloading data from https://dumps.wikimedia.org/enwiki/20180901/enwiki-20180901-pages-articles17.xml-p13039268p13693066.bz2\n",
      "152780800/152780579 [==============================] - 74s 0us/step\n",
      "Downloading data from https://dumps.wikimedia.org/enwiki/20180901/enwiki-20180901-pages-articles18.xml-p13693075p15193075.bz2\n",
      "352206848/352199415 [==============================] - 171s 0us/step\n",
      "Downloading data from https://dumps.wikimedia.org/enwiki/20180901/enwiki-20180901-pages-articles18.xml-p15193075p16120541.bz2\n",
      "195510272/195502671 [==============================] - 95s 0us/step\n",
      "Downloading data from https://dumps.wikimedia.org/enwiki/20180901/enwiki-20180901-pages-articles19.xml-p16120548p17620548.bz2\n",
      "292790272/292787883 [==============================] - 142s 0us/step\n",
      "Downloading data from https://dumps.wikimedia.org/enwiki/20180901/enwiki-20180901-pages-articles19.xml-p17620548p18754723.bz2\n",
      "243793920/243793269 [==============================] - 119s 0us/step\n",
      "Downloading data from https://dumps.wikimedia.org/enwiki/20180901/enwiki-20180901-pages-articles20.xml-p18754736p20254736.bz2\n",
      "318742528/318741293 [==============================] - 154s 0us/step\n",
      "Downloading data from https://dumps.wikimedia.org/enwiki/20180901/enwiki-20180901-pages-articles20.xml-p20254736p21222156.bz2\n",
      "205840384/205837652 [==============================] - 100s 0us/step\n",
      "Downloading data from https://dumps.wikimedia.org/enwiki/20180901/enwiki-20180901-pages-articles21.xml-p21222161p22722161.bz2\n",
      "332414976/332412865 [==============================] - 162s 0us/step\n",
      "Downloading data from https://dumps.wikimedia.org/enwiki/20180901/enwiki-20180901-pages-articles21.xml-p22722161p23927980.bz2\n",
      "293986304/293978762 [==============================] - 142s 0us/step\n",
      "Downloading data from https://dumps.wikimedia.org/enwiki/20180901/enwiki-20180901-pages-articles22.xml-p23927984p25427984.bz2\n",
      "355729408/355729301 [==============================] - 178s 0us/step\n",
      "Downloading data from https://dumps.wikimedia.org/enwiki/20180901/enwiki-20180901-pages-articles22.xml-p25427984p26823658.bz2\n",
      "308264960/308257431 [==============================] - 150s 0us/step\n",
      "Downloading data from https://dumps.wikimedia.org/enwiki/20180901/enwiki-20180901-pages-articles23.xml-p26823661p28323661.bz2\n",
      "333619200/333612732 [==============================] - 161s 0us/step\n",
      "Downloading data from https://dumps.wikimedia.org/enwiki/20180901/enwiki-20180901-pages-articles23.xml-p28323661p29823661.bz2\n",
      "287481856/287476692 [==============================] - 142s 0us/step\n",
      "Downloading data from https://dumps.wikimedia.org/enwiki/20180901/enwiki-20180901-pages-articles23.xml-p29823661p30503448.bz2\n",
      "129556480/129550494 [==============================] - 62s 0us/step\n",
      "Downloading data from https://dumps.wikimedia.org/enwiki/20180901/enwiki-20180901-pages-articles24.xml-p30503454p32003454.bz2\n",
      "369803264/369803023 [==============================] - 183s 0us/step\n",
      "Downloading data from https://dumps.wikimedia.org/enwiki/20180901/enwiki-20180901-pages-articles24.xml-p32003454p33503454.bz2\n",
      "351477760/351475126 [==============================] - 173s 0us/step\n",
      "Downloading data from https://dumps.wikimedia.org/enwiki/20180901/enwiki-20180901-pages-articles24.xml-p33503454p33952815.bz2\n",
      "98623488/98620498 [==============================] - 48s 0us/step\n",
      "Downloading data from https://dumps.wikimedia.org/enwiki/20180901/enwiki-20180901-pages-articles25.xml-p33952817p35452817.bz2\n",
      "314064896/314060532 [==============================] - 153s 0us/step\n",
      "Downloading data from https://dumps.wikimedia.org/enwiki/20180901/enwiki-20180901-pages-articles25.xml-p35452817p36952817.bz2\n",
      "335618048/335616487 [==============================] - 169s 1us/step\n",
      "Downloading data from https://dumps.wikimedia.org/enwiki/20180901/enwiki-20180901-pages-articles25.xml-p36952817p38067198.bz2\n",
      "237715456/237714351 [==============================] - 115s 0us/step\n",
      "Downloading data from https://dumps.wikimedia.org/enwiki/20180901/enwiki-20180901-pages-articles26.xml-p38067204p39567204.bz2\n",
      "338141184/338139090 [==============================] - 164s 0us/step\n",
      "Downloading data from https://dumps.wikimedia.org/enwiki/20180901/enwiki-20180901-pages-articles26.xml-p39567204p41067204.bz2\n",
      "332759040/332751761 [==============================] - 159s 0us/step\n",
      "Downloading data from https://dumps.wikimedia.org/enwiki/20180901/enwiki-20180901-pages-articles26.xml-p41067204p42567204.bz2\n"
     ]
    },
    {
     "name": "stdout",
     "output_type": "stream",
     "text": [
      "336871424/336867753 [==============================] - 168s 0us/step\n",
      "Downloading data from https://dumps.wikimedia.org/enwiki/20180901/enwiki-20180901-pages-articles26.xml-p42567204p42663461.bz2\n",
      "21291008/21285184 [==============================] - 10s 0us/step\n",
      "Downloading data from https://dumps.wikimedia.org/enwiki/20180901/enwiki-20180901-pages-articles27.xml-p42663464p44163464.bz2\n",
      "339697664/339696813 [==============================] - 164s 0us/step\n",
      "Downloading data from https://dumps.wikimedia.org/enwiki/20180901/enwiki-20180901-pages-articles27.xml-p44163464p45663464.bz2\n",
      "300072960/300065895 [==============================] - 145s 0us/step\n",
      "Downloading data from https://dumps.wikimedia.org/enwiki/20180901/enwiki-20180901-pages-articles27.xml-p45663464p47163464.bz2\n",
      "240844800/240841031 [==============================] - 117s 0us/step\n",
      "Downloading data from https://dumps.wikimedia.org/enwiki/20180901/enwiki-20180901-pages-articles27.xml-p47163464p48663464.bz2\n",
      "300433408/300426455 [==============================] - 144s 0us/step\n",
      "Downloading data from https://dumps.wikimedia.org/enwiki/20180901/enwiki-20180901-pages-articles27.xml-p48663464p50163464.bz2\n",
      "283770880/283768569 [==============================] - 139s 0us/step\n",
      "Downloading data from https://dumps.wikimedia.org/enwiki/20180901/enwiki-20180901-pages-articles27.xml-p50163464p51663464.bz2\n",
      "308076544/308073704 [==============================] - 150s 0us/step\n",
      "Downloading data from https://dumps.wikimedia.org/enwiki/20180901/enwiki-20180901-pages-articles27.xml-p51663464p53163464.bz2\n",
      "288735232/288734493 [==============================] - 143s 0us/step\n",
      "Downloading data from https://dumps.wikimedia.org/enwiki/20180901/enwiki-20180901-pages-articles27.xml-p53163464p54663464.bz2\n",
      "309215232/309209799 [==============================] - 148s 0us/step\n",
      "Downloading data from https://dumps.wikimedia.org/enwiki/20180901/enwiki-20180901-pages-articles27.xml-p54663464p56163464.bz2\n",
      "278061056/278056339 [==============================] - 134s 0us/step\n",
      "Downloading data from https://dumps.wikimedia.org/enwiki/20180901/enwiki-20180901-pages-articles27.xml-p56163464p57663464.bz2\n",
      "329474048/329466250 [==============================] - 159s 0us/step\n",
      "Downloading data from https://dumps.wikimedia.org/enwiki/20180901/enwiki-20180901-pages-articles27.xml-p57663464p58360959.bz2\n",
      "146120704/146112915 [==============================] - 71s 0us/step\n",
      "7491 total seconds elapsed.\n"
     ]
    }
   ],
   "source": [
    "from keras.utils import get_file\n",
    "\n",
    "data_paths = []\n",
    "\n",
    "start = timer()\n",
    "for file in files_to_download:\n",
    "    data_paths.append(get_file(file, dumps_url + file))\n",
    "    \n",
    "end = timer()\n",
    "print(f'{round(end - start)} total seconds elapsed.')"
   ]
  },
  {
   "cell_type": "markdown",
   "metadata": {},
   "source": [
    "The total download time was just over 2 hours. That's not bad for all of Wikipedia (at leas the English articles).\n",
    "\n",
    "This process could also be done in parallel using multithreading or multiprocessing. However, I have run into issues running parallel jobs donwloading files because the code was making too many requests to the server."
   ]
  },
  {
   "cell_type": "code",
   "execution_count": null,
   "metadata": {},
   "outputs": [],
   "source": [
    " "
   ]
  }
 ],
 "metadata": {
  "kernelspec": {
   "display_name": "Python 3 (ipykernel)",
   "language": "python",
   "name": "python3"
  },
  "language_info": {
   "codemirror_mode": {
    "name": "ipython",
    "version": 3
   },
   "file_extension": ".py",
   "mimetype": "text/x-python",
   "name": "python",
   "nbconvert_exporter": "python",
   "pygments_lexer": "ipython3",
   "version": "3.8.13"
  }
 },
 "nbformat": 4,
 "nbformat_minor": 2
}
