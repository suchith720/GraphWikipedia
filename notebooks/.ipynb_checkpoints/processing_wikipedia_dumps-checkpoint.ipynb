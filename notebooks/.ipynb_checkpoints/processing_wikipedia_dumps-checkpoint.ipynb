{
 "cells": [
  {
   "cell_type": "code",
   "execution_count": 1,
   "id": "c9a11e81",
   "metadata": {},
   "outputs": [],
   "source": [
    "import os\n",
    "import requests\n",
    "import pandas as pd\n",
    "from matplotlib import pyplot as plt\n",
    "from bs4 import BeautifulSoup"
   ]
  },
  {
   "cell_type": "code",
   "execution_count": 2,
   "id": "31b2cbbd",
   "metadata": {},
   "outputs": [],
   "source": [
    "%matplotlib inline"
   ]
  },
  {
   "cell_type": "markdown",
   "id": "3448120f",
   "metadata": {},
   "source": [
    "### Downloading Wikipedia Dumps"
   ]
  },
  {
   "cell_type": "code",
   "execution_count": 3,
   "id": "99a84ac5",
   "metadata": {},
   "outputs": [],
   "source": [
    "project = 'enwiki'\n",
    "base_url = f'https://dumps.wikimedia.org/{project}/'"
   ]
  },
  {
   "cell_type": "code",
   "execution_count": 4,
   "id": "ded331e8",
   "metadata": {},
   "outputs": [
    {
     "data": {
      "text/plain": [
       "'https://dumps.wikimedia.org/enwiki/'"
      ]
     },
     "execution_count": 4,
     "metadata": {},
     "output_type": "execute_result"
    }
   ],
   "source": [
    "base_url"
   ]
  },
  {
   "cell_type": "code",
   "execution_count": 5,
   "id": "dc8a548f",
   "metadata": {},
   "outputs": [
    {
     "data": {
      "text/plain": [
       "'<html>\\r\\n<head><title>Index of /enwiki/</title></head>\\r\\n<body bgcolor=\"white\">\\r\\n<h1>Index of /enwiki/</h1><hr><pre><a href=\"../\">../</a>\\r\\n<a href=\"20220201/\">20220201/</a>                                          21-Mar-2022 01:28                   -\\r\\n<a href=\"20220220/\">20220220/</a>                                          02-Apr-2022 01:27                   -\\r\\n<a href=\"20220301/\">20220301/</a>                                          02-May-2022 01:25                   -\\r\\n<a href=\"20220320/\">20220320/</a>                                          02-May-2022 01:27                   -\\r\\n<a href=\"20220401/\">20220401/</a>                                          07-Apr-2022 21:43                   -\\r\\n<a href=\"20220420/\">20220420/</a>                                          22-Apr-2022 07:09                   -\\r\\n<a href=\"20220501/\">20220501/</a>                                          03-May-2022 05:35                   -\\r\\n<a href=\"latest/\">latest/</a>                                            03-May-2022 05:35                   -\\r\\n</pre><hr></body>\\r\\n</html>\\r\\n'"
      ]
     },
     "execution_count": 5,
     "metadata": {},
     "output_type": "execute_result"
    }
   ],
   "source": [
    "index = requests.get(base_url).text\n",
    "index"
   ]
  },
  {
   "cell_type": "code",
   "execution_count": 6,
   "id": "8bb0399e",
   "metadata": {},
   "outputs": [],
   "source": [
    "soup_index = BeautifulSoup(index, 'html.parser')"
   ]
  },
  {
   "cell_type": "code",
   "execution_count": 7,
   "id": "d65f1de4",
   "metadata": {},
   "outputs": [
    {
     "data": {
      "text/plain": [
       "['../',\n",
       " '20220201/',\n",
       " '20220220/',\n",
       " '20220301/',\n",
       " '20220320/',\n",
       " '20220401/',\n",
       " '20220420/',\n",
       " '20220501/',\n",
       " 'latest/']"
      ]
     },
     "execution_count": 7,
     "metadata": {},
     "output_type": "execute_result"
    }
   ],
   "source": [
    "dumps = [ a.text for a in soup_index.find_all('a') if a.has_attr('href')]\n",
    "dumps"
   ]
  },
  {
   "cell_type": "code",
   "execution_count": 8,
   "id": "7c7dfa6d",
   "metadata": {},
   "outputs": [],
   "source": [
    "dump_url = base_url + '20220420/'\n",
    "dump_html = requests.get(dump_url).text\n",
    "\n",
    "soup_dump = BeautifulSoup(dump_html, 'html.parser')"
   ]
  },
  {
   "cell_type": "code",
   "execution_count": 9,
   "id": "ca71c034",
   "metadata": {},
   "outputs": [
    {
     "data": {
      "text/plain": [
       "[<li class=\"file\"><a href=\"/enwiki/20220420/enwiki-20220420-pages-articles-multistream.xml.bz2\">enwiki-20220420-pages-articles-multistream.xml.bz2</a> 19.3 GB</li>,\n",
       " <li class=\"file\"><a href=\"/enwiki/20220420/enwiki-20220420-pages-articles-multistream-index.txt.bz2\">enwiki-20220420-pages-articles-multistream-index.txt.bz2</a> 230.0 MB</li>,\n",
       " <li class=\"file\"><a href=\"/enwiki/20220420/enwiki-20220420-pages-articles-multistream1.xml-p1p41242.bz2\">enwiki-20220420-pages-articles-multistream1.xml-p1p41242.bz2</a> 247.4 MB</li>,\n",
       " <li class=\"file\"><a href=\"/enwiki/20220420/enwiki-20220420-pages-articles-multistream-index1.txt-p1p41242.bz2\">enwiki-20220420-pages-articles-multistream-index1.txt-p1p41242.bz2</a> 221 KB</li>]"
      ]
     },
     "execution_count": 9,
     "metadata": {},
     "output_type": "execute_result"
    }
   ],
   "source": [
    "soup_dump.find_all('li', {'class': 'file'}, limit=10)[:4]"
   ]
  },
  {
   "cell_type": "code",
   "execution_count": 10,
   "id": "1ee2189b",
   "metadata": {},
   "outputs": [],
   "source": [
    "files = []\n",
    "\n",
    "for file in soup_dump.find_all('li', {'class': 'file'}):\n",
    "    text = file.text\n",
    "    files.append((text.split(' ')[0], text.split(' ')[1:]))"
   ]
  },
  {
   "cell_type": "code",
   "execution_count": 11,
   "id": "769b6eb1",
   "metadata": {},
   "outputs": [
    {
     "data": {
      "text/plain": [
       "[('enwiki-20220420-pages-articles-multistream.xml.bz2', ['19.3', 'GB']),\n",
       " ('enwiki-20220420-pages-articles-multistream-index.txt.bz2', ['230.0', 'MB']),\n",
       " ('enwiki-20220420-pages-articles-multistream1.xml-p1p41242.bz2',\n",
       "  ['247.4', 'MB']),\n",
       " ('enwiki-20220420-pages-articles-multistream-index1.txt-p1p41242.bz2',\n",
       "  ['221', 'KB'])]"
      ]
     },
     "execution_count": 11,
     "metadata": {},
     "output_type": "execute_result"
    }
   ],
   "source": [
    "files[:4]"
   ]
  },
  {
   "cell_type": "code",
   "execution_count": 12,
   "id": "594cad80",
   "metadata": {},
   "outputs": [],
   "source": [
    "file_to_download = [ file[0] for file in files \n",
    "                    if '.xml-p' in file[0] and 'pages-articles' in file[0] and 'multistream' in file[0]]"
   ]
  },
  {
   "cell_type": "code",
   "execution_count": 13,
   "id": "4053e9ed",
   "metadata": {},
   "outputs": [
    {
     "data": {
      "text/plain": [
       "['enwiki-20220420-pages-articles-multistream27.xml-p63975910p65475909.bz2',\n",
       " 'enwiki-20220420-pages-articles-multistream27.xml-p65475910p66975909.bz2',\n",
       " 'enwiki-20220420-pages-articles-multistream27.xml-p66975910p68475909.bz2',\n",
       " 'enwiki-20220420-pages-articles-multistream27.xml-p68475910p69975909.bz2',\n",
       " 'enwiki-20220420-pages-articles-multistream27.xml-p69975910p70585441.bz2']"
      ]
     },
     "execution_count": 13,
     "metadata": {},
     "output_type": "execute_result"
    }
   ],
   "source": [
    "file_to_download[-5:]"
   ]
  },
  {
   "cell_type": "code",
   "execution_count": null,
   "id": "37d5471b",
   "metadata": {},
   "outputs": [],
   "source": [
    "import sys\n",
    "import ssl\n",
    "import tensorflow as tf\n",
    "\n",
    "ssl._create_default_https_context = ssl._create_unverified_context\n",
    "dataset_home = '/home/scai/phd/aiz218323/scratch/XML/wikipedia-data-science/'"
   ]
  },
  {
   "cell_type": "code",
   "execution_count": null,
   "id": "ea48f80d",
   "metadata": {},
   "outputs": [],
   "source": [
    "data_path = []\n",
    "file_info = []\n",
    "\n",
    "\n",
    "for file in file_to_download:\n",
    "    path = f'{dataset_home}/datasets/{file}'\n",
    "    \n",
    "    if not os.path.exists(path):\n",
    "        data_path.append( tf.keras.utils.get_file(origin=f'{dump_url}/{file}', cache_dir=dataset_home) )\n",
    "    else:\n",
    "        data_path.append(path)\n",
    "        \n",
    "    file_size = os.stat(path).st_size/1e6\n",
    "    file_articles = int(file.split('p')[-1].split('.')[0]) - int(file.split('p')[-2])\n",
    "    file_info.append((file, file_size, file_articles))"
   ]
  },
  {
   "cell_type": "markdown",
   "id": "bfe44841",
   "metadata": {},
   "source": [
    "__Looking at the size of the files.__"
   ]
  },
  {
   "cell_type": "code",
   "execution_count": 167,
   "id": "d6ddc712",
   "metadata": {},
   "outputs": [
    {
     "data": {
      "text/html": [
       "<div>\n",
       "<style scoped>\n",
       "    .dataframe tbody tr th:only-of-type {\n",
       "        vertical-align: middle;\n",
       "    }\n",
       "\n",
       "    .dataframe tbody tr th {\n",
       "        vertical-align: top;\n",
       "    }\n",
       "\n",
       "    .dataframe thead th {\n",
       "        text-align: right;\n",
       "    }\n",
       "</style>\n",
       "<table border=\"1\" class=\"dataframe\">\n",
       "  <thead>\n",
       "    <tr style=\"text-align: right;\">\n",
       "      <th></th>\n",
       "      <th>filename</th>\n",
       "      <th>size (MB)</th>\n",
       "      <th>--</th>\n",
       "    </tr>\n",
       "  </thead>\n",
       "  <tbody>\n",
       "    <tr>\n",
       "      <th>0</th>\n",
       "      <td>enwiki-20220420-pages-articles-multistream9.xm...</td>\n",
       "      <td>556.144802</td>\n",
       "      <td>1109141</td>\n",
       "    </tr>\n",
       "    <tr>\n",
       "      <th>1</th>\n",
       "      <td>enwiki-20220420-pages-articles-multistream10.x...</td>\n",
       "      <td>549.290108</td>\n",
       "      <td>1353963</td>\n",
       "    </tr>\n",
       "    <tr>\n",
       "      <th>2</th>\n",
       "      <td>enwiki-20220420-pages-articles-multistream11.x...</td>\n",
       "      <td>533.662197</td>\n",
       "      <td>1499999</td>\n",
       "    </tr>\n",
       "    <tr>\n",
       "      <th>3</th>\n",
       "      <td>enwiki-20220420-pages-articles-multistream8.xm...</td>\n",
       "      <td>512.258438</td>\n",
       "      <td>802148</td>\n",
       "    </tr>\n",
       "  </tbody>\n",
       "</table>\n",
       "</div>"
      ],
      "text/plain": [
       "                                            filename   size (MB)       --\n",
       "0  enwiki-20220420-pages-articles-multistream9.xm...  556.144802  1109141\n",
       "1  enwiki-20220420-pages-articles-multistream10.x...  549.290108  1353963\n",
       "2  enwiki-20220420-pages-articles-multistream11.x...  533.662197  1499999\n",
       "3  enwiki-20220420-pages-articles-multistream8.xm...  512.258438   802148"
      ]
     },
     "execution_count": 167,
     "metadata": {},
     "output_type": "execute_result"
    }
   ],
   "source": [
    "pd.DataFrame(sorted(file_info, key=lambda x: x[1], reverse=True)[:4], columns=['filename', 'size (MB)', '--'])"
   ]
  },
  {
   "cell_type": "code",
   "execution_count": 168,
   "id": "e730ddb5",
   "metadata": {},
   "outputs": [
    {
     "name": "stdout",
     "output_type": "stream",
     "text": [
      "Number of partitions : 62\n"
     ]
    }
   ],
   "source": [
    "print(f\"Number of partitions : {len(file_info)}\")"
   ]
  },
  {
   "cell_type": "code",
   "execution_count": 150,
   "id": "2f17088a",
   "metadata": {},
   "outputs": [
    {
     "data": {
      "text/plain": [
       "'/home/scai/phd/aiz218323/scratch/XML/wikipedia-data-science/datasets'"
      ]
     },
     "execution_count": 150,
     "metadata": {},
     "output_type": "execute_result"
    }
   ],
   "source": [
    "dataset_home"
   ]
  },
  {
   "cell_type": "code",
   "execution_count": 139,
   "id": "b0075f20",
   "metadata": {},
   "outputs": [
    {
     "data": {
      "text/plain": [
       "'/home/scai/phd/aiz218323/.keras/datasets/enwiki-20220420-pages-articles-multistream1.xml-p1p41242.bz2'"
      ]
     },
     "execution_count": 139,
     "metadata": {},
     "output_type": "execute_result"
    }
   ],
   "source": [
    "data_path[0]"
   ]
  },
  {
   "cell_type": "code",
   "execution_count": 140,
   "id": "dca33210",
   "metadata": {},
   "outputs": [
    {
     "data": {
      "text/plain": [
       "[('enwiki-20220420-pages-articles-multistream1.xml-p1p41242.bz2',\n",
       "  259.423102,\n",
       "  41241)]"
      ]
     },
     "execution_count": 140,
     "metadata": {},
     "output_type": "execute_result"
    }
   ],
   "source": [
    "file_info"
   ]
  },
  {
   "cell_type": "code",
   "execution_count": 129,
   "id": "b533adcb",
   "metadata": {},
   "outputs": [],
   "source": [
    "import bz2\n",
    "import subprocess"
   ]
  },
  {
   "cell_type": "code",
   "execution_count": 141,
   "id": "12489967",
   "metadata": {},
   "outputs": [],
   "source": [
    "lines = []\n",
    "for i, line in enumerate(bz2.BZ2File(data_path[0], 'r')):\n",
    "    lines.append(line)\n",
    "    break"
   ]
  },
  {
   "cell_type": "code",
   "execution_count": 142,
   "id": "385127e8",
   "metadata": {},
   "outputs": [
    {
     "data": {
      "text/plain": [
       "[b'<mediawiki xmlns=\"http://www.mediawiki.org/xml/export-0.10/\" xmlns:xsi=\"http://www.w3.org/2001/XMLSchema-instance\" xsi:schemaLocation=\"http://www.mediawiki.org/xml/export-0.10/ http://www.mediawiki.org/xml/export-0.10.xsd\" version=\"0.10\" xml:lang=\"en\">\\n']"
      ]
     },
     "execution_count": 142,
     "metadata": {},
     "output_type": "execute_result"
    }
   ],
   "source": [
    "lines"
   ]
  }
 ],
 "metadata": {
  "kernelspec": {
   "display_name": "Python 3 (ipykernel)",
   "language": "python",
   "name": "python3"
  },
  "language_info": {
   "codemirror_mode": {
    "name": "ipython",
    "version": 3
   },
   "file_extension": ".py",
   "mimetype": "text/x-python",
   "name": "python",
   "nbconvert_exporter": "python",
   "pygments_lexer": "ipython3",
   "version": "3.8.13"
  }
 },
 "nbformat": 4,
 "nbformat_minor": 5
}
