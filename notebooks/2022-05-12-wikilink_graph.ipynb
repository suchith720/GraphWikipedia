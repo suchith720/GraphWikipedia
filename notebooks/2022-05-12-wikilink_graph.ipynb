{
 "cells": [
  {
   "cell_type": "markdown",
   "id": "5abaa218",
   "metadata": {},
   "source": [
    "# Wikilink Graph - Part 1"
   ]
  },
  {
   "cell_type": "code",
   "execution_count": 8,
   "id": "fd643326",
   "metadata": {},
   "outputs": [],
   "source": [
    "import os\n",
    "import requests\n",
    "from bs4 import BeautifulSoup"
   ]
  },
  {
   "cell_type": "markdown",
   "id": "c210add7",
   "metadata": {},
   "source": [
    "In this blog, we will see how to programatically download wikipedia dumps from the internet."
   ]
  },
  {
   "cell_type": "markdown",
   "id": "b1c7c6a0",
   "metadata": {},
   "source": [
    "We could have downloaded the data manually by going to the website [Wikipedia Dumps](https://dumps.wikimedia.org/), reading the text present to there to navigate through the hyperlinks to download the desired data.\n",
    "\n",
    "That's no fun, so we are now going to do the same thing but programtically by requesting for the webpage present at the link and then parsing the page to extract the hyperlinks to do the same thing we did manually."
   ]
  },
  {
   "cell_type": "markdown",
   "id": "6d7cbf40",
   "metadata": {},
   "source": [
    "## Dump information"
   ]
  },
  {
   "cell_type": "markdown",
   "id": "8a39a2e6",
   "metadata": {},
   "source": [
    "The first thing we will do is to get the dates of the dumps on the [wikipedia dumps](https://dumps.wikimedia.org/) website, the Wikimedia organization only hosts recent data dumps on their website and the older dumps could be found on [Internet Archive](https://archive.org/)."
   ]
  },
  {
   "cell_type": "markdown",
   "id": "e890f1c1",
   "metadata": {},
   "source": [
    "In this blog we will work with the English wikipedia dumps, so that is what is specified by `project='enwiki'`. We will request for the webpage at https://dumps.wikimedia.org/enwiki/ to get information on the dates. Below we can see the html file that was returned."
   ]
  },
  {
   "cell_type": "code",
   "execution_count": 5,
   "id": "cfdd6509",
   "metadata": {},
   "outputs": [
    {
     "data": {
      "text/plain": [
       "'<html>\\r\\n<head><title>Index of /enwiki/</title></head>\\r\\n<body bgcolor=\"white\">\\r\\n<h1>Index of /enwiki/</h1><hr><pre><a href=\"../\">../</a>\\r\\n<a href=\"20220201/\">20220201/</a>                                          21-Mar-2022 01:28                   -\\r\\n<a href=\"20220220/\">20220220/</a>                                          02-Apr-2022 01:27                   -\\r\\n<a href=\"20220301/\">20220301/</a>                                          02-May-2022 01:25                   -\\r\\n<a href=\"20220320/\">20220320/</a>                                          02-May-2022 01:27                   -\\r\\n<a href=\"20220401/\">20220401/</a>                                          07-Apr-2022 21:43                   -\\r\\n<a href=\"20220420/\">20220420/</a>                                          22-Apr-2022 07:09                   -\\r\\n<a href=\"20220501/\">20220501/</a>                                          12-May-2022 10:25                   -\\r\\n<a href=\"latest/\">latest/</a>                                            12-May-2022 10:25                   -\\r\\n</pre><hr></body>\\r\\n</html>\\r\\n'"
      ]
     },
     "execution_count": 5,
     "metadata": {},
     "output_type": "execute_result"
    }
   ],
   "source": [
    "project = 'enwiki'\n",
    "base_url = f'https://dumps.wikimedia.org/{project}/'\n",
    "index = requests.get(base_url).text\n",
    "index"
   ]
  },
  {
   "cell_type": "markdown",
   "id": "9f5d8d79",
   "metadata": {},
   "source": [
    "We will parse this html file to extract the dates of the dumps using `BeautifulSoup` library. \n",
    "\n",
    "Here we have created a `BeautifulSoup` object with the arguement `'html.parser'` specifying that we need to parse HTML file. The call to `soup_index.find_all('a')` returns all the `<a>` tags from the file from which we extract the links to the dumps of the specific date."
   ]
  },
  {
   "cell_type": "code",
   "execution_count": 9,
   "id": "13b2dbed",
   "metadata": {},
   "outputs": [
    {
     "data": {
      "text/plain": [
       "['../',\n",
       " '20220201/',\n",
       " '20220220/',\n",
       " '20220301/',\n",
       " '20220320/',\n",
       " '20220401/',\n",
       " '20220420/',\n",
       " '20220501/',\n",
       " 'latest/']"
      ]
     },
     "execution_count": 9,
     "metadata": {},
     "output_type": "execute_result"
    }
   ],
   "source": [
    "soup_index = BeautifulSoup(index, 'html.parser')\n",
    "dumps = [ a.text for a in soup_index.find_all('a') if a.has_attr('href')]\n",
    "dumps"
   ]
  },
  {
   "cell_type": "markdown",
   "id": "d362df78",
   "metadata": {},
   "source": [
    "Once we have decided the date of the dumps to download based on the dates extract we can go ahead and request for the webpage specific to the date and then extract the links to the data dump that we will eventually be using to downloading the data.\n",
    "\n",
    "Here we have decided to download the `20220420` dump. Below is the output of extracting the links present in the page."
   ]
  },
  {
   "cell_type": "code",
   "execution_count": 12,
   "id": "0387669e",
   "metadata": {},
   "outputs": [
    {
     "data": {
      "text/plain": [
       "[<li class=\"file\"><a href=\"/enwiki/20220420/enwiki-20220420-pages-articles-multistream.xml.bz2\">enwiki-20220420-pages-articles-multistream.xml.bz2</a> 19.3 GB</li>,\n",
       " <li class=\"file\"><a href=\"/enwiki/20220420/enwiki-20220420-pages-articles-multistream-index.txt.bz2\">enwiki-20220420-pages-articles-multistream-index.txt.bz2</a> 230.0 MB</li>,\n",
       " <li class=\"file\"><a href=\"/enwiki/20220420/enwiki-20220420-pages-articles-multistream1.xml-p1p41242.bz2\">enwiki-20220420-pages-articles-multistream1.xml-p1p41242.bz2</a> 247.4 MB</li>,\n",
       " <li class=\"file\"><a href=\"/enwiki/20220420/enwiki-20220420-pages-articles-multistream-index1.txt-p1p41242.bz2\">enwiki-20220420-pages-articles-multistream-index1.txt-p1p41242.bz2</a> 221 KB</li>]"
      ]
     },
     "execution_count": 12,
     "metadata": {},
     "output_type": "execute_result"
    }
   ],
   "source": [
    "dump_date = \"20220420\"\n",
    "\n",
    "dump_url = base_url + dump_date\n",
    "dump_html = requests.get(dump_url).text\n",
    "\n",
    "soup_dump = BeautifulSoup(dump_html, 'html.parser')\n",
    "soup_dump.find_all('li', {'class': 'file'}, limit=10)[:4]"
   ]
  },
  {
   "cell_type": "code",
   "execution_count": 14,
   "id": "693e569e",
   "metadata": {},
   "outputs": [
    {
     "data": {
      "text/plain": [
       "[('enwiki-20220420-pages-articles-multistream.xml.bz2', ['19.3', 'GB']),\n",
       " ('enwiki-20220420-pages-articles-multistream-index.txt.bz2', ['230.0', 'MB']),\n",
       " ('enwiki-20220420-pages-articles-multistream1.xml-p1p41242.bz2',\n",
       "  ['247.4', 'MB']),\n",
       " ('enwiki-20220420-pages-articles-multistream-index1.txt-p1p41242.bz2',\n",
       "  ['221', 'KB'])]"
      ]
     },
     "execution_count": 14,
     "metadata": {},
     "output_type": "execute_result"
    }
   ],
   "source": [
    "files = []\n",
    "\n",
    "for file in soup_dump.find_all('li', {'class': 'file'}):\n",
    "    text = file.text\n",
    "    files.append((text.split(' ')[0], text.split(' ')[1:]))\n",
    "    \n",
    "files[:4]"
   ]
  },
  {
   "cell_type": "code",
   "execution_count": 16,
   "id": "3bcd3484",
   "metadata": {},
   "outputs": [
    {
     "data": {
      "text/plain": [
       "['enwiki-20220420-pages-articles-multistream27.xml-p63975910p65475909.bz2',\n",
       " 'enwiki-20220420-pages-articles-multistream27.xml-p65475910p66975909.bz2',\n",
       " 'enwiki-20220420-pages-articles-multistream27.xml-p66975910p68475909.bz2',\n",
       " 'enwiki-20220420-pages-articles-multistream27.xml-p68475910p69975909.bz2',\n",
       " 'enwiki-20220420-pages-articles-multistream27.xml-p69975910p70585441.bz2']"
      ]
     },
     "execution_count": 16,
     "metadata": {},
     "output_type": "execute_result"
    }
   ],
   "source": [
    "file_to_download = [ file[0] for file in files \n",
    "                    if '.xml-p' in file[0] and 'pages-articles' in file[0] and 'multistream' in file[0]]\n",
    "file_to_download[-5:]"
   ]
  },
  {
   "cell_type": "markdown",
   "id": "66c7970c",
   "metadata": {},
   "source": [
    "## Download wikipedia dump"
   ]
  },
  {
   "cell_type": "code",
   "execution_count": 22,
   "id": "51844127",
   "metadata": {},
   "outputs": [],
   "source": [
    "import sys\n",
    "import ssl\n",
    "import pandas as pd\n",
    "import tensorflow as tf\n",
    "\n",
    "ssl._create_default_https_context = ssl._create_unverified_context"
   ]
  },
  {
   "cell_type": "code",
   "execution_count": 23,
   "id": "8062e711",
   "metadata": {},
   "outputs": [],
   "source": [
    "data_paths = []\n",
    "file_info = []\n",
    "\n",
    "dataset_home = '/home/scai/phd/aiz218323/scratch/XML/wikipedia-data-science/'\n",
    "\n",
    "for file in file_to_download:\n",
    "    path = f'{dataset_home}/datasets/{file}'\n",
    "    \n",
    "    if not os.path.exists(path):\n",
    "        data_paths.append( tf.keras.utils.get_file(origin=f'{dump_url}/{file}', cache_dir=dataset_home) )\n",
    "    else:\n",
    "        data_paths.append(path)\n",
    "        \n",
    "    file_size = os.stat(path).st_size/1e6\n",
    "    file_articles = int(file.split('p')[-1].split('.')[0]) - int(file.split('p')[-2])\n",
    "    file_info.append((file, file_size, file_articles))"
   ]
  },
  {
   "cell_type": "code",
   "execution_count": 24,
   "id": "14921275",
   "metadata": {},
   "outputs": [
    {
     "data": {
      "text/html": [
       "<div>\n",
       "<style scoped>\n",
       "    .dataframe tbody tr th:only-of-type {\n",
       "        vertical-align: middle;\n",
       "    }\n",
       "\n",
       "    .dataframe tbody tr th {\n",
       "        vertical-align: top;\n",
       "    }\n",
       "\n",
       "    .dataframe thead th {\n",
       "        text-align: right;\n",
       "    }\n",
       "</style>\n",
       "<table border=\"1\" class=\"dataframe\">\n",
       "  <thead>\n",
       "    <tr style=\"text-align: right;\">\n",
       "      <th></th>\n",
       "      <th>filename</th>\n",
       "      <th>size (MB)</th>\n",
       "      <th>--</th>\n",
       "    </tr>\n",
       "  </thead>\n",
       "  <tbody>\n",
       "    <tr>\n",
       "      <th>0</th>\n",
       "      <td>enwiki-20220420-pages-articles-multistream9.xm...</td>\n",
       "      <td>556.144802</td>\n",
       "      <td>1109141</td>\n",
       "    </tr>\n",
       "    <tr>\n",
       "      <th>1</th>\n",
       "      <td>enwiki-20220420-pages-articles-multistream10.x...</td>\n",
       "      <td>549.290108</td>\n",
       "      <td>1353963</td>\n",
       "    </tr>\n",
       "    <tr>\n",
       "      <th>2</th>\n",
       "      <td>enwiki-20220420-pages-articles-multistream11.x...</td>\n",
       "      <td>533.662197</td>\n",
       "      <td>1499999</td>\n",
       "    </tr>\n",
       "    <tr>\n",
       "      <th>3</th>\n",
       "      <td>enwiki-20220420-pages-articles-multistream8.xm...</td>\n",
       "      <td>512.258438</td>\n",
       "      <td>802148</td>\n",
       "    </tr>\n",
       "  </tbody>\n",
       "</table>\n",
       "</div>"
      ],
      "text/plain": [
       "                                            filename   size (MB)       --\n",
       "0  enwiki-20220420-pages-articles-multistream9.xm...  556.144802  1109141\n",
       "1  enwiki-20220420-pages-articles-multistream10.x...  549.290108  1353963\n",
       "2  enwiki-20220420-pages-articles-multistream11.x...  533.662197  1499999\n",
       "3  enwiki-20220420-pages-articles-multistream8.xm...  512.258438   802148"
      ]
     },
     "execution_count": 24,
     "metadata": {},
     "output_type": "execute_result"
    }
   ],
   "source": [
    "pd.DataFrame(sorted(file_info, key=lambda x: x[1], reverse=True)[:4], columns=['filename', 'size (MB)', '--'])"
   ]
  },
  {
   "cell_type": "code",
   "execution_count": 25,
   "id": "68091abe",
   "metadata": {},
   "outputs": [
    {
     "name": "stdout",
     "output_type": "stream",
     "text": [
      "Number of partitions : 62\n"
     ]
    }
   ],
   "source": [
    "print(f\"Number of partitions : {len(file_info)}\")"
   ]
  },
  {
   "cell_type": "code",
   "execution_count": 26,
   "id": "393263a9",
   "metadata": {},
   "outputs": [
    {
     "data": {
      "text/plain": [
       "<AxesSubplot:>"
      ]
     },
     "execution_count": 26,
     "metadata": {},
     "output_type": "execute_result"
    },
    {
     "data": {
      "image/png": "[encoded data removed]",
      "text/plain": [
       "<Figure size 864x432 with 1 Axes>"
      ]
     },
     "metadata": {
      "needs_background": "light"
     },
     "output_type": "display_data"
    }
   ],
   "source": [
    "file_info_df = pd.DataFrame(file_info, columns=['filename', 'size (MB)', '--'])\n",
    "file_info_df['size (MB)'].plot.bar(color='red', figsize=(12, 6))"
   ]
  },
  {
   "cell_type": "code",
   "execution_count": 27,
   "id": "2a49937a",
   "metadata": {},
   "outputs": [
    {
     "name": "stdout",
     "output_type": "stream",
     "text": [
      "Size of the total file : 20.74 GB\n"
     ]
    }
   ],
   "source": [
    "print(f\"Size of the total file : {file_info_df['size (MB)'].sum()/1e3:.2f} GB\")"
   ]
  }
 ],
 "metadata": {
  "kernelspec": {
   "display_name": "Python 3 (ipykernel)",
   "language": "python",
   "name": "python3"
  },
  "language_info": {
   "codemirror_mode": {
    "name": "ipython",
    "version": 3
   },
   "file_extension": ".py",
   "mimetype": "text/x-python",
   "name": "python",
   "nbconvert_exporter": "python",
   "pygments_lexer": "ipython3",
   "version": "3.8.13"
  }
 },
 "nbformat": 4,
 "nbformat_minor": 5
}
