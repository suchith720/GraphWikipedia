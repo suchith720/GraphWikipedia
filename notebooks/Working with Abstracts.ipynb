{
 "cells": [
  {
   "cell_type": "code",
   "execution_count": 1,
   "metadata": {},
   "outputs": [
    {
     "data": {
      "text/plain": [
       "55"
      ]
     },
     "execution_count": 1,
     "metadata": {},
     "output_type": "execute_result"
    }
   ],
   "source": [
    "import json\n",
    "\n",
    "data_path = '/home/ubuntu/.keras/datasets/'\n",
    "\n",
    "import os\n",
    "\n",
    "files = [data_path + f for f in os.listdir(data_path) if 'xml-p' in f]\n",
    "len(files)"
   ]
  },
  {
   "cell_type": "code",
   "execution_count": 2,
   "metadata": {},
   "outputs": [],
   "source": [
    "import xml.sax\n",
    "import mwparserfromhell"
   ]
  },
  {
   "cell_type": "code",
   "execution_count": 23,
   "metadata": {},
   "outputs": [],
   "source": [
    "class WikiXmlHandler(xml.sax.handler.ContentHandler):\n",
    "    \"\"\"Parse through XML data using SAX\"\"\"\n",
    "    def __init__(self, inspect):\n",
    "        xml.sax.handler.ContentHandler.__init__(self)\n",
    "        self._buffer = None\n",
    "        self._values = {}\n",
    "        self._current_tag = None\n",
    "        self._books = []\n",
    "        self._article_count = 0\n",
    "        self._non_matches = []\n",
    "        self._inspect = inspect\n",
    "        \n",
    "    def characters(self, content):\n",
    "        \"\"\"Characters between opening and closing tags\"\"\"\n",
    "        if self._current_tag:\n",
    "            self._buffer.append(content)\n",
    "\n",
    "    def startElement(self, name, attrs):\n",
    "        \"\"\"Opening tag of element\"\"\"\n",
    "        if name in ('title', 'text', 'timestamp'):\n",
    "            self._current_tag = name\n",
    "            self._buffer = []\n",
    "\n",
    "    def endElement(self, name):\n",
    "        \"\"\"Closing tag of element\"\"\"\n",
    "        if name == self._current_tag:\n",
    "            self._values[name] = ' '.join(self._buffer)\n",
    "\n",
    "        if name == 'page':\n",
    "            self._article_count += 1\n",
    "            # Search through the page to see if the page is a book\n",
    "            book = process_article(**self._values, template = 'Infobox book', inspect = self._inspect)\n",
    "            # Append to the list of books\n",
    "            if book:\n",
    "                self._books.append(book)"
   ]
  },
  {
   "cell_type": "code",
   "execution_count": 76,
   "metadata": {},
   "outputs": [],
   "source": [
    "def process_article(title, text, timestamp, template = 'Infobox book', inspect = False):\n",
    "    \"\"\"Process a wikipedia article looking for template\"\"\"\n",
    "    \n",
    "    # Create a parsing object\n",
    "    wikicode = mwparserfromhell.parse(text)\n",
    "    \n",
    "    # Search through templates for the template\n",
    "    matches = wikicode.filter_templates(matches = template)\n",
    "    \n",
    "    # Filter out errant matches\n",
    "    matches = [x for x in matches if x.name.strip_code().strip().lower() == template.lower()]\n",
    "    \n",
    "    if len(matches) >= 1:\n",
    "        \n",
    "        if 'Synopsis' in wikicode or 'Plot' in wikicode or 'Plot summary' in wikicode:\n",
    "        \n",
    "            # template_name = matches[0].name.strip_code().strip()\n",
    "\n",
    "            # Extract information from infobox\n",
    "            properties = {param.name.strip_code().strip(): param.value.strip_code().strip() \n",
    "                          for param in matches[0].params\n",
    "                          if param.value.strip_code().strip()}\n",
    "\n",
    "            # Extract internal wikilinks\n",
    "            wikilinks = [x.title.strip_code().strip() for x in wikicode.filter_wikilinks()]\n",
    "\n",
    "            # Extract external links\n",
    "            exlinks = [x.url.strip_code().strip() for x in wikicode.filter_external_links()]\n",
    "\n",
    "            # Find approximate length of article\n",
    "            text_length = len(wikicode.strip_code().strip())\n",
    "\n",
    "            if inspect:\n",
    "                return (title, properties, wikilinks, exlinks, timestamp, text_length, text, wikicode)\n",
    "\n",
    "            return (title, properties, wikilinks, exlinks, timestamp, text_length)"
   ]
  },
  {
   "cell_type": "code",
   "execution_count": 77,
   "metadata": {},
   "outputs": [],
   "source": [
    "data_path = files[0]"
   ]
  },
  {
   "cell_type": "code",
   "execution_count": 78,
   "metadata": {},
   "outputs": [],
   "source": [
    "import subprocess \n",
    "\n",
    "# Want to inspect wikicode\n",
    "handler = WikiXmlHandler(True)\n",
    "parser = xml.sax.make_parser()\n",
    "\n",
    "parser.setContentHandler(handler)\n",
    "\n",
    "lines = []\n",
    "\n",
    "for i, line in enumerate(subprocess.Popen(['bzcat'], \n",
    "                         stdin = open(data_path), \n",
    "                         stdout = subprocess.PIPE).stdout):\n",
    "    parser.feed(line)\n",
    "    if len(handler._books) > 3:\n",
    "        break"
   ]
  },
  {
   "cell_type": "code",
   "execution_count": 75,
   "metadata": {},
   "outputs": [
    {
     "data": {
      "text/plain": [
       "True"
      ]
     },
     "execution_count": 75,
     "metadata": {},
     "output_type": "execute_result"
    }
   ],
   "source": [
    "'Synopsis' in wikicode"
   ]
  },
  {
   "cell_type": "code",
   "execution_count": 90,
   "metadata": {},
   "outputs": [
    {
     "ename": "TypeError",
     "evalue": "get_ancestors() missing 1 required positional argument: 'obj'",
     "output_type": "error",
     "traceback": [
      "\u001b[0;31m---------------------------------------------------------------------------\u001b[0m",
      "\u001b[0;31mTypeError\u001b[0m                                 Traceback (most recent call last)",
      "\u001b[0;32m<ipython-input-90-f1e8d246609a>\u001b[0m in \u001b[0;36m<module>\u001b[0;34m\u001b[0m\n\u001b[0;32m----> 1\u001b[0;31m \u001b[0mwikicode\u001b[0m\u001b[0;34m.\u001b[0m\u001b[0mget_ancestors\u001b[0m\u001b[0;34m(\u001b[0m\u001b[0;34m)\u001b[0m\u001b[0;34m\u001b[0m\u001b[0m\n\u001b[0m",
      "\u001b[0;31mTypeError\u001b[0m: get_ancestors() missing 1 required positional argument: 'obj'"
     ]
    }
   ],
   "source": [
    "wikicode.get_ancestors()"
   ]
  },
  {
   "cell_type": "code",
   "execution_count": 82,
   "metadata": {},
   "outputs": [
    {
     "data": {
      "text/plain": [
       "'{{Infobox book \\n | name          = Summa Iniuria: Ein Pitaval der Justizirrtümer \\n | image         =  \\n | author        = Hans M. Sutermeister \\n | country       = [[Switzerland]] \\n | language      = German \\n | subject       = [[Miscarriage of justice]] \\n | genre         = non fiction \\n | release_date  = 1976 \\n | media_type    = Print (Paperback) \\n | pages         = 810 \\n | isbn          = 3226000969 \\n }} \\n \\'\\'\\'\\'\\'Summa Iniuria: Ein Pitaval der Justizirrtümer\\'\\'\\'\\'\\' (\\'\\'\\'\\'\\'Summa Iniuria: A Pitaval of Miscarriages of Justice\\'\\'\\'\\'\\') is a collection of \\'\\'[[Cause célèbre|causes célèbres]]\\'\\' by the Swiss author Hans M. Sutermeister.  It is considered “one of the most detailed documentations about [[miscarriage of justice|miscarriages of justice]] in the German language”. < ref > Gilliéron, G. \\'\\'Strafbefehlsverfahren und plea bargaining als Quelle von Fehlurteilen.\\'\\' Zurich: Schulthess, 2010, p. 15. {{ISBN|978-3-7255-6021-9}} < /ref >   It is inspired by [[Voltaire]]′s early activism against French miscarriages of justice of puritan origin, as well as by [[Arthur Conan Doyle]]′s criminalistic approaches. < ref > Sutermeister H M. \\'\\'Summa Iniuria.\\'\\' 1976, pp. 38–40 and 119–121. < /ref > \\n \\n ==Plot summary== \\n The book proposes a legal reform for Switzerland which has never been realized because of political controversies.  The [[Maria Popesco|Maria Popescu]], [[Jaccoud case|Pierre Jaccoud]], and [[Vera Brühne]] cases are discussed in detail, as Sutermeister was involved in the criminal researches.  The [[George Edalji]] case serves, among others, to illustrate the issue of faulty expertises.  The main part consists of the so–called “Hirschberg test”, based on [[Max Hirschberg]]s categories of causes of judicial errors. \\n \\n ===Hirschberg test=== \\n The “Hirschberg test” begins with critique against the preliminary inquiries concerning [[Josef Issels]] and [[Bruno Gröning]]. \\n \\n The phenomenon of mis-identification are illustrated by the [[Courrier de Lyon case|Joseph Lesurques]], Billy Armstrong, [[Adolf Beck case|Adolph Beck]], [[Hilsner Affair|Leopold Hilsner]], [[Menahem Mendel Beilis]], [[Sacco and Vanzetti]], [[Joe Hill]], [[Caryl Chessman]], Charles Townsend, [[James Hanratty]], [[John Dickman]], [[Rubin Carter]], Jerome Frank, [[Will Purvis]], [[Anna Anderson]] cases, a large list of experiences which led to wrongful court decisions and which serve to illustrate also other items of the “Hirschberg test”. \\n \\n The issue of uncritical assessment of [[Plea|guilty plea]] is illustrated by the cases of [[Timothy Evans]], [[Harold Israel]], [[Marinus van der Lubbe]], [[Albert DeSalvo]], [[Jack the Ripper]], [[Mata Hari]], [[Renate von Natzmer]], [[Escobedo v. Illinois|Danny Escobedo]], [[Richard Speck]], and [[Alfred George Hinds]], among others. \\n \\n In the chapter about the impact of fellow convicts on dispensation of justice is considered the judgment of [[Barbara Graham]]; and concerning the witness account, the [[Felix Fechenbach]] case, the [[Guillaume Affair]], and the cases of [[Antoine Argoud]], [[Serge and Beate Klarsfeld|Beate Klarsfeld]], Milan Bogunovic, [[Red Army Faction|Baader-Meinhof]], [[Raoul Villain]], [[Anton Graf von Arco auf Valley]], and [[Maximilian Kolbe]].  In the cases of [[Marguerite Steinheil]], [[Leo Frank]], [[Sam Sheppard|Samuel Sheppard]], [[Karl Stauffer-Bern|Karl Stauffer]], and [[Green Bicycle Case|Ronald Light]], the lies of the accused would have offered guilty proof. \\n \\n [[Circumstantial evidence]] lawsuits are illustrated by the cases of [[Frederick Seddon]], [[Marie Besnard]], [[Steven Truscott]], [[Graham Young|Graham Frederick Young]], and some [[white-collar crime]]s.  Suggestibility and emotional biases of the jury as causes of wrongful court decisions are shoewd by the cases of Jesse Hill Ford, [[Joan Little]], and [[Alger Hiss]]. \\n \\n The relationship between miscarriages of justice and [[public morality]] are analysed through the cases of [[Henriette Caillaux]], [[Ruth Ellis]], [[Sir Ewan Forbes, 11th Baronet]], [[Hawkhurst Gang|Arthur Gray]], [[Horst Schumann]], [[Joan Barry (American actress)|Joan Berry]], Baader-Meinhof, [[Timothy Leary]], [[Patty Hearst|Patricia Hearst]], [[Kurt Gerstein]], [[Paul Grüninger]], [[Rudolf Roessler]], [[David Frankfurter]], [[Pyotr Grigorenko]], [[Vladimir Bukovsky]], [[Derek Bentley case|Derek Bentley]], [[Edith Thompson and Frederick Bywaters|Edith Thompson]], [[Ivar Kreuger]], [[Stavisky Affair]], [[Harald Feller]], [[Carl Lutz]], [[Viola Liuzzo]], [[Wilma Montesi]], [[Horst Wessel]], among many others. \\n \\n The case of [[Jacques Isorni]] serves to illustrate certain relationship between law and ethics. \\n \\n The author concludes by briefly analysing other aspects of misleading or other judgments revising the [[John T. Scopes|John Thomas Scopes]], [[Carl von Ossietzky]], [[Theodor Lessing]], [[Bruno Lüdke]], [[Persecution of Jehovah\\'s Witnesses in Nazi Germany]], [[Hans Paasche]], [[Ludwig Quidde]], and [[White Rose|Weiße Rose]] cases. \\n \\n ==Reception== \\n The book has the appearance of a patchwork obtained by stitching together legal and controversial political parts, as has been criticized by German jurist [[Klaus Volk]] < ref > [[Klaus Volk]].  \" Buchbesprechung: Sutermeister, H. M.. Summa Iniuria. \"  In: \\'\\'Monatsschrift für Kriminologie und Strafrechtsreform\\'\\'. Jahrgang 60, 1977, S.388. < /ref >  and the Austrian [[Nazism|Nazi]] medical writer [[Otto Scrinzi]]. < ref > [[Otto Scrinzi]].  \" Buch im Brennpunkt: Unvermeidliche Justizirrtümer. \"  In: \\'\\'Ärztliche Praxis: Die Zeitung des Arztes in Klinik und Praxis\\'\\'. 1976/1977 < /ref >   For the German criminal law expert [[Karl Peters (jurist)|Karl Peters]], on the other hand, the book represents a milestone in the series of works about miscarriages of justice which comes to terms with many failures of post-World War II criminal judgments in Germany and Switzerland, therefore completing a certain continuing effort which has its history in the works of Erich Sello, [[Max Alsberg]], Albert Hellwig, Max Hirschberg, and Heinrich Jagusch. < ref > [[Karl Peters (jurist)|Karl Peters]].  \" Sutermeister, Hans M.: Summa Iniuria. Ein Pitaval der Justizirrtümer. Basel 1976. \"  In: \\'\\'Zeitschrift für die gesamte Strafrechtswissenschaft\\'\\'. [http://www.reference-global.com/doi/pdf/10.1515/zstw.1976.88.4.978 26, Vol. 88, n. 1, 1976, pp. 993–995]{{Dead link|date=June 2018 |bot=InternetArchiveBot |fix-attempted=no }}, {{DOI|10.1515/zstw.1976.88.4.978}}). < /ref > \\n \\n ==References== \\n {{Reflist}} \\n \\n ==External links== \\n * [https://www.e-helvetica.nb.admin.ch/directAccess?callnumber=nbdig-16252 \\'\\'Summa Iniuria: Ein Pitaval der Justizirrtümer\\'\\'] accessible at the [[Swiss National Library]]. \\n * About the origins of the book: [[Gerhard Mauz]]: [http://www.spiegel.de/spiegel/print/d-46272426.html \\'\\'Schuldig, weil wir keinen anderen haben: SPIEGEL-Reporter Gerhard Mauz über die Fehlurteilsjäger Hans Martin Sutermeister und Gustav Adolf Neumann.\\'\\'] \\'\\'[[Der Spiegel]]\\'\\', 1965, no. 18, p. & nbsp;116 and 118. \\n \\n {{DEFAULTSORT:Summa Iniuria: Ein Pitaval der Justizirrtumer}} \\n [[Category:1976 books]] \\n [[Category:Crime in Switzerland]] \\n [[Category:German-language literature]] \\n [[Category:Legal history of Switzerland]] \\n [[Category:Libertarian books]] \\n [[Category:Non-fiction books about espionage]] \\n [[Category:Non-fiction crime books]] \\n [[Category:Political autobiographies]] \\n [[Category:Swiss literature]]'"
      ]
     },
     "execution_count": 82,
     "metadata": {},
     "output_type": "execute_result"
    }
   ],
   "source": [
    "handler._books[0][-2]"
   ]
  },
  {
   "cell_type": "code",
   "execution_count": 81,
   "metadata": {},
   "outputs": [
    {
     "data": {
      "text/plain": [
       "'{{Multiple issues| \\n {{notability|Books|date=April 2012}} \\n {{all plot|date=July 2012}} \\n }} \\n \\n {{Infobox book \\n |author = [[Jane Lindskold]] \\n |publisher = Tom Doherty Associates}} \\n \\'\\'\\'\\'\\'The Buried Pyramid\\'\\'\\'\\'\\' is a book written in 2004 by [[Jane Lindskold]] and published by [[Tom Doherty Associates]]. \\n \\n ==Plot== \\n A British soldier named Captain Neville Hawthorne is order by his commanding officer, Colonel Reginald Sedgewick to escort [[Albert, Prince Consort|Prince Albert]]\\'s cousin, Alphonse  \" Herr \"  Libermann, a German archaeologist. Which Alphone tells Neville that he\\'s searching for the Buried Pyramid, the Tomb of Neferankhotep, who may also have been [[Moses]] the Lawgiver and that a lady gave him the journal of an explorer named Chad Spice. \\n \\n A soldier named Sergeant Edward  \" Eddie \"  Bryce joins them on their search for the Buried Pyramid along with Alphonse\\'s assistant, Derek, and three camel wranglers named Ali, his son, Ishmael, and his daughter, Miriam. \\n \\n Eddie hears something that sounds more like a wolf pack than jackals. Neville orders the group to get the camels ready and get out of the canyon because it\\'s like a box. Miriam leads them to a place that is a necropolis to the old kings and a place her father and brother don\\'t trust. Alphonse is clipped by a ricochet from a bullet fired from a Bedouin\\'s rifle. The Bedouins made an occasional charge but were driven back without much effort. Occasionally they dragged a wounded comrade. On the third day, Neville comes up with a plan\\' to escape. He has Miriam and Alphonse dress him as a mummy. Miriam runs to the Bedouins and tells them that they woke up the mummy. When Neville points at a person Eddie shoots them. The Bedouins run off. After they return to Cairo, Alphonse returns to Germany while Neville returns to England and Eddie becomes a native. \\n \\n Ten years later, Jenny Benet, a recently orphaned American girl who lived on the Wild West has been sent to live with Uncle Neville after her parents were killed by Indians while she was being educated at a Boston finishing school. Neville a retied British soldier, who is now an archaeologist is traveling to Egypt along with his friend, Stephen Holmboe, Edward  \" Eddie \"  Bryce, and his servants, Emily and Bert. Neville tells Jenny and Stephen why they are going to Egypt. He tells them what happened to him in the last ten years. Then they get a threatening letter written in hieroglyphs from a person who goes by the name  \" The Sphinx \" . They translate it with the help of Stephen. \\n \\n They get on \\'\\'Neptune\\'s Charger\\'\\', the boat that will take them to Egypt. There they meet Lady Audrey Cheshire, Audrey\\'s servant, Mrs.Syms, Captain Robert Brentworth, his servant, Rashid, and the Travers Family. Mrs.Travers lose her jewel box and asks Stephen to find it for her. He agrees to find it with some help from Neville and Jenny. He finds it in between the bed and the wall. He returns it to Mrs.Travers. Then they get a letter from The Sphinx. \\n \\n The boat lands in Cairo and the passengers gets ride from the Travers Family on a military train heading to a military base. Audrey and her group stays at Sheppard’s while Neville and his group stay at Papa Antonio’s hotel. He turns out to be an old friend of Neville. Neville gets a letter from The Sphinx. \\n \\n Neville and Jenny are attacked by men wearing [[Anubis]] masks. The attackers escape. Stephen is surprised when Papa Antionio tells him that the men tried to enter his room but stopped when they saw light in his room. Papa Antonio orders his workers to repair the windows and has Neville and Jenny switch rooms with two of his workers. He also has some of his workers sit on the roof to make sure the attackers don’t come back again. Neville finds a letter one of the attackers dropped. It\\'s from The Sphinx. \\n \\n {{DEFAULTSORT:Buried Pyramid}} \\n \\n [[Category:2004 American novels]] \\n [[Category:Novels set in Egypt]]'"
      ]
     },
     "execution_count": 81,
     "metadata": {},
     "output_type": "execute_result"
    }
   ],
   "source": [
    "handler._books[1][-2]"
   ]
  },
  {
   "cell_type": "code",
   "execution_count": 79,
   "metadata": {},
   "outputs": [
    {
     "data": {
      "text/plain": [
       "\"{{Infobox book \\n | name              = Fear the Darkness \\n | image             =  \\n | caption           =  \\n | alt               =  \\n | author            = [[Mitchel Scanlon]] \\n | cover_artist      =  \\n | series            = ''[[Judge Anderson]]'' \\n | subject           = [[Mega-City_One#History|Set in the year]] 2128 \\n | published         = February 2006 \\n | publisher         = [[Black Flame]] \\n | pages             = 256 \\n | isbn              = 1844163261 \\n | preceded_by       = None \\n | followed_by       = [[Red Shadows (Judge Anderson novel)|Red Shadows]] \\n }} \\n '''''Fear the Darkness''''' is an original [[science fiction]] novel written by Mitchel Scanlon and based on the British [[Comic book|comic strip]] ''[[Judge Anderson|Anderson:Psi Division]]'' (a spin-off from ''[[Judge Dredd]]'') in ''[[2000 AD (comics)|2000 AD]]''. It is Scanlon's first ''Anderson'' novel. \\n \\n ==Synopsis== \\n Psychic Cassandra Anderson investigates a series of mysterious deaths of prisoners in a sector house, and discovers a malevolent presence. Outside the building is under attack by a mob of psychopaths. \\n \\n ==External links== \\n * [http://www.2000adreview.co.uk/reviews/extra/2006/books/anderson/anderson-fear-darkness.shtml Review at ''2000adreview''] \\n * [http://www.fictiondb.com/author/mitchel-scanlon~fear-the-darkness~144180~b.htm Entry at ''FictionDB''] \\n \\n {{UK-comics-stub}} \\n {{Judge Dredd}} \\n \\n [[Category:Judge Anderson novels]]\""
      ]
     },
     "execution_count": 79,
     "metadata": {},
     "output_type": "execute_result"
    }
   ],
   "source": [
    "handler._books[2][-2]"
   ]
  },
  {
   "cell_type": "code",
   "execution_count": 80,
   "metadata": {},
   "outputs": [
    {
     "data": {
      "text/plain": [
       "\"{{Infobox book \\n | name              = Red Shadows \\n | image             =  \\n | caption           =  \\n | alt               =  \\n | author            = [[Mitchel Scanlon]] \\n | cover_artist      =  \\n | series            = ''[[Judge Anderson]]'' \\n | subject           = [[Mega-City_One#History|Set in the year]] 2128 \\n | published         = May 2006 \\n | publisher         = [[Black Flame]] \\n | pages             = 252 \\n | isbn              = 1844163776 \\n | preceded_by       = [[Fear the Darkness]] \\n | followed_by       = [[Sins of the Father (Judge Anderson novel)|Sins of the Father]] \\n }} \\n '''''Red Shadows''''' is an original [[science fiction]] novel written by Mitchel Scanlon and based on the British [[Comic book|comic strip]] ''[[Judge Anderson|Anderson:Psi Division]]'' (a spin-off from ''[[Judge Dredd]]'') in ''[[2000 AD (comics)|2000 AD]]''. It is Scanlon's second ''Anderson'' novel. \\n \\n ==Synopsis== \\n Anderson pursues a vicious serial killer, only to become his next target. \\n \\n ==External links== \\n * [http://www.2000adreview.co.uk/reviews/extra/2006/books/anderson/anderson-red-shadows.shtml Review at ''2000adreview''] \\n * [http://www.fictiondb.com/author/mitchel-scanlon~red-shadows~147076~b.htm Entry at ''Fiction DB''] \\n \\n {{UK-comics-stub}} \\n {{Judge Dredd}} \\n \\n [[Category:Judge Anderson novels]]\""
      ]
     },
     "execution_count": 80,
     "metadata": {},
     "output_type": "execute_result"
    }
   ],
   "source": [
    "handler._books[3][-2]"
   ]
  },
  {
   "cell_type": "code",
   "execution_count": 56,
   "metadata": {},
   "outputs": [],
   "source": [
    "wikicode = handler._books[3][-1]"
   ]
  },
  {
   "cell_type": "code",
   "execution_count": 63,
   "metadata": {},
   "outputs": [
    {
     "data": {
      "text/plain": [
       "[]"
      ]
     },
     "execution_count": 63,
     "metadata": {},
     "output_type": "execute_result"
    }
   ],
   "source": [
    "import re\n",
    "\n",
    "re.findall(pattern = '==Synopsis[.*]==', string = str(wikicode))"
   ]
  },
  {
   "cell_type": "code",
   "execution_count": 54,
   "metadata": {},
   "outputs": [
    {
     "data": {
      "text/plain": [
       "'{{Multiple issues| \\n {{notability|Books|date=April 2012}} \\n {{all plot|date=July 2012}} \\n }} \\n \\n {{Infobox book \\n |author = [[Jane Lindskold]] \\n |publisher = Tom Doherty Associates}} \\n \\'\\'\\'\\'\\'The Buried Pyramid\\'\\'\\'\\'\\' is a book written in 2004 by [[Jane Lindskold]] and published by [[Tom Doherty Associates]]. \\n \\n ==Plot== \\n A British soldier named Captain Neville Hawthorne is order by his commanding officer, Colonel Reginald Sedgewick to escort [[Albert, Prince Consort|Prince Albert]]\\'s cousin, Alphonse  \" Herr \"  Libermann, a German archaeologist. Which Alphone tells Neville that he\\'s searching for the Buried Pyramid, the Tomb of Neferankhotep, who may also have been [[Moses]] the Lawgiver and that a lady gave him the journal of an explorer named Chad Spice. \\n \\n A soldier named Sergeant Edward  \" Eddie \"  Bryce joins them on their search for the Buried Pyramid along with Alphonse\\'s assistant, Derek, and three camel wranglers named Ali, his son, Ishmael, and his daughter, Miriam. \\n \\n Eddie hears something that sounds more like a wolf pack than jackals. Neville orders the group to get the camels ready and get out of the canyon because it\\'s like a box. Miriam leads them to a place that is a necropolis to the old kings and a place her father and brother don\\'t trust. Alphonse is clipped by a ricochet from a bullet fired from a Bedouin\\'s rifle. The Bedouins made an occasional charge but were driven back without much effort. Occasionally they dragged a wounded comrade. On the third day, Neville comes up with a plan\\' to escape. He has Miriam and Alphonse dress him as a mummy. Miriam runs to the Bedouins and tells them that they woke up the mummy. When Neville points at a person Eddie shoots them. The Bedouins run off. After they return to Cairo, Alphonse returns to Germany while Neville returns to England and Eddie becomes a native. \\n \\n Ten years later, Jenny Benet, a recently orphaned American girl who lived on the Wild West has been sent to live with Uncle Neville after her parents were killed by Indians while she was being educated at a Boston finishing school. Neville a retied British soldier, who is now an archaeologist is traveling to Egypt along with his friend, Stephen Holmboe, Edward  \" Eddie \"  Bryce, and his servants, Emily and Bert. Neville tells Jenny and Stephen why they are going to Egypt. He tells them what happened to him in the last ten years. Then they get a threatening letter written in hieroglyphs from a person who goes by the name  \" The Sphinx \" . They translate it with the help of Stephen. \\n \\n They get on \\'\\'Neptune\\'s Charger\\'\\', the boat that will take them to Egypt. There they meet Lady Audrey Cheshire, Audrey\\'s servant, Mrs.Syms, Captain Robert Brentworth, his servant, Rashid, and the Travers Family. Mrs.Travers lose her jewel box and asks Stephen to find it for her. He agrees to find it with some help from Neville and Jenny. He finds it in between the bed and the wall. He returns it to Mrs.Travers. Then they get a letter from The Sphinx. \\n \\n The boat lands in Cairo and the passengers gets ride from the Travers Family on a military train heading to a military base. Audrey and her group stays at Sheppard’s while Neville and his group stay at Papa Antonio’s hotel. He turns out to be an old friend of Neville. Neville gets a letter from The Sphinx. \\n \\n Neville and Jenny are attacked by men wearing [[Anubis]] masks. The attackers escape. Stephen is surprised when Papa Antionio tells him that the men tried to enter his room but stopped when they saw light in his room. Papa Antonio orders his workers to repair the windows and has Neville and Jenny switch rooms with two of his workers. He also has some of his workers sit on the roof to make sure the attackers don’t come back again. Neville finds a letter one of the attackers dropped. It\\'s from The Sphinx. \\n \\n {{DEFAULTSORT:Buried Pyramid}} \\n \\n [[Category:2004 American novels]] \\n [[Category:Novels set in Egypt]]'"
      ]
     },
     "execution_count": 54,
     "metadata": {},
     "output_type": "execute_result"
    }
   ],
   "source": [
    "str(wikicode)"
   ]
  },
  {
   "cell_type": "code",
   "execution_count": 50,
   "metadata": {},
   "outputs": [
    {
     "data": {
      "text/plain": [
       "['. \\n \\n ==Plot== \\n A British soldier named Captain Neville Hawthorne is order by his commanding officer, Colonel Reginald Sedgewick to escort ']"
      ]
     },
     "execution_count": 50,
     "metadata": {},
     "output_type": "execute_result"
    }
   ],
   "source": [
    "wikicode.filter_text(matches = '==Plot==')"
   ]
  },
  {
   "cell_type": "code",
   "execution_count": 29,
   "metadata": {},
   "outputs": [
    {
     "data": {
      "text/plain": [
       "True"
      ]
     },
     "execution_count": 29,
     "metadata": {},
     "output_type": "execute_result"
    }
   ],
   "source": [
    "handler._inspect"
   ]
  },
  {
   "cell_type": "code",
   "execution_count": null,
   "metadata": {},
   "outputs": [],
   "source": [
    "lines[:100]"
   ]
  },
  {
   "cell_type": "code",
   "execution_count": null,
   "metadata": {},
   "outputs": [],
   "source": [
    "line.decode('utf-8')"
   ]
  },
  {
   "cell_type": "code",
   "execution_count": null,
   "metadata": {},
   "outputs": [],
   "source": [
    "!gunzip --help"
   ]
  },
  {
   "cell_type": "code",
   "execution_count": null,
   "metadata": {},
   "outputs": [],
   "source": []
  }
 ],
 "metadata": {
  "kernelspec": {
   "display_name": "Python [default]",
   "language": "python",
   "name": "python3"
  },
  "language_info": {
   "codemirror_mode": {
    "name": "ipython",
    "version": 3
   },
   "file_extension": ".py",
   "mimetype": "text/x-python",
   "name": "python",
   "nbconvert_exporter": "python",
   "pygments_lexer": "ipython3",
   "version": "3.6.4"
  }
 },
 "nbformat": 4,
 "nbformat_minor": 2
}
