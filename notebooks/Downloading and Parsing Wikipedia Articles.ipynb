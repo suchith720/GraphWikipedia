{
 "cells": [
  {
   "cell_type": "markdown",
   "metadata": {},
   "source": [
    "# Introduction: Downloading and Parsing Wikipedia Articles\n",
    "\n",
    "In this notebook, we will download all of the latest wikipedia articles and then parse them. We'll get to make use of a number of important data science techniques including:\n",
    "\n",
    "* Finding and retrieve online data\n",
    "* Parsing XML using a SAX parser\n",
    "* Parsing Mediawiki content using `mwparserfromhell`\n",
    "* Running operations in parallel using multiprocessing and multithreading\n",
    "\n",
    "The techniques covered here are broadly applicable in data science even though we are focusing on Wikipedia articles. Moveover, I'll be gathering all of the books articles for an ongoing project, but you can use the methods here to focus on any category of Wikipedia or even to search through all of the articles for specific content. Wikipedia is an incredibly rich source of human curated information, and learning how to work with it is a project in itself and also gives us more data for future data science projects.\n",
    "\n",
    "The code in this notebook is adapted from the excellent [Deep Learning Cookbook](http://shop.oreilly.com/product/0636920097471.do) by Douwe Osinga. The book is well worth it and you can access the Jupyter Notebooks [on GitHub](https://github.com/DOsinga/deep_learning_cookbook)."
   ]
  },
  {
   "cell_type": "code",
   "execution_count": 1,
   "metadata": {},
   "outputs": [],
   "source": [
    "import requests\n",
    "\n",
    "# Parsing HTML\n",
    "from bs4 import BeautifulSoup\n",
    "\n",
    "# File system management\n",
    "import os"
   ]
  },
  {
   "cell_type": "markdown",
   "metadata": {},
   "source": [
    "## Searching for Wikipedia Download\n",
    "\n",
    "To start, we make a request to the [Wikimedia dumps](https://dumps.wikimedia.org/) of Wikipedia. We'll search through `enwiki` which has the [English language dumps](https://dumps.wikimedia.org/enwiki/) of wikipedia. This first request finds the available recent dumps and lists them. (A dump is a snapshot of all the existing information from a database)."
   ]
  },
  {
   "cell_type": "code",
   "execution_count": 2,
   "metadata": {},
   "outputs": [
    {
     "data": {
      "text/plain": [
       "['../',\n",
       " '20180620/',\n",
       " '20180701/',\n",
       " '20180720/',\n",
       " '20180801/',\n",
       " '20180820/',\n",
       " '20180901/',\n",
       " '20180920/',\n",
       " 'latest/']"
      ]
     },
     "execution_count": 2,
     "metadata": {},
     "output_type": "execute_result"
    }
   ],
   "source": [
    "base_url = 'https://dumps.wikimedia.org/enwiki/'\n",
    "index = requests.get(base_url).text\n",
    "soup_index = BeautifulSoup(index, 'html.parser')\n",
    "\n",
    "# Find the links that are dates of dumps\n",
    "dumps = [a['href'] for a in soup_index.find_all('a') if \n",
    "         a.has_attr('href')]\n",
    "dumps"
   ]
  },
  {
   "cell_type": "markdown",
   "metadata": {},
   "source": [
    "The next line of code finds the html content of the page for the dump made on the first of September. If there is a more recent version available, feel free to use that instead!"
   ]
  },
  {
   "cell_type": "code",
   "execution_count": 3,
   "metadata": {},
   "outputs": [
    {
     "data": {
      "text/plain": [
       "'<!DOCTYPE '"
      ]
     },
     "execution_count": 3,
     "metadata": {},
     "output_type": "execute_result"
    }
   ],
   "source": [
    "dump_url = base_url + '20180901/'\n",
    "\n",
    "# Retrieve the html\n",
    "dump_html = requests.get(dump_url).text\n",
    "dump_html[:10]"
   ]
  },
  {
   "cell_type": "markdown",
   "metadata": {},
   "source": [
    "It may be helpful to go to https://dumps.wikimedia.org/enwiki/20180901/ to see the available downloads. If you wanted to download the files by hand, you could do that, but we'll accomplish it programmatically. \n",
    "\n",
    "Next we will parse through the html text to find the files we want to download. "
   ]
  },
  {
   "cell_type": "markdown",
   "metadata": {},
   "source": [
    "### Deciding What to Download\n",
    "\n",
    "We will focus only on the most recent version of the articles themselves. It is possible to get the past history of articles, the edits, the discussion, and other metadata, but the articles themselves provide us with more than enough data! \n",
    "\n",
    "For more information on the available downloads, take a look at the [Wikimedia dump](https://dumps.wikimedia.org/) or on [Wikipedia itself](https://en.wikipedia.org/wiki/Wikipedia:Database_download#English-language_Wikipedia).\n",
    "\n",
    "The most recent revision of every single article (what we are after) is available in a single compressed file as `pages-articles.xml.bz2`. However, we'll download the articles in smaller chunks so that we can then process them in parallel (which we'll see later). The single file - which is compressed XML (using bz2) - is over 15 GB while the smaller chunks - of which there are 55 - are several hundred megabytes each also compressed XML.\n",
    "\n",
    "If you only want to find a specific article, then the `pages-article-multistream.xml.bz2` may be a better choice. There is an `index` for the multistream version that means you can locate a specific article within the compressed file without having to search through the entire file. For more information refer to the \"Should I get Multistream?\" section on [this Wikipedia page](https://en.wikipedia.org/wiki/Wikipedia:Database_download#).\n",
    "\n",
    "To find all the individual files, we'll search through the html from the dump identified earlier. We'll look for any files that have `pages_articles` in the text. To parse through html (or other markup languages), we can use Beautiful Soup. This makes searching for particular tags and classes (such as `file` below) very efficient. If you are doing any web scraping, this will be a very useful library to learn! "
   ]
  },
  {
   "cell_type": "code",
   "execution_count": 4,
   "metadata": {},
   "outputs": [
    {
     "data": {
      "text/plain": [
       "[<li class=\"file\"><a href=\"/enwiki/20180901/enwiki-20180901-pages-articles-multistream.xml.bz2\">enwiki-20180901-pages-articles-multistream.xml.bz2</a> 15.2 GB</li>,\n",
       " <li class=\"file\"><a href=\"/enwiki/20180901/enwiki-20180901-pages-articles-multistream-index.txt.bz2\">enwiki-20180901-pages-articles-multistream-index.txt.bz2</a> 195.6 MB</li>,\n",
       " <li class=\"file\"><a href=\"/enwiki/20180901/enwiki-20180901-pages-meta-history1.xml-p10p2101.7z\">enwiki-20180901-pages-meta-history1.xml-p10p2101.7z</a> 320.6 MB</li>,\n",
       " <li class=\"file\"><a href=\"/enwiki/20180901/enwiki-20180901-pages-meta-history1.xml-p2102p4148.7z\">enwiki-20180901-pages-meta-history1.xml-p2102p4148.7z</a> 310.5 MB</li>]"
      ]
     },
     "execution_count": 4,
     "metadata": {},
     "output_type": "execute_result"
    }
   ],
   "source": [
    "# Convert to a soup\n",
    "soup_dump = BeautifulSoup(dump_html, 'html.parser')\n",
    "\n",
    "# Find li elements with the class file\n",
    "soup_dump.find_all('li', {'class': 'file'}, limit = 10)[:4]"
   ]
  },
  {
   "cell_type": "markdown",
   "metadata": {},
   "source": [
    "This has given us all of the available files for download in the September 1 dump of Wikipedia. Now we want to limit to only the files containing `pages-articles` to get only the recent versions of the articles."
   ]
  },
  {
   "cell_type": "code",
   "execution_count": 5,
   "metadata": {},
   "outputs": [
    {
     "data": {
      "text/plain": [
       "[('enwiki-20180901-pages-articles-multistream.xml.bz2', ['15.2', 'GB']),\n",
       " ('enwiki-20180901-pages-articles-multistream-index.txt.bz2', ['195.6', 'MB']),\n",
       " ('enwiki-20180901-pages-articles.xml.bz2', ['14.3', 'GB']),\n",
       " ('enwiki-20180901-pages-articles1.xml-p10p30302.bz2', ['165.3', 'MB']),\n",
       " ('enwiki-20180901-pages-articles2.xml-p30304p88444.bz2', ['195.8', 'MB'])]"
      ]
     },
     "execution_count": 5,
     "metadata": {},
     "output_type": "execute_result"
    }
   ],
   "source": [
    "files = []\n",
    "\n",
    "# Search through all files\n",
    "for file in soup_dump.find_all('li', {'class': 'file'}):\n",
    "    text = file.text\n",
    "    # Select the relevant files\n",
    "    if 'pages-articles' in text:\n",
    "        files.append((text.split()[0], text.split()[1:]))\n",
    "        \n",
    "files[:5]"
   ]
  },
  {
   "cell_type": "markdown",
   "metadata": {},
   "source": [
    "We only want the partitioned files so we can further refine our selection to those with `xml-p`. "
   ]
  },
  {
   "cell_type": "code",
   "execution_count": 6,
   "metadata": {},
   "outputs": [
    {
     "data": {
      "text/plain": [
       "['enwiki-20180901-pages-articles27.xml-p51663464p53163464.bz2',\n",
       " 'enwiki-20180901-pages-articles27.xml-p53163464p54663464.bz2',\n",
       " 'enwiki-20180901-pages-articles27.xml-p54663464p56163464.bz2',\n",
       " 'enwiki-20180901-pages-articles27.xml-p56163464p57663464.bz2',\n",
       " 'enwiki-20180901-pages-articles27.xml-p57663464p58360959.bz2']"
      ]
     },
     "execution_count": 6,
     "metadata": {},
     "output_type": "execute_result"
    }
   ],
   "source": [
    "files_to_download = [file[0] for file in files if '.xml-p' in file[0]]\n",
    "files_to_download[-5:]"
   ]
  },
  {
   "cell_type": "markdown",
   "metadata": {},
   "source": [
    "I'm not sure what the `p` numbers mean at the end of the file name. It must have something to do with the partitioning of the data. At first I thought it was the number of articles in the partition, but the English language Wikipedia only has 5.8 million article and these numbers go up to 58 million. If we subtract the second number from the first, the most common number is 1.5 million. Maybe this has something to do with the number of bytes in the file? I'm not sure, but I would appreciate if someone would let met know. "
   ]
  },
  {
   "cell_type": "markdown",
   "metadata": {},
   "source": [
    "## Download Wikipedia Data\n",
    "\n",
    "Now we need to actually download the data. This can be done using the keras `get_file` utility which downloads the specified file at the specified url. If we already have the entire dataset downloaded, then we don't want to download it again! For that reason we first use a check to see if the data exists.\n",
    "\n",
    "The default download directory for keras is `~/.keras/datasets`. I already had the dataset downloaded, but the download will take around 150 minutes and requires at least 15 GB of disk space."
   ]
  },
  {
   "cell_type": "code",
   "execution_count": 7,
   "metadata": {},
   "outputs": [
    {
     "name": "stderr",
     "output_type": "stream",
     "text": [
      "Using TensorFlow backend.\n"
     ]
    }
   ],
   "source": [
    "import sys\n",
    "from keras.utils import get_file\n",
    "\n",
    "keras_home = '/home/ubuntu/.keras/datasets/'"
   ]
  },
  {
   "cell_type": "code",
   "execution_count": 8,
   "metadata": {},
   "outputs": [],
   "source": [
    "data_paths = []\n",
    "file_info = []\n",
    "\n",
    "# Iterate through each file\n",
    "for file in files_to_download:\n",
    "    path = keras_home + file\n",
    "    \n",
    "    # Check to see if the path exists (if the file is already downloaded)\n",
    "    if not os.path.exists(keras_home + file):\n",
    "        print('Downloading')\n",
    "        # If not, download the file\n",
    "        data_paths.append(get_file(file, dump_url))\n",
    "        # Find the file size in MB\n",
    "        file_size = os.stat(path).st_size / 1e6\n",
    "        \n",
    "        # Find the number of articles\n",
    "        file_articles = int(file.split('p')[-1].split('.')[-2]) - int(file.split('p')[-2])\n",
    "        file_info.append((file, file_size, file_articles))\n",
    "        \n",
    "    # If the file is already downloaded find some information\n",
    "    else:\n",
    "        data_paths.append(path)\n",
    "        # Find the file size in MB\n",
    "        file_size = os.stat(path).st_size / 1e6\n",
    "        \n",
    "        # Find the number of articles\n",
    "        file_number = int(file.split('p')[-1].split('.')[-2]) - int(file.split('p')[-2])\n",
    "        file_info.append((file.split('-')[-1], file_size, file_number))"
   ]
  },
  {
   "cell_type": "markdown",
   "metadata": {},
   "source": [
    "What is the largest file? We can use `sorted` to sort by the file size."
   ]
  },
  {
   "cell_type": "code",
   "execution_count": 9,
   "metadata": {},
   "outputs": [
    {
     "data": {
      "text/plain": [
       "[('p6197599p7697599.bz2', 397.133836, 1500000),\n",
       " ('p3926864p5040435.bz2', 396.765417, 1113571),\n",
       " ('p5040438p6197593.bz2', 390.834855, 1157155),\n",
       " ('p3046517p3926861.bz2', 383.739076, 880344),\n",
       " ('p7744803p9244803.bz2', 374.264421, 1500000)]"
      ]
     },
     "execution_count": 9,
     "metadata": {},
     "output_type": "execute_result"
    }
   ],
   "source": [
    "sorted(file_info, key = lambda x: x[1], reverse = True)[:5]"
   ]
  },
  {
   "cell_type": "markdown",
   "metadata": {},
   "source": [
    "These sizes are in MB. It looks like the largest files are about 400 MB compressed. "
   ]
  },
  {
   "cell_type": "code",
   "execution_count": 10,
   "metadata": {},
   "outputs": [
    {
     "data": {
      "text/plain": [
       "[('p6197599p7697599.bz2', 397.133836, 1500000),\n",
       " ('p7744803p9244803.bz2', 374.264421, 1500000),\n",
       " ('p9518059p11018059.bz2', 310.0126, 1500000),\n",
       " ('p11539268p13039268.bz2', 369.371949, 1500000),\n",
       " ('p13693075p15193075.bz2', 352.199415, 1500000)]"
      ]
     },
     "execution_count": 10,
     "metadata": {},
     "output_type": "execute_result"
    }
   ],
   "source": [
    "sorted(file_info, key = lambda x: x[2], reverse = True)[:5]"
   ]
  },
  {
   "cell_type": "markdown",
   "metadata": {},
   "source": [
    "Again, I don't know what the numbers after the p mean, but the most common difference between the first and second is 1_500_000."
   ]
  },
  {
   "cell_type": "code",
   "execution_count": 11,
   "metadata": {},
   "outputs": [
    {
     "name": "stdout",
     "output_type": "stream",
     "text": [
      "There are 55 partitions.\n"
     ]
    }
   ],
   "source": [
    "print(f'There are {len(file_info)} partitions.')"
   ]
  },
  {
   "cell_type": "markdown",
   "metadata": {},
   "source": [
    "How about putting this info into a dataframe to plot the file sizes?"
   ]
  },
  {
   "cell_type": "code",
   "execution_count": 12,
   "metadata": {},
   "outputs": [
    {
     "data": {
      "image/png": "[encoded data removed]",
      "text/plain": [
       "<Figure size 864x432 with 1 Axes>"
      ]
     },
     "metadata": {},
     "output_type": "display_data"
    }
   ],
   "source": [
    "import pandas as pd\n",
    "import matplotlib.pyplot as plt\n",
    "%matplotlib inline\n",
    "file_df = pd.DataFrame(file_info, columns = ['file', 'size (MB)', 'articles']).set_index('file')\n",
    "file_df['size (MB)'].plot.bar(color = 'red', figsize = (12, 6));"
   ]
  },
  {
   "cell_type": "markdown",
   "metadata": {},
   "source": [
    "Total there are 5.7 million articles contained in these files. In a way, it's surprising that the extent of all human knowledge (okay I'm exaggerating somewhat) is now contained on our computer! \n",
    "\n",
    "#### Size of Wikipedia \n",
    "\n",
    "For some interesting reading, check out the following Wikipedia Articles:\n",
    "\n",
    "* [Size of Wikipedia](https://en.wikipedia.org/wiki/Wikipedia:Size_of_Wikipedia)\n",
    "* [Modelling Growth of Wikipedia](https://en.wikipedia.org/wiki/Wikipedia:Modelling_Wikipedia%27s_growth#Data_set_for_number_of_articles)\n",
    "* [Size Comparisons of Wikipedia to other Encyclopedias](https://en.wikipedia.org/wiki/Wikipedia:Size_comparisons)"
   ]
  },
  {
   "cell_type": "code",
   "execution_count": 13,
   "metadata": {},
   "outputs": [
    {
     "name": "stdout",
     "output_type": "stream",
     "text": [
      "The total size of files on disk is 15.398009268 GB\n"
     ]
    }
   ],
   "source": [
    "print(f\"The total size of files on disk is {file_df['size (MB)'].sum() / 1e3} GB\")"
   ]
  },
  {
   "cell_type": "markdown",
   "metadata": {},
   "source": [
    "Again, we could download this all at once with the `pages-articles.xml.bz2` file, but then we would have to parse it sequentially which takes ages. Instead, because we have partitioned data, we can iterate over the files in parallel and process 16 at a time (as we'll see later)."
   ]
  },
  {
   "cell_type": "markdown",
   "metadata": {},
   "source": [
    "## Parsing the Data\n",
    "\n",
    "Together, the files take up 15.4 GB. Decompressed as xml, it's close to 50 GB. We could decompress each file into XML and then parse through it, but we can also parse through a decompressed file iteratively one line at a time. If we are concered about disk space, this is a better option. Working through the compressed file one line at a time also might be the only option in cases where the individual files are too large to fit in memory. \n",
    "\n",
    "We'll start by working through one of the files and then develop functions that we can run on all of the files. Because we downloaded the data in chunks, we'll be able to parallelize the parsing operations.\n",
    "\n",
    "### Iterating through Compressed Files\n",
    "\n",
    "To get started, make sure you have `bzcat` installed on your system. The [`bzcat` utility] (http://www.qnx.com/developers/docs/6.5.0SP1.update/com.qnx.doc.neutrino_utilities/b/bzcat.html) is a command line program that decompresses a bz2 compressed file and sends the contents to standard out. To go through the files one line at a time, we simply iterate over the command to decompress the file. We call the `bzcat` command using `subprocess` which is often used to execute system commands in Python.\n",
    "\n",
    "Another option for decompressing the file is `bz2`. However, in tests (see below), I found this to be much slower than `bzcat`. "
   ]
  },
  {
   "cell_type": "code",
   "execution_count": 14,
   "metadata": {},
   "outputs": [
    {
     "data": {
      "text/plain": [
       "'/home/ubuntu/.keras/datasets/enwiki-20180901-pages-articles15.xml-p7744803p9244803.bz2'"
      ]
     },
     "execution_count": 14,
     "metadata": {},
     "output_type": "execute_result"
    }
   ],
   "source": [
    "import bz2\n",
    "import subprocess\n",
    "\n",
    "data_path = data_paths[15]\n",
    "data_path"
   ]
  },
  {
   "cell_type": "markdown",
   "metadata": {},
   "source": [
    "#### Test bz2 versus bzcat \n",
    "\n",
    "The cells below test the run time of using `bz2` versus `bzcat` to process 1 million lines of the compressed file."
   ]
  },
  {
   "cell_type": "code",
   "execution_count": 15,
   "metadata": {},
   "outputs": [
    {
     "name": "stdout",
     "output_type": "stream",
     "text": [
      "4.16 s ± 10.1 ms per loop (mean ± std. dev. of 3 runs, 3 loops each)\n"
     ]
    }
   ],
   "source": [
    "%%timeit -n 3 -r 3\n",
    "\n",
    "lines = []\n",
    "for i, line in enumerate(bz2.BZ2File(data_path, 'r')):\n",
    "    lines.append(line)\n",
    "    if i > 1e6:\n",
    "        break"
   ]
  },
  {
   "cell_type": "code",
   "execution_count": 16,
   "metadata": {},
   "outputs": [
    {
     "name": "stdout",
     "output_type": "stream",
     "text": [
      "2.61 s ± 137 ms per loop (mean ± std. dev. of 3 runs, 3 loops each)\n"
     ]
    }
   ],
   "source": [
    "%%timeit -n 3 -r 3\n",
    "\n",
    "lines = []\n",
    "for i, line in enumerate(subprocess.Popen(['bzcat'], \n",
    "                         stdin = open(data_path), \n",
    "                         stdout = subprocess.PIPE).stdout):\n",
    "    lines.append(line)\n",
    "    if i > 1e6:\n",
    "        break"
   ]
  },
  {
   "cell_type": "markdown",
   "metadata": {},
   "source": [
    "The `subprocess` + `bzcat` approach is nearly twice as fast. Let's run this again and see what kind of data we have."
   ]
  },
  {
   "cell_type": "code",
   "execution_count": 17,
   "metadata": {},
   "outputs": [
    {
     "data": {
      "text/plain": [
       "[b'  <page>\\n',\n",
       " b'    <title>Carroll Knicely</title>\\n',\n",
       " b'    <ns>0</ns>\\n',\n",
       " b'    <id>7772446</id>\\n',\n",
       " b'    <revision>\\n',\n",
       " b'      <id>850825914</id>\\n',\n",
       " b'      <parentid>819310247</parentid>\\n',\n",
       " b'      <timestamp>2018-07-18T05:43:30Z</timestamp>\\n',\n",
       " b'      <contributor>\\n',\n",
       " b'        <username>Ser Amantio di Nicolao</username>\\n',\n",
       " b'        <id>753665</id>\\n',\n",
       " b'      </contributor>\\n',\n",
       " b'      <comment>/* External links */add authority control, test using [[Project:AWB|AWB]]</comment>\\n',\n",
       " b'      <model>wikitext</model>\\n',\n",
       " b'      <format>text/x-wiki</format>\\n',\n",
       " b'      <text xml:space=\"preserve\">\\'\\'\\'Carroll F. Knicely\\'\\'\\' (born c. 1929 in [[Staunton, Virginia]] - died November 2, 2006 in [[Glasgow, Kentucky]]) was [[Editing|editor]] and [[Publishing|publisher]] of the \\'\\'[[Glasgow Daily Times]]\\'\\' for nearly 20 years (and later, its owner) and served under three [[Governor of Kentucky|Kentucky Governors]] as commissioner and later Commerce Secretary.\\n',\n",
       " b'\\n',\n",
       " b'==Career in publishing==\\n',\n",
       " b\"Knicely started out as an [[apprentice]] [[Linotype machine|linotype]] operator at ''[[The News-Virginian]]''.  In 1957, he relocated to [[Glasgow, Kentucky]] as the president, editor and publisher of the ''Glasgow Daily Times''.  In 1963, Knicely and his wife Evely became the sole owners of the newspaper and of the Glasgow Publishing Corporation.  He also held interests in several newspapers all over [[Kentucky]] and was part owner of a weekly newspaper in [[Westmoreland, Tennessee]].\\n\",\n",
       " b'\\n',\n",
       " b'Knicely served as president of the Kentucky Press Association and president of the Kentucky Journalism Foundation. Under his leadership, the Glasgow Daily Times was named by the Kentucky Press Association as the best newspaper in its class in 1967.\\n',\n",
       " b'\\n',\n",
       " b'==Western Kentucky University==\\n',\n",
       " b\"Knicely was a supporter of [[Western Kentucky University]], where he served on the board of regents beginning in 1976. He was instrumental in the success of the university's nationally known journalism department.\\n\",\n",
       " b'\\n',\n",
       " b'Knicely was a [[philanthropist]], donating large sums of money to the Institute for Economic Development and Public Service at the university and to establish the Knicely Professorship in [[Leadership Studies]] and to create the Knicely Endowment, a permanent support fund to maintain and upgrade the Institute.\\n',\n",
       " b'\\n',\n",
       " b\"The Carroll Knicely Conference Center at Western Kentucky University's [[Bowling Green, Kentucky|Bowling Green]] campus is named in his honor.\\n\",\n",
       " b'\\n',\n",
       " b'==Civil service==\\n',\n",
       " b\"Knicely served as Commerce secretary under [[Democratic Party (United States)|Democratic]] governors [[Julian Carroll]], [[Martha Layne Collins]] and [[Wallace G. Wilkinson]].  While serving in the state's Commerce Cabinet as commissioner, he helped secure the location of the [[General Motors]] [[Chevrolet Corvette|Corvette]] plant in Bowling Green in 1981. Later, as commerce secretary, he was instrumental in bringing the [[Toyota Motor Corporation|Toyota]] plant to [[Georgetown, Kentucky]] in 1985.\\n\",\n",
       " b'\\n',\n",
       " b'==Personal life==\\n',\n",
       " b'Knicely had two sons and three daughters, four grandchildren and four great-grandchildren.\\n',\n",
       " b'\\n',\n",
       " b'==External links==\\n',\n",
       " b\"*[http://www.legacy.com/louisville/Obituaries.asp?Page=LifeStory&amp;PersonID=19811596 Carroll Knicely's obituary]\\n\",\n",
       " b'\\n',\n",
       " b'{{authority control}}\\n',\n",
       " b'\\n',\n",
       " b'{{DEFAULTSORT:Knicely, Carroll F.}}\\n',\n",
       " b'[[Category:1929 births]]\\n',\n",
       " b'[[Category:2006 deaths]]\\n',\n",
       " b'[[Category:Politicians from Staunton, Virginia]]\\n',\n",
       " b'[[Category:People from Glasgow, Kentucky]]\\n',\n",
       " b'[[Category:American newspaper editors]]\\n',\n",
       " b'[[Category:20th-century American newspaper publishers (people)]]\\n',\n",
       " b'[[Category:American philanthropists]]\\n',\n",
       " b'[[Category:State cabinet secretaries of Kentucky]]\\n',\n",
       " b'[[Category:Kentucky Democrats]]\\n',\n",
       " b'[[Category:Western Kentucky University people]]\\n',\n",
       " b'[[Category:20th-century American politicians]]\\n',\n",
       " b'[[Category:Journalists from Virginia]]</text>\\n',\n",
       " b'      <sha1>ne9lm35t87mct6z7cpe9peze3wat8ii</sha1>\\n',\n",
       " b'    </revision>\\n',\n",
       " b'  </page>\\n']"
      ]
     },
     "execution_count": 17,
     "metadata": {},
     "output_type": "execute_result"
    }
   ],
   "source": [
    "lines = []\n",
    "\n",
    "for i, line in enumerate(subprocess.Popen(['bzcat'], \n",
    "                         stdin = open(data_path), \n",
    "                         stdout = subprocess.PIPE).stdout):\n",
    "    lines.append(line)\n",
    "    if i > 5e5:\n",
    "        break\n",
    "        \n",
    "lines[-165:-109]"
   ]
  },
  {
   "cell_type": "markdown",
   "metadata": {},
   "source": [
    "Here we have a complete article. We could go through each file and extract out the articles using regular expressions, but that would be extremely inefficient. Instead, we'll use an XML parser to find the article text that we then will use _another_ parser to extract information from."
   ]
  },
  {
   "cell_type": "markdown",
   "metadata": {},
   "source": [
    "# Parsing Approach\n",
    "\n",
    "In order to get useful information from this data, we have to parse it on two levels.\n",
    "\n",
    "1. Extract the titles and article text from the XML\n",
    "2. Extract relevant information from the article text"
   ]
  },
  {
   "cell_type": "markdown",
   "metadata": {},
   "source": [
    "## Parsing XML\n",
    "\n",
    "To solve the first problem, we'll use a tool purpose built for the task of parsing XML, SAX: The Simple API for XML. [The documentation](http://pyxml.sourceforge.net/topics/howto/section-SAX.html) is a little difficult to follow, but the basic idea is that we can use SAX to search through the XML and select elements based on the tag. (If you need an introduction to XML, I'd highly recommend starting [here](https://www.w3schools.com/xml/default.asp)).\n",
    "\n",
    "For example, if we have the follow XML element, we want to extract the text that occurs between the `<title>` tags:\n",
    "\n",
    "`<title>Carroll Knicely</title>`\n",
    "\n",
    "Likewise, if we have the content of an article like below, we want to extract the text that occurs between the `<text>` tags. \n",
    "\n",
    "```XML\n",
    "<text xml:space=\"preserve\">\\'\\'\\'Carroll F. Knicely\\'\\'\\' (born c. 1929 in [[Staunton, Virginia]] - died November 2, 2006 in [[Glasgow, Kentucky]]) was [[Editing|editor]] and [[Publishing|publisher]] of the \\'\\'[[Glasgow Daily Times]]\\'\\' for nearly 20 years (and later, its owner) and served under three [[Governor of Kentucky|Kentucky Governors]] as commissioner and later Commerce Secretary.\\n'\n",
    "</text>\n",
    "```\n",
    "\n",
    "We'll use the SAX XML parser to do exactly that: find the titles and text content of the articles. Then, we can pass the text to another parser to extract information from the article. \n",
    "\n",
    "Explaining how SAX works is a little more difficult than just showing, so I'll present the code and show some examples. A SAX parser requires a content handler, which is the only code we need to write. \n",
    "\n",
    "(Beautiful Soup can also be used for parsing XMl. However, it requires reading in an entire file at a time in order to build a Document Object Model (DOM). For our use case, the SAX parser works better because it parser XML sequentially which means we don't need to read the whole file into memory. If you want to look at the Beautiful Soup approach, you can refer to [this article.](http://www2.hawaii.edu/~takebaya/cent110/xml_parse/xml_parse.html) or the [BeautifulSoup documentation](https://www.crummy.com/software/BeautifulSoup/bs4/doc/) which includes information on XML parsing using the library.)"
   ]
  },
  {
   "cell_type": "code",
   "execution_count": 18,
   "metadata": {},
   "outputs": [],
   "source": [
    "import xml.sax\n",
    "\n",
    "class WikiXmlHandler(xml.sax.handler.ContentHandler):\n",
    "    \"\"\"Content handler for Wiki XML data using SAX\"\"\"\n",
    "    def __init__(self):\n",
    "        xml.sax.handler.ContentHandler.__init__(self)\n",
    "        self._buffer = None\n",
    "        self._values = {}\n",
    "        self._current_tag = None\n",
    "        self._pages = []\n",
    "\n",
    "    def characters(self, content):\n",
    "        \"\"\"Characters between opening and closing tags\"\"\"\n",
    "        if self._current_tag:\n",
    "            self._buffer.append(content)\n",
    "\n",
    "    def startElement(self, name, attrs):\n",
    "        \"\"\"Opening tag of element\"\"\"\n",
    "        if name in ('title', 'text', 'timestamp'):\n",
    "            self._current_tag = name\n",
    "            self._buffer = []\n",
    "\n",
    "    def endElement(self, name):\n",
    "        \"\"\"Closing tag of element\"\"\"\n",
    "        if name == self._current_tag:\n",
    "            self._values[name] = ' '.join(self._buffer)\n",
    "\n",
    "        if name == 'page':\n",
    "            self._pages.append((self._values['title'], self._values['text']))"
   ]
  },
  {
   "cell_type": "markdown",
   "metadata": {},
   "source": [
    "The Content handler looks for certain start tags, and when it finds one, it adds characters to the buffer until it encouters the same end tag. Then it saves the buffer content to a dictionary with the tag as key. We are overriding a few of the default SAX `ContentHandler` methods in order to do what we want: find the titles and texts in the XML.\n",
    "\n",
    "The text of Wikipedia articles starts and ends with the `<text>` tag and the entire article starts and ends with the `<page>` tag. The `<timestamp>` tag records the last edit of the page. \n",
    "\n",
    "Next, we need to create a `handler` object of the `WikiXMLHandler` class. Then we pass the handler in as the content handler to a SAX `parser`. "
   ]
  },
  {
   "cell_type": "code",
   "execution_count": 19,
   "metadata": {},
   "outputs": [
    {
     "data": {
      "text/plain": [
       "[]"
      ]
     },
     "execution_count": 19,
     "metadata": {},
     "output_type": "execute_result"
    }
   ],
   "source": [
    "# Content handler for Wiki XML\n",
    "handler = WikiXmlHandler()\n",
    "\n",
    "# Parsing object\n",
    "parser = xml.sax.make_parser()\n",
    "parser.setContentHandler(handler)\n",
    "\n",
    "handler._pages"
   ]
  },
  {
   "cell_type": "markdown",
   "metadata": {},
   "source": [
    "Let's work through a single article. We `feed` in one line of XML at a time to the `parser`. It searches the XML for the tags using the methods in the handler. The correct data is then stored in the handler (later we'll pass the `text` on to another parser). "
   ]
  },
  {
   "cell_type": "code",
   "execution_count": 20,
   "metadata": {},
   "outputs": [],
   "source": [
    "for l in lines[-165:-109]:\n",
    "    parser.feed(l)"
   ]
  },
  {
   "cell_type": "code",
   "execution_count": 21,
   "metadata": {},
   "outputs": [
    {
     "data": {
      "text/plain": [
       "[('Carroll Knicely',\n",
       "  \"'''Carroll F. Knicely''' (born c. 1929 in [[Staunton, Virginia]] - died November 2, 2006 in [[Glasgow, Kentucky]]) was [[Editing|editor]] and [[Publishing|publisher]] of the ''[[Glasgow Daily Times]]'' for nearly 20 years (and later, its owner) and served under three [[Governor of Kentucky|Kentucky Governors]] as commissioner and later Commerce Secretary. \\n \\n ==Career in publishing== \\n Knicely started out as an [[apprentice]] [[Linotype machine|linotype]] operator at ''[[The News-Virginian]]''.  In 1957, he relocated to [[Glasgow, Kentucky]] as the president, editor and publisher of the ''Glasgow Daily Times''.  In 1963, Knicely and his wife Evely became the sole owners of the newspaper and of the Glasgow Publishing Corporation.  He also held interests in several newspapers all over [[Kentucky]] and was part owner of a weekly newspaper in [[Westmoreland, Tennessee]]. \\n \\n Knicely served as president of the Kentucky Press Association and president of the Kentucky Journalism Foundation. Under his leadership, the Glasgow Daily Times was named by the Kentucky Press Association as the best newspaper in its class in 1967. \\n \\n ==Western Kentucky University== \\n Knicely was a supporter of [[Western Kentucky University]], where he served on the board of regents beginning in 1976. He was instrumental in the success of the university's nationally known journalism department. \\n \\n Knicely was a [[philanthropist]], donating large sums of money to the Institute for Economic Development and Public Service at the university and to establish the Knicely Professorship in [[Leadership Studies]] and to create the Knicely Endowment, a permanent support fund to maintain and upgrade the Institute. \\n \\n The Carroll Knicely Conference Center at Western Kentucky University's [[Bowling Green, Kentucky|Bowling Green]] campus is named in his honor. \\n \\n ==Civil service== \\n Knicely served as Commerce secretary under [[Democratic Party (United States)|Democratic]] governors [[Julian Carroll]], [[Martha Layne Collins]] and [[Wallace G. Wilkinson]].  While serving in the state's Commerce Cabinet as commissioner, he helped secure the location of the [[General Motors]] [[Chevrolet Corvette|Corvette]] plant in Bowling Green in 1981. Later, as commerce secretary, he was instrumental in bringing the [[Toyota Motor Corporation|Toyota]] plant to [[Georgetown, Kentucky]] in 1985. \\n \\n ==Personal life== \\n Knicely had two sons and three daughters, four grandchildren and four great-grandchildren. \\n \\n ==External links== \\n *[http://www.legacy.com/louisville/Obituaries.asp?Page=LifeStory & PersonID=19811596 Carroll Knicely's obituary] \\n \\n {{authority control}} \\n \\n {{DEFAULTSORT:Knicely, Carroll F.}} \\n [[Category:1929 births]] \\n [[Category:2006 deaths]] \\n [[Category:Politicians from Staunton, Virginia]] \\n [[Category:People from Glasgow, Kentucky]] \\n [[Category:American newspaper editors]] \\n [[Category:20th-century American newspaper publishers (people)]] \\n [[Category:American philanthropists]] \\n [[Category:State cabinet secretaries of Kentucky]] \\n [[Category:Kentucky Democrats]] \\n [[Category:Western Kentucky University people]] \\n [[Category:20th-century American politicians]] \\n [[Category:Journalists from Virginia]]\")]"
      ]
     },
     "execution_count": 21,
     "metadata": {},
     "output_type": "execute_result"
    }
   ],
   "source": [
    "handler._pages"
   ]
  },
  {
   "cell_type": "markdown",
   "metadata": {},
   "source": [
    "We have successfully extracted one page! Once we have the page text, we need to process it as well to find the information we want. We'll write that function next. First, let's see this process again, this time finding three different articles."
   ]
  },
  {
   "cell_type": "code",
   "execution_count": 22,
   "metadata": {},
   "outputs": [
    {
     "name": "stdout",
     "output_type": "stream",
     "text": [
      "['Zhou Wei Hui', 'Fred Jones (fictional character)', 'Sosnovski Raion']\n"
     ]
    }
   ],
   "source": [
    "# Object for handling xml\n",
    "handler = WikiXmlHandler()\n",
    "\n",
    "# Parsing object\n",
    "parser = xml.sax.make_parser()\n",
    "parser.setContentHandler(handler)\n",
    "\n",
    "for i, line in enumerate(subprocess.Popen(['bzcat'], \n",
    "                         stdin = open(data_path), \n",
    "                         stdout = subprocess.PIPE).stdout):\n",
    "    parser.feed(line)\n",
    "    \n",
    "    # Stop when 3 articles have been found\n",
    "    if len(handler._pages) > 2:\n",
    "        break\n",
    "        \n",
    "print([x[0] for x in handler._pages])"
   ]
  },
  {
   "cell_type": "markdown",
   "metadata": {},
   "source": [
    "The next step is to process the actual text of the article. For this, we will turn to the `mwparserfromhell` library. [This library](https://github.com/earwig/mwparserfromhell) is custom made for parsing `MediaWiki` wikicode which is a standard that includes Wikipedia articles. [MediaWiki](https://www.mediawiki.org/wiki/MediaWiki) is used by Wikipedia and numerous other projects and provides a relatively standardized template for creating wiki pages. Thanks to this standardization, we can using a custom built parser to go through the articles."
   ]
  },
  {
   "cell_type": "markdown",
   "metadata": {},
   "source": [
    "## Parsing Articles\n",
    "\n",
    "The text of the articles themselves is processed using the `mwparserfromhell`. Although the text may simple look like a Python string, there is far more information contained in the formatting of the `text` than just the information we can see. \n",
    "\n",
    "First we'll find a number of articles using the `WikiXmlHandler` and a SAX parser."
   ]
  },
  {
   "cell_type": "code",
   "execution_count": 23,
   "metadata": {},
   "outputs": [],
   "source": [
    "# Object for handling xml\n",
    "handler = WikiXmlHandler()\n",
    "\n",
    "# Parsing object\n",
    "parser = xml.sax.make_parser()\n",
    "parser.setContentHandler(handler)\n",
    "\n",
    "for i, line in enumerate(subprocess.Popen(['bzcat'], \n",
    "                         stdin = open(data_path), \n",
    "                         stdout = subprocess.PIPE).stdout):\n",
    "    parser.feed(line)\n",
    "    \n",
    "    # Stop when 50 articles have been found\n",
    "    if len(handler._pages) > 50:\n",
    "        break"
   ]
  },
  {
   "cell_type": "markdown",
   "metadata": {},
   "source": [
    "To create a `wiki` representation of the text, we pass the Wikipedia article text to the `mwparserfromhell`. "
   ]
  },
  {
   "cell_type": "code",
   "execution_count": 24,
   "metadata": {},
   "outputs": [
    {
     "name": "stdout",
     "output_type": "stream",
     "text": [
      "KENZ (FM)\n"
     ]
    }
   ],
   "source": [
    "import mwparserfromhell \n",
    "\n",
    "print(handler._pages[6][0])\n",
    "\n",
    "# Create the wiki article\n",
    "wiki = mwparserfromhell.parse(handler._pages[6][1])"
   ]
  },
  {
   "cell_type": "markdown",
   "metadata": {},
   "source": [
    "We'll work through the article for KENZ (FM). It might be helpful to pull up the [Wikipedia page alongside](https://en.wikipedia.org/wiki/KENZ_(FM)) so you can see what is happening."
   ]
  },
  {
   "cell_type": "code",
   "execution_count": 25,
   "metadata": {},
   "outputs": [
    {
     "name": "stdout",
     "output_type": "stream",
     "text": [
      "<class 'mwparserfromhell.wikicode.Wikicode'>\n"
     ]
    },
    {
     "data": {
      "text/plain": [
       "'{{Infobox radio station \\n  | name = KENZ \\n  | image = File:KENZ_949_Logo_2017.png \\n  | city = [[Prov'"
      ]
     },
     "execution_count": 25,
     "metadata": {},
     "output_type": "execute_result"
    }
   ],
   "source": [
    "print(type(wiki))\n",
    "wiki[:100]"
   ]
  },
  {
   "cell_type": "markdown",
   "metadata": {},
   "source": [
    "This looks like a normal string, but in fact, it's a `mwparserfromhell.wikicode.Wikicode` object with many different methods for sorting through the content.\n",
    "\n",
    "### Wikicode Search Methods\n",
    "\n",
    "For example, we can find all the internal links (those that go to other wikipedia pages) using `wiki.filter_wikilinks()`. This will give us the `title` of the Wikipedia article linked to as well as the `text` of the link. We'll extract just the titles of the articles. "
   ]
  },
  {
   "cell_type": "code",
   "execution_count": 26,
   "metadata": {},
   "outputs": [
    {
     "name": "stdout",
     "output_type": "stream",
     "text": [
      "There are 56 wikilinks.\n"
     ]
    },
    {
     "data": {
      "text/plain": [
       "['Provo, Utah', 'Wasatch Front', 'Megahertz', 'Contemporary hit radio', 'watt']"
      ]
     },
     "execution_count": 26,
     "metadata": {},
     "output_type": "execute_result"
    }
   ],
   "source": [
    "wikilinks = [x.title for x in wiki.filter_wikilinks()]\n",
    "print(f'There are {len(wikilinks)} wikilinks.')\n",
    "wikilinks[:5]"
   ]
  },
  {
   "cell_type": "markdown",
   "metadata": {},
   "source": [
    "We didn't get the discussion or the edits around the articles, so we won't be able to find this information. However, if you do decide to grab comments, edits, revisions, etc., you can use `mwparserfromhell` to extract all of these."
   ]
  },
  {
   "cell_type": "code",
   "execution_count": 27,
   "metadata": {},
   "outputs": [
    {
     "data": {
      "text/plain": [
       "[]"
      ]
     },
     "execution_count": 27,
     "metadata": {},
     "output_type": "execute_result"
    }
   ],
   "source": [
    "wiki.filter_arguments()"
   ]
  },
  {
   "cell_type": "code",
   "execution_count": 28,
   "metadata": {},
   "outputs": [
    {
     "data": {
      "text/plain": [
       "[]"
      ]
     },
     "execution_count": 28,
     "metadata": {},
     "output_type": "execute_result"
    }
   ],
   "source": [
    "wiki.filter_comments()"
   ]
  },
  {
   "cell_type": "markdown",
   "metadata": {},
   "source": [
    "To figure out everything you can do with `mwparserfromhell`, [read the docs](https://mwparserfromhell.readthedocs.io/en/latest/)."
   ]
  },
  {
   "cell_type": "markdown",
   "metadata": {},
   "source": [
    "We can find the external links (those that go outside of Wikipedia)."
   ]
  },
  {
   "cell_type": "code",
   "execution_count": 29,
   "metadata": {},
   "outputs": [
    {
     "name": "stdout",
     "output_type": "stream",
     "text": [
      "There are 13 external links.\n"
     ]
    },
    {
     "data": {
      "text/plain": [
       "[(None, 'http://www.powerslc.com'),\n",
       " ('powerslc.com', 'http://www.powerslc.com'),\n",
       " (None, 'http://www.fcc.gov/fcc-bin/fmq?call=KENZ'),\n",
       " (None, 'http://www1.arbitron.com/sip/displaySip.do?surveyID=SU08'),\n",
       " ('Salt Lake Broadcasting History',\n",
       "  'http://www.oldradio.com/archives/stations/slc-hist.htm')]"
      ]
     },
     "execution_count": 29,
     "metadata": {},
     "output_type": "execute_result"
    }
   ],
   "source": [
    "external_links = [(x.title, x.url) for x in wiki.filter_external_links()]\n",
    "print(f'There are {len(external_links)} external links.')\n",
    "external_links[:5]"
   ]
  },
  {
   "cell_type": "markdown",
   "metadata": {},
   "source": [
    "We can also search through the text for specific words."
   ]
  },
  {
   "cell_type": "code",
   "execution_count": 30,
   "metadata": {},
   "outputs": [
    {
     "data": {
      "text/plain": [
       "('[[Contemporary hit radio|Top 40 (CHR)]]',\n",
       " mwparserfromhell.nodes.wikilink.Wikilink)"
      ]
     },
     "execution_count": 30,
     "metadata": {},
     "output_type": "execute_result"
    }
   ],
   "source": [
    "contemporary = wiki.filter(matches = 'contemporary')\n",
    "contemporary[1], type(contemporary[1])"
   ]
  },
  {
   "cell_type": "markdown",
   "metadata": {},
   "source": [
    "Each time we select a different part of the `wiki`, we get back another `wiki` object with different methods. Although it might look like we are getting strings, there is far more we can do with the `wiki` than we could with a string."
   ]
  },
  {
   "cell_type": "markdown",
   "metadata": {},
   "source": [
    "If you want to get a cleaner version of just the text, you can call `wiki.strip_code()` and then add another `strip`. "
   ]
  },
  {
   "cell_type": "code",
   "execution_count": 31,
   "metadata": {},
   "outputs": [
    {
     "data": {
      "text/plain": [
       "'KENZ (94.9 FM,  \" Power 94.9 \" ) is a top 40/CHR radio station broadcasting to Salt Lake City, Utah '"
      ]
     },
     "execution_count": 31,
     "metadata": {},
     "output_type": "execute_result"
    }
   ],
   "source": [
    "wiki.strip_code().strip()[:100]"
   ]
  },
  {
   "cell_type": "markdown",
   "metadata": {},
   "source": [
    "There's quite a bit more you can do with this library, so explore the options if you have a project in mind."
   ]
  },
  {
   "cell_type": "markdown",
   "metadata": {},
   "source": [
    "## Article Templates\n",
    "\n",
    "Since I'm looking to collect all the books on Wikipedia, I'll need a method to filter articles to only those that are about books. The easiest way to filter articles to a category (at least that I've found) is through the use of templates. These are standardized formats for information. For example, one template on the `KENZ (FM)` radio station page looks like this:\n",
    "\n",
    "![Radio Station Infobox](https://github.com/WillKoehrsen/wikipedia-data-science/blob/master/images/radio_template.PNG?raw=true)\n",
    "\n",
    "This particular template is called an `Infobox`. \n",
    "\n",
    "### Infobox Templates\n",
    "\n",
    "There are many different infoboxes templates, each one for a different category such as films or books. __The easiest way to filter articles to one category is by using the `Infobox` template for that category__.\n",
    "You can read about infoboxes [here](https://en.wikipedia.org/wiki/Help:Infobox) or look at the list [here](https://en.wikipedia.org/wiki/Wikipedia:List_of_infoboxes). For example, if we want to find articles about books, we filter the article for the template `Infobox book`. \n",
    "\n",
    "Let's take a look at the templates for this article."
   ]
  },
  {
   "cell_type": "code",
   "execution_count": 32,
   "metadata": {},
   "outputs": [
    {
     "name": "stdout",
     "output_type": "stream",
     "text": [
      "There are 14 templates.\n",
      "Infobox radio station \n",
      "  \n",
      "coord\n",
      "listen live\n",
      "cite web\n",
      "cite web\n",
      "cite web\n",
      "dead link\n",
      "cite news\n",
      "Reflist\n",
      "FM station data\n",
      "Salt Lake City Radio\n",
      "Contemporary Hit Radio Stations in Utah\n",
      "Cumulus Media\n",
      "Provo, Utah\n"
     ]
    }
   ],
   "source": [
    "templates = wiki.filter_templates()\n",
    "print(f'There are {len(templates)} templates.')\n",
    "for template in templates:\n",
    "    print(template.name)"
   ]
  },
  {
   "cell_type": "markdown",
   "metadata": {},
   "source": [
    "There are a number of different templates. In this case, the Infobox is called `Infobox radio station`. If we wanted to find all of the radio station articles, then the easiest way would be to search every article for this template. We can search for a specific template within an article as below."
   ]
  },
  {
   "cell_type": "code",
   "execution_count": 33,
   "metadata": {},
   "outputs": [
    {
     "data": {
      "text/plain": [
       "\"{{Infobox radio station \\n  | name = KENZ \\n  | image = File:KENZ_949_Logo_2017.png \\n  | city = [[Provo, Utah]] \\n  | area = north/central Utah, most of [[Wasatch Front]]  \\n  | branding = ''Power 94.9'' \\n  | slogan = Utah's New Hit Music \\n  | frequency = 94.9 [[Megahertz|MHz]] \\n  | airdate = 1981 (as KLRZ) \\n  | format = [[Contemporary hit radio|Top 40 (CHR)]]  \\n  | erp = 48,000 [[watt]]s \\n  | haat = 853 meters (atop [[Lake Mountain (Utah)|Lake Mountain]]) \\n  | class = C \\n  | facility_id = 6545 \\n  | coordinates = {{coord|40|16|58|N|111|56|11|W|region:US_type:landmark}}  \\n  | callsign_meaning =  \\n  | former_callsigns =KLRZ (1981-1986) < br > KBNG (1986-1987) < br > KTOU (1987-1989) < br > KZHT (1989-2004) < br > KPHT (1/6/2004-1/16/2004) < br > KMXU (1/16/2004-1/27/2004) < br > KHTB (2004-2015) \\n  | affiliations = \\n  | owner = [[Cumulus Media]] \\n  | licensee = Radio License Holding CBC, LLC \\n  | sister_stations = [[KBEE]], [[KBER]], [[KHTB]], [[KRRF]], [[KKAT (AM)|KKAT]], [[KUBL-FM]] \\n  | webcast = {{listen live|http://www.powerslc.com}} \\n  | website = [http://www.powerslc.com powerslc.com] \\n }}\""
      ]
     },
     "execution_count": 33,
     "metadata": {},
     "output_type": "execute_result"
    }
   ],
   "source": [
    "infobox = wiki.filter_templates(matches = 'Infobox radio station')[0]\n",
    "infobox"
   ]
  },
  {
   "cell_type": "markdown",
   "metadata": {},
   "source": [
    "The attributes of the infobox can be accessed and put into a dictionary using the `name` and the `value`. To clean things up, we first strip the code and then strip whitespace and escape characters."
   ]
  },
  {
   "cell_type": "code",
   "execution_count": 34,
   "metadata": {},
   "outputs": [
    {
     "data": {
      "text/plain": [
       "{'name': 'KENZ',\n",
       " 'image': 'File:KENZ_949_Logo_2017.png',\n",
       " 'city': 'Provo, Utah',\n",
       " 'area': 'north/central Utah, most of Wasatch Front',\n",
       " 'branding': 'Power 94.9',\n",
       " 'slogan': \"Utah's New Hit Music\",\n",
       " 'frequency': '94.9 MHz',\n",
       " 'airdate': '1981 (as KLRZ)',\n",
       " 'format': 'Top 40 (CHR)',\n",
       " 'erp': '48,000 watts',\n",
       " 'haat': '853 meters (atop Lake Mountain)',\n",
       " 'class': 'C',\n",
       " 'facility_id': '6545',\n",
       " 'coordinates': '',\n",
       " 'callsign_meaning': '',\n",
       " 'former_callsigns': 'KLRZ (1981-1986) < br > KBNG (1986-1987) < br > KTOU (1987-1989) < br > KZHT (1989-2004) < br > KPHT (1/6/2004-1/16/2004) < br > KMXU (1/16/2004-1/27/2004) < br > KHTB (2004-2015)',\n",
       " 'affiliations': '',\n",
       " 'owner': 'Cumulus Media',\n",
       " 'licensee': 'Radio License Holding CBC, LLC',\n",
       " 'sister_stations': 'KBEE, KBER, KHTB, KRRF, KKAT, KUBL-FM',\n",
       " 'webcast': '',\n",
       " 'website': 'powerslc.com'}"
      ]
     },
     "execution_count": 34,
     "metadata": {},
     "output_type": "execute_result"
    }
   ],
   "source": [
    "information = {param.name.strip_code().strip(): param.value.strip_code().strip() for param in infobox.params}\n",
    "information"
   ]
  },
  {
   "cell_type": "markdown",
   "metadata": {},
   "source": [
    "The `Infobox` templates provide us with a consistent method for finding a category of article. We simply need to search the article text for the `Infobox` of the category of article we want. \n",
    "\n",
    "Moreover, the information in the template could be useful for say building a set of features in a predictive model. In this project, we aren't going to be working with the text of the articles - that's an entirely separate undertaking - but we can use information such as that found in the `Infobox` or the `wikilinks` as structured data.\n",
    "\n",
    "## Searching for a Category\n",
    "\n",
    "Now that we have an understanding of how to parse an article and find articles belonging to a certain category, we can start searching for what we want: all the books on Wikipedia! The books can be identified because they use an Infobox book template.\n",
    "\n",
    "![Infobox book](https://github.com/WillKoehrsen/wikipedia-data-science/blob/master/images/book_template.PNG?raw=true)\n",
    "\n",
    "We simply have to filter the article text for the `Infobox book` template, and if it's present, store the information. If not, then we move to the next article. The function below is designed to find and return articles that have a specified template."
   ]
  },
  {
   "cell_type": "code",
   "execution_count": 35,
   "metadata": {},
   "outputs": [],
   "source": [
    "import re\n",
    "\n",
    "def process_article(title, text, timestamp, template = 'Infobox book'):\n",
    "    \"\"\"Process a wikipedia article looking for template\"\"\"\n",
    "    \n",
    "    # Create a parsing object\n",
    "    wikicode = mwparserfromhell.parse(text)\n",
    "    \n",
    "    # Search through templates for the template\n",
    "    matches = wikicode.filter_templates(matches = template)\n",
    "    \n",
    "    # Filter out errant matches\n",
    "    matches = [x for x in matches if x.name.strip_code().strip().lower() == template.lower()]\n",
    "    \n",
    "    if len(matches) >= 1:\n",
    "        # template_name = matches[0].name.strip_code().strip()\n",
    "\n",
    "        # Extract information from infobox\n",
    "        properties = {param.name.strip_code().strip(): param.value.strip_code().strip() \n",
    "                      for param in matches[0].params\n",
    "                      if param.value.strip_code().strip()}\n",
    "\n",
    "        # Extract internal wikilinks\n",
    "        wikilinks = [x.title.strip_code().strip() for x in wikicode.filter_wikilinks()]\n",
    "\n",
    "        # Extract external links\n",
    "        exlinks = [x.url.strip_code().strip() for x in wikicode.filter_external_links()]\n",
    "\n",
    "        # Find approximate length of article\n",
    "        text_length = len(wikicode.strip_code().strip())\n",
    "\n",
    "        return (title, properties, wikilinks, exlinks, timestamp, text_length)"
   ]
  },
  {
   "cell_type": "code",
   "execution_count": 36,
   "metadata": {},
   "outputs": [],
   "source": [
    "r = process_article('KENZ (FM)', wiki, None)\n",
    "r"
   ]
  },
  {
   "cell_type": "markdown",
   "metadata": {},
   "source": [
    "No such luck with this article searching for books. We can modify the search to fit our template."
   ]
  },
  {
   "cell_type": "code",
   "execution_count": 37,
   "metadata": {},
   "outputs": [
    {
     "data": {
      "text/plain": [
       "('KENZ (FM)',\n",
       " {'name': 'KENZ',\n",
       "  'image': 'File:KENZ_949_Logo_2017.png',\n",
       "  'city': 'Provo, Utah',\n",
       "  'area': 'north/central Utah, most of Wasatch Front',\n",
       "  'branding': 'Power 94.9',\n",
       "  'slogan': \"Utah's New Hit Music\",\n",
       "  'frequency': '94.9 MHz',\n",
       "  'airdate': '1981 (as KLRZ)',\n",
       "  'format': 'Top 40 (CHR)',\n",
       "  'erp': '48,000 watts',\n",
       "  'haat': '853 meters (atop Lake Mountain)',\n",
       "  'class': 'C',\n",
       "  'facility_id': '6545',\n",
       "  'former_callsigns': 'KLRZ (1981-1986) < br > KBNG (1986-1987) < br > KTOU (1987-1989) < br > KZHT (1989-2004) < br > KPHT (1/6/2004-1/16/2004) < br > KMXU (1/16/2004-1/27/2004) < br > KHTB (2004-2015)',\n",
       "  'owner': 'Cumulus Media',\n",
       "  'licensee': 'Radio License Holding CBC, LLC',\n",
       "  'sister_stations': 'KBEE, KBER, KHTB, KRRF, KKAT, KUBL-FM',\n",
       "  'website': 'powerslc.com'})"
      ]
     },
     "execution_count": 37,
     "metadata": {},
     "output_type": "execute_result"
    }
   ],
   "source": [
    "r = process_article('KENZ (FM)', wiki, None, template = 'Infobox radio station')\n",
    "r[0], r[1]"
   ]
  },
  {
   "cell_type": "markdown",
   "metadata": {},
   "source": [
    "### Modified Content Handler\n",
    "\n",
    "To parse the text from each article and search for the specified template, we slightly modify the `Handler` class. This time, in the `endElement` function, if the article ends (the tag is `page`) then we send the title and the contents (`text`) to the `process_article` function. This function will return either nothing if it doesn't find a book, or the book properties, Wikilinks, and external links if it does find a book. These will be added as a list to the `handler`. "
   ]
  },
  {
   "cell_type": "code",
   "execution_count": 38,
   "metadata": {},
   "outputs": [],
   "source": [
    "class WikiXmlHandler(xml.sax.handler.ContentHandler):\n",
    "    \"\"\"Parse through XML data using SAX\"\"\"\n",
    "    def __init__(self):\n",
    "        xml.sax.handler.ContentHandler.__init__(self)\n",
    "        self._buffer = None\n",
    "        self._values = {}\n",
    "        self._current_tag = None\n",
    "        self._books = []\n",
    "        self._article_count = 0\n",
    "        self._non_matches = []\n",
    "\n",
    "    def characters(self, content):\n",
    "        \"\"\"Characters between opening and closing tags\"\"\"\n",
    "        if self._current_tag:\n",
    "            self._buffer.append(content)\n",
    "\n",
    "    def startElement(self, name, attrs):\n",
    "        \"\"\"Opening tag of element\"\"\"\n",
    "        if name in ('title', 'text', 'timestamp'):\n",
    "            self._current_tag = name\n",
    "            self._buffer = []\n",
    "\n",
    "    def endElement(self, name):\n",
    "        \"\"\"Closing tag of element\"\"\"\n",
    "        if name == self._current_tag:\n",
    "            self._values[name] = ' '.join(self._buffer)\n",
    "\n",
    "        if name == 'page':\n",
    "            self._article_count += 1\n",
    "            # Search through the page to see if the page is a book\n",
    "            book = process_article(**self._values, template = 'Infobox book')\n",
    "            # Append to the list of books\n",
    "            if book:\n",
    "                self._books.append(book)"
   ]
  },
  {
   "cell_type": "markdown",
   "metadata": {},
   "source": [
    "To use this for a different category of articles on Wikipedia, all you need to do is change the template. You can also alter the `process_article` function if you want to return different information for each article."
   ]
  },
  {
   "cell_type": "markdown",
   "metadata": {},
   "source": [
    "Now let's see if this works. The code below stops when we've found 3 books."
   ]
  },
  {
   "cell_type": "code",
   "execution_count": 39,
   "metadata": {},
   "outputs": [
    {
     "name": "stdout",
     "output_type": "stream",
     "text": [
      "Searched through 1974 articles to find 3 books.\n"
     ]
    }
   ],
   "source": [
    "# Object for handling xml\n",
    "handler = WikiXmlHandler()\n",
    "\n",
    "# Parsing object\n",
    "parser = xml.sax.make_parser()\n",
    "parser.setContentHandler(handler)\n",
    "\n",
    "for i, line in enumerate(subprocess.Popen(['bzcat'], \n",
    "                         stdin = open(data_path), \n",
    "                         stdout = subprocess.PIPE).stdout):\n",
    "    parser.feed(line)\n",
    "    \n",
    "    # Stop when 3 articles have been found\n",
    "    if len(handler._books) > 2:\n",
    "        break\n",
    "        \n",
    "print(f'Searched through {handler._article_count} articles to find 3 books.')"
   ]
  },
  {
   "cell_type": "markdown",
   "metadata": {},
   "source": [
    "Let's see what we've got! "
   ]
  },
  {
   "cell_type": "code",
   "execution_count": 40,
   "metadata": {},
   "outputs": [
    {
     "data": {
      "text/plain": [
       "('The Cambridge Dictionary of Philosophy',\n",
       " {'1': '< !-- See Wikipedia:WikiProject_Books -- >',\n",
       "  'name': 'The Cambridge Dictionary of Philosophy',\n",
       "  'image': 'File:The Cambridge Dictionary of Philosophy (first edition).jpg',\n",
       "  'caption': 'Cover of the first edition',\n",
       "  'editor': 'Robert Audi',\n",
       "  'country': 'United Kingdom',\n",
       "  'language': 'English',\n",
       "  'subject': 'Philosophy',\n",
       "  'publisher': 'Cambridge University Press',\n",
       "  'pub_date': '1995',\n",
       "  'media_type': 'Print (Hardcover and Paperback)',\n",
       "  'pages': '1001 (second edition)',\n",
       "  'isbn': '0-521-63722-8',\n",
       "  'isbn_note': '(second edition)'},\n",
       " ['Robert Audi',\n",
       "  'Philosophy',\n",
       "  'Cambridge University Press',\n",
       "  'Hardcover',\n",
       "  'Paperback',\n",
       "  'dictionary',\n",
       "  'philosophy',\n",
       "  'Cambridge University Press',\n",
       "  'Robert Audi',\n",
       "  'Category:1995 books',\n",
       "  'Category:Cambridge University Press books',\n",
       "  'Category:Dictionaries of philosophy',\n",
       "  'Category:Encyclopedias of philosophy',\n",
       "  'Category:English-language books'],\n",
       " ['http://www.cambridge.org/uk/catalogue/catalogue.asp?isbn=9780521637220'],\n",
       " '2017-11-13T01:50:33Z',\n",
       " 679)"
      ]
     },
     "execution_count": 40,
     "metadata": {},
     "output_type": "execute_result"
    }
   ],
   "source": [
    "handler._books[0]"
   ]
  },
  {
   "cell_type": "markdown",
   "metadata": {},
   "source": [
    "For each book, we have the title, the information contained in the `Infobox`, the internal Wikilinks, the external links, the timestamp of the last edit, and the approximate length of the Wikipedia article. Using just this information, we'll be able to build a fairly robust book recommendation system (current project I need the books information for)! "
   ]
  },
  {
   "cell_type": "markdown",
   "metadata": {},
   "source": [
    "Let's see how long it would take to search through just one partition. Uncompressed, the size of this partition is 1.5 GB with over 24 million lines."
   ]
  },
  {
   "cell_type": "code",
   "execution_count": 41,
   "metadata": {},
   "outputs": [
    {
     "name": "stdout",
     "output_type": "stream",
     "text": [
      "Already uncompressed\n"
     ]
    }
   ],
   "source": [
    "# Uncompress the file if not already uncompressed\n",
    "if not os.path.exists('/home/ubuntu/.keras/datasets/p15.xml'):\n",
    "    subprocess.call(['bzcat /home/ubuntu/.keras/datasets/enwiki-20180901-pages-articles15.xml-p7744803p9244803.bz2 >> p15.xml'],\n",
    "                    shell = True)\n",
    "else:\n",
    "    print('Already uncompressed')"
   ]
  },
  {
   "cell_type": "code",
   "execution_count": 42,
   "metadata": {},
   "outputs": [
    {
     "name": "stdout",
     "output_type": "stream",
     "text": [
      "  24097749  164409183 1538502087 /home/ubuntu/.keras/datasets/p15.xml\r\n"
     ]
    }
   ],
   "source": [
    "!wc /home/ubuntu/.keras/datasets/p15.xml"
   ]
  },
  {
   "cell_type": "markdown",
   "metadata": {},
   "source": [
    "`wc` is a command line utility that gives the number of lines, number of words, and number of bytes in a file."
   ]
  },
  {
   "cell_type": "code",
   "execution_count": 43,
   "metadata": {},
   "outputs": [
    {
     "name": "stdout",
     "output_type": "stream",
     "text": [
      "Processed 24090000 lines so far.\n",
      "Searched through 427481 articles.\n",
      "\n",
      "Found 1413 books in 1145 seconds.\n"
     ]
    }
   ],
   "source": [
    "from timeit import default_timer as timer\n",
    "\n",
    "start = timer()\n",
    "# Object for handling xml\n",
    "handler = WikiXmlHandler()\n",
    "\n",
    "# Parsing object\n",
    "parser = xml.sax.make_parser()\n",
    "parser.setContentHandler(handler)\n",
    "\n",
    "# Parse the entire file\n",
    "for i, line in enumerate(subprocess.Popen(['bzcat'], \n",
    "                         stdin = open(data_path), \n",
    "                         stdout = subprocess.PIPE).stdout):\n",
    "    if (i + 1) % 10000 == 0:\n",
    "        print(f'Processed {i + 1} lines so far.', end = '\\r')\n",
    "    try:\n",
    "        parser.feed(line)\n",
    "    except StopIteration:\n",
    "        break\n",
    "    \n",
    "end = timer()\n",
    "books = handler._books\n",
    "\n",
    "print(f'\\nSearched through {handler._article_count} articles.')\n",
    "print(f'\\nFound {len(books)} books in {round(end - start)} seconds.')"
   ]
  },
  {
   "cell_type": "markdown",
   "metadata": {},
   "source": [
    "If we multiply the time to process one partition, about 1000 seconds, by the number of partitions, 55, we get 55,000 seconds to process all the files one at a time. This amounts to 15 hours! We'll see if we can do better using multiprocessing."
   ]
  },
  {
   "cell_type": "markdown",
   "metadata": {},
   "source": [
    "### Writing to File\n",
    "\n",
    "The best way to save the information is as `ndjson`. We can save and then load back in the books using the `json` library. "
   ]
  },
  {
   "cell_type": "code",
   "execution_count": 44,
   "metadata": {},
   "outputs": [],
   "source": [
    "import json\n",
    "\n",
    "# Save list of books\n",
    "with open('../data/p15_books.ndjson', 'wt') as fout:\n",
    "    for l in books:\n",
    "        fout.write(json.dumps(l) + '\\n')"
   ]
  },
  {
   "cell_type": "code",
   "execution_count": 45,
   "metadata": {},
   "outputs": [],
   "source": [
    "books_in = []\n",
    "\n",
    "# Read in list of books\n",
    "with open('../data/p15_books.ndjson', 'rt') as fin:\n",
    "    for l in fin.readlines():\n",
    "        books_in.append(json.loads(l))"
   ]
  },
  {
   "cell_type": "code",
   "execution_count": 46,
   "metadata": {},
   "outputs": [
    {
     "data": {
      "text/plain": [
       "['War Is a Force That Gives Us Meaning',\n",
       " {'name': 'War Is a Force that Gives Us Meaning',\n",
       "  'author': 'Chris Hedges',\n",
       "  'country': 'United States',\n",
       "  'language': 'English',\n",
       "  'subject': 'War',\n",
       "  'publisher': 'PublicAffairs',\n",
       "  'release_date': 'September 3, 2002',\n",
       "  'pages': '192',\n",
       "  'isbn': '1-58648-049-9'},\n",
       " ['Chris Hedges',\n",
       "  'War',\n",
       "  'PublicAffairs',\n",
       "  'non-fiction',\n",
       "  'journalist',\n",
       "  'Chris Hedges',\n",
       "  'war correspondent',\n",
       "  'National Book Critics Circle Award for Nonfiction',\n",
       "  'Los Angeles Times',\n",
       "  'Abraham Verghese',\n",
       "  'Abraham Verghese',\n",
       "  'The Hurt Locker',\n",
       "  'Al Jazeera English',\n",
       "  'Empire (Al Jazeera TV series)',\n",
       "  'Category:Books by Chris Hedges',\n",
       "  'Category:American non-fiction books',\n",
       "  'Category:Non-fiction books about war',\n",
       "  'Category:2002 books',\n",
       "  'Category:Causes of war'],\n",
       " ['https://www.nytimes.com/2002/09/29/books/wars-are-made-not-born.html',\n",
       "  'https://muse.jhu.edu',\n",
       "  'https://www.foreignaffairs.com/reviews/capsule-review/2003-03-01/war-force-gives-us-meaning',\n",
       "  'https://books.google.com/books?id=rdUiBQAAQBAJ',\n",
       "  'https://www.pbs.org/wnet/religionandethics/2003/01/31/january-31-2003-chris-hedges-the-costs-of-war/13988/',\n",
       "  'https://www.pbs.org/wnet/religionandethics/2003/01/31/january-31-2003-interview-chris-hedges/13987/'],\n",
       " '2018-08-23T15:25:05Z',\n",
       " 3571]"
      ]
     },
     "execution_count": 46,
     "metadata": {},
     "output_type": "execute_result"
    }
   ],
   "source": [
    "books_in[10]"
   ]
  },
  {
   "cell_type": "markdown",
   "metadata": {},
   "source": [
    "# Running Operations in Parallel\n",
    "\n",
    "Instead of parsing through the files one at a time, we want to process several of them at once. We can do this using parallelization, either through multithreading or multiprocessing.\n",
    "\n",
    "\n",
    "## Multithreading and Multiprocessing\n",
    "\n",
    "Multithreading and multiprocessing are ways to carry out many tasks on a computer - or multiple computers - simulataneously. We have a number of files on disk, each of which needs to be parsed in the same way. A naive approach would be to parse one file at a time, but that is not taking full advantage of our resources. Instead, we can use either multithreading or multiprocessing to parse many files at the same time, greatly speeding up the overall process. \n",
    "\n",
    "Learning multithreading / multiprocessing is essential for making your data science workflows more efficient. I'd recommend [this article](https://medium.com/@bfortuner/python-multithreading-vs-multiprocessing-73072ce5600b) to get started with the concepts.\n",
    "\n",
    "Generally multithreading works better (is faster) for input / output bound tasks, such as reading in files or making requests. Multiprocessing works better (is faster) for cpu bound tasks. Due to the [global interpreter lock](https://realpython.com/python-gil/), only one thread can run at a time in Python for cpu intensive tasks (such as doing mathematical operations or machine learning) even on a multithreaded / multicore system. Running multiple processes does not have this issue because processes do not share memory. In some cases, you cannot use multiple processes because the tasks need to share memory. However, in our case, each file can be processed independently of the others. For that reason, we can use either multithreading or mulitprocessing.\n",
    "\n",
    "I've found the best method for determining the optimal method and parameters is to try out a number of different options. The code for testing multithreding and mutltiprocessing appears at the end of the notebook. When I ran the tests, I found multiprocessing was much faster indicating this process is probably CPU bound (limited).\n",
    "\n",
    "__The final process of searching for all books on Wikipedia is run in parallel using 16 processes__. This was the fastest method in my benchmarking. Each process is run on a different core because the machine I used had 16 cores. The best options will depend on your set-up so I'd recommend testing a few different parameters."
   ]
  },
  {
   "cell_type": "markdown",
   "metadata": {},
   "source": [
    "### Setting Up Parallel Code\n",
    "\n",
    "To run an operation in parallel, we need a `service` and `tasks`. A `service` can be a function that we need to run many times and the `tasks` are a list of objects that we want to apply the function to. For our purposes, the service is the `find_books` function that parses a complete compressed xml file for the books and the tasks are all of the compressed xml files. Each task will be sent to the service, but instead of one at a time, we can run 16 at a time (or however many cores your machine has).\n"
   ]
  },
  {
   "cell_type": "code",
   "execution_count": 47,
   "metadata": {},
   "outputs": [],
   "source": [
    "import gc\n",
    "import json\n",
    "\n",
    "def find_books(data_path, limit = None, save = True):\n",
    "    \"\"\"Find all the book articles from a compressed wikipedia XML dump.\n",
    "       `limit` is an optional argument to only return a set number of books.\n",
    "        If save, books are saved to partition directory based on file name\"\"\"\n",
    "\n",
    "    # Object for handling xml\n",
    "    handler = WikiXmlHandler()\n",
    "\n",
    "    # Parsing object\n",
    "    parser = xml.sax.make_parser()\n",
    "    parser.setContentHandler(handler)\n",
    "\n",
    "    # Iterate through compressed file\n",
    "    for i, line in enumerate(subprocess.Popen(['bzcat'], \n",
    "                             stdin = open(data_path), \n",
    "                             stdout = subprocess.PIPE).stdout):\n",
    "        try:\n",
    "            parser.feed(line)\n",
    "        except StopIteration:\n",
    "            break\n",
    "            \n",
    "        # Optional limit\n",
    "        if limit is not None and len(handler._books) >= limit:\n",
    "            return handler._books\n",
    "    \n",
    "    if save:\n",
    "        partition_dir = '/data/wiki/partitions/'\n",
    "        # Create file name based on partition name\n",
    "        p_str = data_path.split('-')[-1].split('.')[-2]\n",
    "        out_dir = partition_dir + f'{p_str}.ndjson'\n",
    "\n",
    "        # Open the file\n",
    "        with open(out_dir, 'w') as fout:\n",
    "            # Write as json\n",
    "            for book in handler._books:\n",
    "                fout.write(json.dumps(book) + '\\n')\n",
    "        \n",
    "        print(f'{len(os.listdir(partition_dir))} files processed.', end = '\\r')\n",
    "\n",
    "    # Memory management\n",
    "    del handler\n",
    "    del parser\n",
    "    gc.collect()\n",
    "    return None"
   ]
  },
  {
   "cell_type": "markdown",
   "metadata": {},
   "source": [
    "Next we need a list of services. This is simply all the partitioned data files we want to send to the function."
   ]
  },
  {
   "cell_type": "code",
   "execution_count": 48,
   "metadata": {},
   "outputs": [
    {
     "data": {
      "text/plain": [
       "(55,\n",
       " '/home/ubuntu/.keras/datasets/enwiki-20180901-pages-articles17.xml-p11539268p13039268.bz2')"
      ]
     },
     "execution_count": 48,
     "metadata": {},
     "output_type": "execute_result"
    }
   ],
   "source": [
    "partitions = [keras_home + file for file in os.listdir(keras_home) if 'xml-p' in file]\n",
    "len(partitions), partitions[-1]"
   ]
  },
  {
   "cell_type": "code",
   "execution_count": 49,
   "metadata": {},
   "outputs": [],
   "source": [
    "from multiprocessing import Pool \n",
    "import tqdm \n",
    "\n",
    "# List of lists to single list\n",
    "from itertools import chain\n",
    "\n",
    "# Sending keyword arguments in map\n",
    "from functools import partial"
   ]
  },
  {
   "cell_type": "code",
   "execution_count": 50,
   "metadata": {},
   "outputs": [
    {
     "data": {
      "text/plain": [
       "16"
      ]
     },
     "execution_count": 50,
     "metadata": {},
     "output_type": "execute_result"
    }
   ],
   "source": [
    "os.cpu_count()"
   ]
  },
  {
   "cell_type": "markdown",
   "metadata": {},
   "source": [
    "Adjust the number of processes based on your cpu count."
   ]
  },
  {
   "cell_type": "markdown",
   "metadata": {},
   "source": [
    "## Searching for Every Book on Wikipedia\n",
    "\n",
    "The code below searches all of Wikipedia for every book article!\n",
    "\n",
    "We create a `Pool` with the number of processes and then call `map` with the `(service, tasks)`. `map` applies a function to each item in an iterable (such as a list). The books for each partition are saved to a json file on disk. "
   ]
  },
  {
   "cell_type": "code",
   "execution_count": 51,
   "metadata": {},
   "outputs": [
    {
     "name": "stdout",
     "output_type": "stream",
     "text": [
      "9797.413804549 seconds elapsed.\n"
     ]
    }
   ],
   "source": [
    "# Create a pool of workers to execute processes\n",
    "pool = Pool(processes = 16)\n",
    "\n",
    "start = timer()\n",
    "\n",
    "# Map (service, tasks), applies function to each partition\n",
    "results = pool.map(find_books, partitions)\n",
    "\n",
    "pool.close()\n",
    "pool.join()\n",
    "\n",
    "end = timer()\n",
    "print(f'{end - start} seconds elapsed.')"
   ]
  },
  {
   "cell_type": "markdown",
   "metadata": {},
   "source": [
    "This took about 2.5 hours instead of 15! We can definitely see the advantages to parallelization. "
   ]
  },
  {
   "cell_type": "markdown",
   "metadata": {},
   "source": [
    "#### Monitoring Progress\n",
    "\n",
    "If you want to monitor the state of your sytem as the code runs, you can type `htop` at the command line. This comprehensive [process viewer](https://hisham.hm/htop/) shows the running processes and the memory / CPU taken up by the processes. For example, when I type `htop`, I get the following information:\n",
    "\n",
    "![](images/top_parallel_processes.PNG)"
   ]
  },
  {
   "cell_type": "markdown",
   "metadata": {},
   "source": [
    "I can see that I'm running 16 processes of Python and 16 processes of bzcat. The top of the image shows that all 16 cores are being run at near 100% of the CPU. This information can be useful for determining if you are close to using all system memory. With so many processes running, it is possible to use up all system memory. In this case you might want to use fewer processes or reduce memory consumption of other running programs. "
   ]
  },
  {
   "cell_type": "markdown",
   "metadata": {},
   "source": [
    "#### Alternative Code with Progress Bar\n",
    "\n",
    "If you would like a progress bar to appear in your Jupyter Notebook as you run the operation, you can use the code below. This wraps `tqdm` around a call to `imap_unordered`. `imap` does the same basic job as `map` except the results are returned as they finish instead of all at once. The end result will still be the exact same, but sometimes you want te results to be returned as they are completed instead of once at the end. There are some situations where you'd want to use `imap` instead of `map`, and [this Stack Overflow answer](https://stackoverflow.com/a/26521507/5755357) does a great job of explaining the differences. \n",
    "\n",
    " The `tqdm` library can be used to track progress (the resulting widgets may not show up correclty in a static Jupyter Notebook)."
   ]
  },
  {
   "cell_type": "code",
   "execution_count": 52,
   "metadata": {},
   "outputs": [],
   "source": [
    "# start = timer()\n",
    "# pool = Pool(processes = 8)\n",
    "# results = []\n",
    "\n",
    "# # Run partitions in parallel\n",
    "# for x in tqdm.tqdm_notebook(pool.imap_unordered(find_books, partitions), total = len(partitions)):\n",
    "#     results.append(x)\n",
    "    \n",
    "# pool.close()\n",
    "# pool.join()\n",
    "\n",
    "# end = timer()"
   ]
  },
  {
   "cell_type": "markdown",
   "metadata": {},
   "source": [
    "### Join Data Together\n",
    "\n",
    "After creating the separate files, each one containing the books from one partition, we can join them together into a single list by reading them from disk. For this task, we'll use `multithreading` to read in the files in parallel. Again, we'll need a service, this time the function `read_data`, and tasks, all the `saved_files`, each of which contains the books for one partition."
   ]
  },
  {
   "cell_type": "code",
   "execution_count": 53,
   "metadata": {},
   "outputs": [],
   "source": [
    "def read_data(file_path):\n",
    "    \"\"\"Read in json data from `file_path`\"\"\"\n",
    "    \n",
    "    data = []\n",
    "    \n",
    "    # Open the file and load in json\n",
    "    with open(file_path, 'r') as fin:\n",
    "        for l in fin.readlines():\n",
    "            data.append(json.loads(l))\n",
    "            \n",
    "    return data"
   ]
  },
  {
   "cell_type": "markdown",
   "metadata": {},
   "source": [
    "To use `multithreading` instead of `multiprocessing`, we import `Pool` from the [`multiprocessing.dummy` module](https://docs.python.org/3/library/multiprocessing.html#module-multiprocessing.dummy). Then we create a `Threadpool` of workers and `map` the `tasks` to the `service`. This will return a lists of lists that we can flatten to a single list using `chain` from itertools.  The final result is a single list containing the information for all the book articles. These are then saved for further analysis."
   ]
  },
  {
   "cell_type": "code",
   "execution_count": 54,
   "metadata": {},
   "outputs": [
    {
     "name": "stdout",
     "output_type": "stream",
     "text": [
      "Found 37040 books in 1 seconds.\n"
     ]
    }
   ],
   "source": [
    "from multiprocessing.dummy import Pool as Threadpool\n",
    "from itertools import chain\n",
    "\n",
    "start = timer()\n",
    "\n",
    "# List of files to read in\n",
    "saved_files = ['/data/wiki/partitions/' + x for x in os.listdir('/data/wiki/partitions/')]\n",
    "\n",
    "# Create a threadpool for reading in files\n",
    "threadpool = Threadpool(processes = 10)\n",
    "\n",
    "# Read in the files as a list of lists\n",
    "results = threadpool.map(read_data, saved_files)\n",
    "\n",
    "# Flatten the list of lists to a single list\n",
    "book_list = list(chain(*results))\n",
    "\n",
    "end = timer()\n",
    "\n",
    "print(f'Found {len(book_list)} books in {round(end - start)} seconds.')"
   ]
  },
  {
   "cell_type": "markdown",
   "metadata": {},
   "source": [
    "The code below saves all the books as a single file."
   ]
  },
  {
   "cell_type": "code",
   "execution_count": 55,
   "metadata": {},
   "outputs": [
    {
     "name": "stdout",
     "output_type": "stream",
     "text": [
      "Books saved.\n"
     ]
    }
   ],
   "source": [
    "if not os.path.exists(os.getcwd() + '../data/found_books_filtered.ndjson'):\n",
    "    with open('../data/found_books_filtered.ndjson', 'wt') as fout:\n",
    "        for book in book_list:\n",
    "             fout.write(json.dumps(book) + '\\n')\n",
    "    print('Books saved.')\n",
    "else:\n",
    "    print('Files already saved.')"
   ]
  },
  {
   "cell_type": "markdown",
   "metadata": {},
   "source": [
    "The size of the file is only 55 MB. We searched through about 50 GB of total files to find 55 MB worth of books."
   ]
  },
  {
   "cell_type": "markdown",
   "metadata": {
    "heading_collapsed": true
   },
   "source": [
    "## Test Multithreading vs Multiprocessing\n",
    "\n",
    "I've found the only way to know which to use is to do a test of both and see which is faster. Likewise, when it comes to choosing the number of threads, doing an empirical test seems to be the most effective method for maximizing efficiency. "
   ]
  },
  {
   "cell_type": "markdown",
   "metadata": {
    "hidden": true
   },
   "source": [
    "### Test Multiprocess\n",
    "\n",
    "First we'll test multiprocessing. To make the comparisons feasible, we'll limit the search to finding 10 books in each file. We'll compare multiprocessing with 8 cores to 16 cores to see if we can achieve a double speed up!\n",
    "\n",
    "The code is wrapped in a `tqdm` call which just displays a progress bar. This might not render correctly in the static version of the notebook."
   ]
  },
  {
   "cell_type": "code",
   "execution_count": 56,
   "metadata": {
    "hidden": true
   },
   "outputs": [],
   "source": [
    "def test_speed(pool):\n",
    "    \"\"\"Time how long \"\"\"\n",
    "    start = timer()\n",
    "        \n",
    "    # Need to pass in keyword limit argument\n",
    "    map_find_books = partial(find_books, limit = 10, save = False)\n",
    "    \n",
    "    results = []\n",
    "    # Display progress bar with tqdm\n",
    "    for x in tqdm.tqdm_notebook(pool.imap_unordered(map_find_books, partitions), total = len(partitions)):\n",
    "        results.append(x)\n",
    "        \n",
    "    pool.close()\n",
    "    pool.join()\n",
    "    end = timer()\n",
    "\n",
    "    book_list = list(chain(*results))\n",
    "    print(f'Found {len(book_list)} books in {round(end - start)} seconds.')"
   ]
  },
  {
   "cell_type": "code",
   "execution_count": 57,
   "metadata": {
    "hidden": true
   },
   "outputs": [
    {
     "data": {
      "application/vnd.jupyter.widget-view+json": {
       "model_id": "349f967fb3eb4e1fab9a5b8c5ec9f030",
       "version_major": 2,
       "version_minor": 0
      },
      "text/plain": [
       "HBox(children=(IntProgress(value=0, max=55), HTML(value='')))"
      ]
     },
     "metadata": {},
     "output_type": "display_data"
    },
    {
     "name": "stdout",
     "output_type": "stream",
     "text": [
      "\n",
      "Found 550 books in 358 seconds.\n"
     ]
    }
   ],
   "source": [
    "pool = Pool(processes = 8)\n",
    "test_speed(pool)"
   ]
  },
  {
   "cell_type": "markdown",
   "metadata": {
    "hidden": true
   },
   "source": [
    "We'll try again with 16 processes. Theoretically this should halve the time. "
   ]
  },
  {
   "cell_type": "code",
   "execution_count": 58,
   "metadata": {
    "hidden": true
   },
   "outputs": [
    {
     "data": {
      "application/vnd.jupyter.widget-view+json": {
       "model_id": "bdd322836e424da18422bcfb2daeee67",
       "version_major": 2,
       "version_minor": 0
      },
      "text/plain": [
       "HBox(children=(IntProgress(value=0, max=55), HTML(value='')))"
      ]
     },
     "metadata": {},
     "output_type": "display_data"
    },
    {
     "name": "stdout",
     "output_type": "stream",
     "text": [
      "\n",
      "Found 550 books in 322 seconds.\n"
     ]
    }
   ],
   "source": [
    "pool = Pool(processes = 16)\n",
    "test_speed(pool)"
   ]
  },
  {
   "cell_type": "markdown",
   "metadata": {
    "hidden": true
   },
   "source": [
    "So using double the number of processors is faster, although not quite twice as fast. If this is the only task you are going to be running, it makes sense to use all of your cores."
   ]
  },
  {
   "cell_type": "markdown",
   "metadata": {
    "hidden": true
   },
   "source": [
    "### Test Multithreading\n",
    "\n",
    "The syntax for using multithreading is exactly the same. I have no idea how many threads to use so I just tried 2 arbitrary numbers! "
   ]
  },
  {
   "cell_type": "code",
   "execution_count": 59,
   "metadata": {
    "hidden": true
   },
   "outputs": [
    {
     "data": {
      "application/vnd.jupyter.widget-view+json": {
       "model_id": "d891d24a75a64772846f1667a2505c02",
       "version_major": 2,
       "version_minor": 0
      },
      "text/plain": [
       "HBox(children=(IntProgress(value=0, max=55), HTML(value='')))"
      ]
     },
     "metadata": {},
     "output_type": "display_data"
    },
    {
     "name": "stdout",
     "output_type": "stream",
     "text": [
      "\n",
      "Found 550 books in 1608 seconds.\n"
     ]
    }
   ],
   "source": [
    "from multiprocessing.dummy import Pool as ThreadPool\n",
    "thread_pool = ThreadPool(processes = 10)\n",
    "test_speed(thread_pool)"
   ]
  },
  {
   "cell_type": "code",
   "execution_count": 60,
   "metadata": {
    "hidden": true
   },
   "outputs": [
    {
     "data": {
      "application/vnd.jupyter.widget-view+json": {
       "model_id": "64ca5ad946fc46b7ba5f3cbba4f1f625",
       "version_major": 2,
       "version_minor": 0
      },
      "text/plain": [
       "HBox(children=(IntProgress(value=0, max=55), HTML(value='')))"
      ]
     },
     "metadata": {},
     "output_type": "display_data"
    },
    {
     "name": "stdout",
     "output_type": "stream",
     "text": [
      "\n",
      "Found 550 books in 1652 seconds.\n"
     ]
    }
   ],
   "source": [
    "thread_pool = ThreadPool(processes = 20)\n",
    "test_speed(thread_pool)"
   ]
  },
  {
   "cell_type": "markdown",
   "metadata": {
    "hidden": true
   },
   "source": [
    "Threading appears to be much slower than multiprocessing. For a real run on all the data, we should use all available cores on our machine."
   ]
  },
  {
   "cell_type": "code",
   "execution_count": 61,
   "metadata": {
    "hidden": true
   },
   "outputs": [
    {
     "data": {
      "text/plain": [
       "53"
      ]
     },
     "execution_count": 61,
     "metadata": {},
     "output_type": "execute_result"
    }
   ],
   "source": [
    "import gc\n",
    "gc.collect()"
   ]
  },
  {
   "cell_type": "markdown",
   "metadata": {},
   "source": [
    "# Conclusions\n",
    "\n",
    "In this notebook, we saw how to download the most recent version of every article on English language Wikipedia. Having the information is only useful if we can make sense of it, so we also thoroughly covered how to parse through the data. The end result is code that can be used to find and extract any information from any category of article on Wikipedia. Along the way, we covered a number of critical data science skills:\n",
    "\n",
    "* Finding and programmatically downloading data from the Internet\n",
    "* Parsing HTML using BeautifulSoup\n",
    "* Parsing XML using SAX\n",
    "* Parsing Mediawiki using `mwparserfromhell` \n",
    "* Running operations in parallel using multiprocessing and multithreading\n",
    "* Benchmarking different ways to solve a problem for efficiency comparisons\n",
    "\n",
    "This was a project by itself but I'm only getting started with the book data! My end objective is to build a book recommendation engine using embeddings of the books and internal Wikilinks. For now, feel free to use this code to explore a different Wikipedia category, or take a look at the books. Wikipedia is a rich source of information and quite an achievement of modern humanity. After completing this project, we know how to access and make use of all this information.\n",
    "\n",
    "Best,\n",
    "\n",
    "Will"
   ]
  },
  {
   "cell_type": "code",
   "execution_count": null,
   "metadata": {},
   "outputs": [],
   "source": []
  }
 ],
 "metadata": {
  "kernelspec": {
   "display_name": "Python 3 (ipykernel)",
   "language": "python",
   "name": "python3"
  },
  "language_info": {
   "codemirror_mode": {
    "name": "ipython",
    "version": 3
   },
   "file_extension": ".py",
   "mimetype": "text/x-python",
   "name": "python",
   "nbconvert_exporter": "python",
   "pygments_lexer": "ipython3",
   "version": "3.8.13"
  },
  "widgets": {
   "application/vnd.jupyter.widget-state+json": {
    "state": {
     "00948a0e478b4f45a2134edbf7924d03": {
      "model_module": "@jupyter-widgets/base",
      "model_module_version": "1.1.0",
      "model_name": "LayoutModel",
      "state": {}
     },
     "0185f02b72eb4c60b953bf9ae7f5645a": {
      "model_module": "@jupyter-widgets/base",
      "model_module_version": "1.1.0",
      "model_name": "LayoutModel",
      "state": {}
     },
     "089d59a32c0842cdb8e8bdbfe04a5964": {
      "model_module": "@jupyter-widgets/base",
      "model_module_version": "1.1.0",
      "model_name": "LayoutModel",
      "state": {}
     },
     "09b05571bcaf4964b74ac3d16c850ec0": {
      "model_module": "@jupyter-widgets/base",
      "model_module_version": "1.1.0",
      "model_name": "LayoutModel",
      "state": {}
     },
     "0a03ddca2f434f9b9dea93f6a9c72ac3": {
      "model_module": "@jupyter-widgets/base",
      "model_module_version": "1.1.0",
      "model_name": "LayoutModel",
      "state": {}
     },
     "0cbd5dea847d4fff9dd581ee4cf9ecf1": {
      "model_module": "@jupyter-widgets/controls",
      "model_module_version": "1.4.0",
      "model_name": "DescriptionStyleModel",
      "state": {
       "description_width": ""
      }
     },
     "0d4f80665d9c4a01baca0af4780d3cb1": {
      "model_module": "@jupyter-widgets/base",
      "model_module_version": "1.1.0",
      "model_name": "LayoutModel",
      "state": {}
     },
     "0db607562b874262af5222a744c80146": {
      "model_module": "@jupyter-widgets/base",
      "model_module_version": "1.1.0",
      "model_name": "LayoutModel",
      "state": {}
     },
     "134d55db09ae42f0b8232a862d0db8fa": {
      "model_module": "@jupyter-widgets/base",
      "model_module_version": "1.1.0",
      "model_name": "LayoutModel",
      "state": {}
     },
     "1441c4e328ec4e339a1664c08ec9eb4a": {
      "model_module": "@jupyter-widgets/base",
      "model_module_version": "1.1.0",
      "model_name": "LayoutModel",
      "state": {}
     },
     "177a99869e5f4dfe99873bbb8fe2ff37": {
      "model_module": "@jupyter-widgets/base",
      "model_module_version": "1.1.0",
      "model_name": "LayoutModel",
      "state": {}
     },
     "17ad73d2c7ec4dcfb08014a70679bc43": {
      "model_module": "@jupyter-widgets/controls",
      "model_module_version": "1.4.0",
      "model_name": "ProgressStyleModel",
      "state": {
       "description_width": ""
      }
     },
     "1853db2f7064442a8ba904a5d48323a6": {
      "model_module": "@jupyter-widgets/base",
      "model_module_version": "1.1.0",
      "model_name": "LayoutModel",
      "state": {}
     },
     "1899f566284449678406c82b7120c9a6": {
      "model_module": "@jupyter-widgets/controls",
      "model_module_version": "1.4.0",
      "model_name": "HBoxModel",
      "state": {
       "children": [
        "IPY_MODEL_975f5a54391849dc886ffd2ac6e69960",
        "IPY_MODEL_c54b0a07647e4744a2288d4410d13fca"
       ],
       "layout": "IPY_MODEL_735ad9515e824f07af7c2a98a6adbd43"
      }
     },
     "1e2ecc5444154d998e140be5ca7686ad": {
      "model_module": "@jupyter-widgets/base",
      "model_module_version": "1.1.0",
      "model_name": "LayoutModel",
      "state": {}
     },
     "1f3e678ef01742b5be0f43a0e5903b60": {
      "model_module": "@jupyter-widgets/controls",
      "model_module_version": "1.4.0",
      "model_name": "HTMLModel",
      "state": {
       "layout": "IPY_MODEL_7c81b63ab53f46749ec1bf3d7467001b",
       "style": "IPY_MODEL_dad8f43fbee84ac9b3bcd4024828b0e1",
       "value": "100% 55/55 [03:21&lt;00:00,  3.67s/it]"
      }
     },
     "203a987bfa234bfeb0ad274b3a68b5cc": {
      "model_module": "@jupyter-widgets/controls",
      "model_module_version": "1.4.0",
      "model_name": "HTMLModel",
      "state": {
       "layout": "IPY_MODEL_09b05571bcaf4964b74ac3d16c850ec0",
       "style": "IPY_MODEL_797c938cab474ff2953c629c3e76ba68",
       "value": "100% 55/55 [03:38&lt;00:00,  3.97s/it]"
      }
     },
     "293ab15188ce4035a0b2b937cf7bdb49": {
      "model_module": "@jupyter-widgets/base",
      "model_module_version": "1.1.0",
      "model_name": "LayoutModel",
      "state": {}
     },
     "2c6bb841d8444ebea39fc477849507ef": {
      "model_module": "@jupyter-widgets/controls",
      "model_module_version": "1.4.0",
      "model_name": "HTMLModel",
      "state": {
       "layout": "IPY_MODEL_698888f8651546808d0a1cbd43813039",
       "style": "IPY_MODEL_33bc6f6ddf774484a47fc48566f30c7d",
       "value": "100% 55/55 [03:10&lt;00:00,  3.46s/it]"
      }
     },
     "2cadc25371f147839e737cb29c98f02b": {
      "model_module": "@jupyter-widgets/controls",
      "model_module_version": "1.4.0",
      "model_name": "HBoxModel",
      "state": {
       "children": [
        "IPY_MODEL_3dd9c8635c654832b9aa76ea4e583002",
        "IPY_MODEL_eccc140d52344353b88e42ec7bcd8e14"
       ],
       "layout": "IPY_MODEL_6eb57d26ad684ab9aed53d043a712b09"
      }
     },
     "2e913562c04742a9a87382647b8dd07f": {
      "model_module": "@jupyter-widgets/controls",
      "model_module_version": "1.4.0",
      "model_name": "IntProgressModel",
      "state": {
       "bar_style": "success",
       "layout": "IPY_MODEL_c130500fc2a04339971f6b93ce037940",
       "max": 55,
       "style": "IPY_MODEL_f5503f0323914b4695d49967ea493f91",
       "value": 55
      }
     },
     "33bc6f6ddf774484a47fc48566f30c7d": {
      "model_module": "@jupyter-widgets/controls",
      "model_module_version": "1.4.0",
      "model_name": "DescriptionStyleModel",
      "state": {
       "description_width": ""
      }
     },
     "367a60749d994d669080476b77f6edf0": {
      "model_module": "@jupyter-widgets/controls",
      "model_module_version": "1.4.0",
      "model_name": "IntProgressModel",
      "state": {
       "bar_style": "success",
       "layout": "IPY_MODEL_a4a0e846091b4c5dab130cc10cd8c3e4",
       "max": 55,
       "style": "IPY_MODEL_17ad73d2c7ec4dcfb08014a70679bc43",
       "value": 55
      }
     },
     "38ed9e282086484b9f75cc9daa2cceaf": {
      "model_module": "@jupyter-widgets/base",
      "model_module_version": "1.1.0",
      "model_name": "LayoutModel",
      "state": {}
     },
     "39e1b438205b43a2ae361baca386485a": {
      "model_module": "@jupyter-widgets/controls",
      "model_module_version": "1.4.0",
      "model_name": "ProgressStyleModel",
      "state": {
       "description_width": ""
      }
     },
     "3a89af8715a84df39bb27228cd7fe503": {
      "model_module": "@jupyter-widgets/controls",
      "model_module_version": "1.4.0",
      "model_name": "DescriptionStyleModel",
      "state": {
       "description_width": ""
      }
     },
     "3db4a223c4ff456e9a96ced0a06430d1": {
      "model_module": "@jupyter-widgets/controls",
      "model_module_version": "1.4.0",
      "model_name": "HTMLModel",
      "state": {
       "layout": "IPY_MODEL_1e2ecc5444154d998e140be5ca7686ad",
       "style": "IPY_MODEL_0cbd5dea847d4fff9dd581ee4cf9ecf1",
       "value": "100% 55/55 [02:56&lt;00:00,  3.21s/it]"
      }
     },
     "3dd9c8635c654832b9aa76ea4e583002": {
      "model_module": "@jupyter-widgets/controls",
      "model_module_version": "1.4.0",
      "model_name": "IntProgressModel",
      "state": {
       "bar_style": "danger",
       "layout": "IPY_MODEL_1853db2f7064442a8ba904a5d48323a6",
       "max": 56,
       "style": "IPY_MODEL_39e1b438205b43a2ae361baca386485a",
       "value": 37
      }
     },
     "3e3f3699a5b84ff5b63a8c129d4f6be2": {
      "model_module": "@jupyter-widgets/controls",
      "model_module_version": "1.4.0",
      "model_name": "HBoxModel",
      "state": {
       "children": [
        "IPY_MODEL_958d41f85a054ddeb1719060875e51b1",
        "IPY_MODEL_b5dc00a9bc814b1f841d78fecfcd104a"
       ],
       "layout": "IPY_MODEL_bcfbcf86f7d848a0a8f1b233c53416a5"
      }
     },
     "4323cab7b9b048fcb4e68e077b2c0b88": {
      "model_module": "@jupyter-widgets/controls",
      "model_module_version": "1.4.0",
      "model_name": "HTMLModel",
      "state": {
       "layout": "IPY_MODEL_fc9007d3ae91460b9d3fb62bf16fda7b",
       "style": "IPY_MODEL_3a89af8715a84df39bb27228cd7fe503",
       "value": "100% 55/55 [03:21&lt;00:00,  3.67s/it]"
      }
     },
     "4513e4098a7c4841b487c0e6abc9d190": {
      "model_module": "@jupyter-widgets/controls",
      "model_module_version": "1.4.0",
      "model_name": "HBoxModel",
      "state": {
       "children": [
        "IPY_MODEL_2e913562c04742a9a87382647b8dd07f",
        "IPY_MODEL_9bb11af975bc4edbac5c3ecd55d0d306"
       ],
       "layout": "IPY_MODEL_38ed9e282086484b9f75cc9daa2cceaf"
      }
     },
     "453e080f64a94e35b6053a02cee20043": {
      "model_module": "@jupyter-widgets/base",
      "model_module_version": "1.1.0",
      "model_name": "LayoutModel",
      "state": {}
     },
     "467e94fc453f44fea7163f87150d16fa": {
      "model_module": "@jupyter-widgets/controls",
      "model_module_version": "1.4.0",
      "model_name": "ProgressStyleModel",
      "state": {
       "description_width": ""
      }
     },
     "46fb62706931402fa41b300a723479ff": {
      "model_module": "@jupyter-widgets/controls",
      "model_module_version": "1.4.0",
      "model_name": "ProgressStyleModel",
      "state": {
       "description_width": ""
      }
     },
     "473120b94a0a483bb684f571c5dc734b": {
      "model_module": "@jupyter-widgets/controls",
      "model_module_version": "1.4.0",
      "model_name": "IntProgressModel",
      "state": {
       "bar_style": "success",
       "layout": "IPY_MODEL_89945f04fd884349be8d164934a91201",
       "max": 55,
       "style": "IPY_MODEL_46fb62706931402fa41b300a723479ff",
       "value": 55
      }
     },
     "4b0267be646549ba99c2497f8b1bc28d": {
      "model_module": "@jupyter-widgets/controls",
      "model_module_version": "1.4.0",
      "model_name": "HBoxModel",
      "state": {
       "children": [
        "IPY_MODEL_ae2f896a0b0e4496a15afab58e203807",
        "IPY_MODEL_c13756be5392448b9c113a7c4fc9b711"
       ],
       "layout": "IPY_MODEL_6f4dff23346942a5ba93067667de9789"
      }
     },
     "4b18a7283b004b7186f4a6c17e179de4": {
      "model_module": "@jupyter-widgets/controls",
      "model_module_version": "1.4.0",
      "model_name": "DescriptionStyleModel",
      "state": {
       "description_width": ""
      }
     },
     "4b8245168e714dd1b75cbcc0822f96d7": {
      "model_module": "@jupyter-widgets/controls",
      "model_module_version": "1.4.0",
      "model_name": "DescriptionStyleModel",
      "state": {
       "description_width": ""
      }
     },
     "523465660fd54b8bad30608d10ed63f1": {
      "model_module": "@jupyter-widgets/controls",
      "model_module_version": "1.4.0",
      "model_name": "ProgressStyleModel",
      "state": {
       "description_width": ""
      }
     },
     "54c0d0ec9573420cb858e0789a301581": {
      "model_module": "@jupyter-widgets/base",
      "model_module_version": "1.1.0",
      "model_name": "LayoutModel",
      "state": {}
     },
     "5b264e5cab714b37b89e013eba6877e5": {
      "model_module": "@jupyter-widgets/base",
      "model_module_version": "1.1.0",
      "model_name": "LayoutModel",
      "state": {}
     },
     "5b337d1901b34a81a9b0a71a05e06079": {
      "model_module": "@jupyter-widgets/controls",
      "model_module_version": "1.4.0",
      "model_name": "HBoxModel",
      "state": {
       "children": [
        "IPY_MODEL_8fd89ab5a15d4e6a9af636a929b82b28",
        "IPY_MODEL_2c6bb841d8444ebea39fc477849507ef"
       ],
       "layout": "IPY_MODEL_74d0c9f0cae84c97927daa51116cbcc6"
      }
     },
     "5c388590197c4967804ad75a62ba8652": {
      "model_module": "@jupyter-widgets/controls",
      "model_module_version": "1.4.0",
      "model_name": "ProgressStyleModel",
      "state": {
       "description_width": ""
      }
     },
     "5c8ffa426d56440b8d166ff47038bffe": {
      "model_module": "@jupyter-widgets/controls",
      "model_module_version": "1.4.0",
      "model_name": "IntProgressModel",
      "state": {
       "bar_style": "success",
       "layout": "IPY_MODEL_0a03ddca2f434f9b9dea93f6a9c72ac3",
       "max": 55,
       "style": "IPY_MODEL_a885c585dea44fe3972287a94a2c1e4a",
       "value": 55
      }
     },
     "60616b278c68461483b39d1e8a94ac29": {
      "model_module": "@jupyter-widgets/controls",
      "model_module_version": "1.4.0",
      "model_name": "HBoxModel",
      "state": {
       "children": [
        "IPY_MODEL_473120b94a0a483bb684f571c5dc734b",
        "IPY_MODEL_203a987bfa234bfeb0ad274b3a68b5cc"
       ],
       "layout": "IPY_MODEL_453e080f64a94e35b6053a02cee20043"
      }
     },
     "686da8f52d0d4ba7b7b7f62cea0c2c38": {
      "model_module": "@jupyter-widgets/controls",
      "model_module_version": "1.4.0",
      "model_name": "HBoxModel",
      "state": {
       "children": [
        "IPY_MODEL_367a60749d994d669080476b77f6edf0",
        "IPY_MODEL_73608ebe3e1540bfbcbe51447299a37a"
       ],
       "layout": "IPY_MODEL_a91b2d0bfb8b4cbd9e79906e361889f7"
      }
     },
     "698888f8651546808d0a1cbd43813039": {
      "model_module": "@jupyter-widgets/base",
      "model_module_version": "1.1.0",
      "model_name": "LayoutModel",
      "state": {}
     },
     "69ff3490cd6041dfa2d0c9c4ee9f6906": {
      "model_module": "@jupyter-widgets/base",
      "model_module_version": "1.1.0",
      "model_name": "LayoutModel",
      "state": {}
     },
     "6b9d07d196704e74b1621d9d98069536": {
      "model_module": "@jupyter-widgets/controls",
      "model_module_version": "1.4.0",
      "model_name": "HBoxModel",
      "state": {
       "children": [
        "IPY_MODEL_d0e9754f8a8c49efb7fb1b5cf5df226c",
        "IPY_MODEL_eb9fc331b4a94bd493d1f5be846a48c0"
       ],
       "layout": "IPY_MODEL_00948a0e478b4f45a2134edbf7924d03"
      }
     },
     "6eb57d26ad684ab9aed53d043a712b09": {
      "model_module": "@jupyter-widgets/base",
      "model_module_version": "1.1.0",
      "model_name": "LayoutModel",
      "state": {}
     },
     "6f4dff23346942a5ba93067667de9789": {
      "model_module": "@jupyter-widgets/base",
      "model_module_version": "1.1.0",
      "model_name": "LayoutModel",
      "state": {}
     },
     "735ad9515e824f07af7c2a98a6adbd43": {
      "model_module": "@jupyter-widgets/base",
      "model_module_version": "1.1.0",
      "model_name": "LayoutModel",
      "state": {}
     },
     "73608ebe3e1540bfbcbe51447299a37a": {
      "model_module": "@jupyter-widgets/controls",
      "model_module_version": "1.4.0",
      "model_name": "HTMLModel",
      "state": {
       "layout": "IPY_MODEL_1441c4e328ec4e339a1664c08ec9eb4a",
       "style": "IPY_MODEL_c42bab25f03444c79ac4a1f3de7d6cab",
       "value": "100% 55/55 [20:42&lt;00:00, 22.59s/it]"
      }
     },
     "740b99bd6e314a849dbdec8565009cb9": {
      "model_module": "@jupyter-widgets/controls",
      "model_module_version": "1.4.0",
      "model_name": "HTMLModel",
      "state": {
       "layout": "IPY_MODEL_0185f02b72eb4c60b953bf9ae7f5645a",
       "style": "IPY_MODEL_fa68eb6facec4a72b698076a8673e88c",
       "value": "100% 55/55 [22:29&lt;00:00, 24.53s/it]"
      }
     },
     "74d0c9f0cae84c97927daa51116cbcc6": {
      "model_module": "@jupyter-widgets/base",
      "model_module_version": "1.1.0",
      "model_name": "LayoutModel",
      "state": {}
     },
     "769592b0f61f4b549a2047c7097620f0": {
      "model_module": "@jupyter-widgets/controls",
      "model_module_version": "1.4.0",
      "model_name": "ProgressStyleModel",
      "state": {
       "description_width": ""
      }
     },
     "797c938cab474ff2953c629c3e76ba68": {
      "model_module": "@jupyter-widgets/controls",
      "model_module_version": "1.4.0",
      "model_name": "DescriptionStyleModel",
      "state": {
       "description_width": ""
      }
     },
     "7c81b63ab53f46749ec1bf3d7467001b": {
      "model_module": "@jupyter-widgets/base",
      "model_module_version": "1.1.0",
      "model_name": "LayoutModel",
      "state": {}
     },
     "841e557fa6b14b7aa725c0b99c51bf42": {
      "model_module": "@jupyter-widgets/base",
      "model_module_version": "1.1.0",
      "model_name": "LayoutModel",
      "state": {}
     },
     "89945f04fd884349be8d164934a91201": {
      "model_module": "@jupyter-widgets/base",
      "model_module_version": "1.1.0",
      "model_name": "LayoutModel",
      "state": {}
     },
     "8cd99b453d594b1383c8cd6b9c44ba9d": {
      "model_module": "@jupyter-widgets/base",
      "model_module_version": "1.1.0",
      "model_name": "LayoutModel",
      "state": {}
     },
     "8fb5415097a14b208c71afc102bb0dff": {
      "model_module": "@jupyter-widgets/controls",
      "model_module_version": "1.4.0",
      "model_name": "DescriptionStyleModel",
      "state": {
       "description_width": ""
      }
     },
     "8fd89ab5a15d4e6a9af636a929b82b28": {
      "model_module": "@jupyter-widgets/controls",
      "model_module_version": "1.4.0",
      "model_name": "IntProgressModel",
      "state": {
       "bar_style": "success",
       "layout": "IPY_MODEL_5b264e5cab714b37b89e013eba6877e5",
       "max": 55,
       "style": "IPY_MODEL_467e94fc453f44fea7163f87150d16fa",
       "value": 55
      }
     },
     "927431178d0843bf890cd8d47d72fbd3": {
      "model_module": "@jupyter-widgets/controls",
      "model_module_version": "1.4.0",
      "model_name": "HBoxModel",
      "state": {
       "children": [
        "IPY_MODEL_f30fdc5caa3d48c69cb5b69a70dcc892",
        "IPY_MODEL_1f3e678ef01742b5be0f43a0e5903b60"
       ],
       "layout": "IPY_MODEL_e0294d12217e4e5d8b2b85814cd81880"
      }
     },
     "958d41f85a054ddeb1719060875e51b1": {
      "model_module": "@jupyter-widgets/controls",
      "model_module_version": "1.4.0",
      "model_name": "IntProgressModel",
      "state": {
       "bar_style": "success",
       "layout": "IPY_MODEL_177a99869e5f4dfe99873bbb8fe2ff37",
       "max": 55,
       "style": "IPY_MODEL_523465660fd54b8bad30608d10ed63f1",
       "value": 55
      }
     },
     "975f5a54391849dc886ffd2ac6e69960": {
      "model_module": "@jupyter-widgets/controls",
      "model_module_version": "1.4.0",
      "model_name": "IntProgressModel",
      "state": {
       "bar_style": "success",
       "layout": "IPY_MODEL_089d59a32c0842cdb8e8bdbfe04a5964",
       "max": 55,
       "style": "IPY_MODEL_5c388590197c4967804ad75a62ba8652",
       "value": 55
      }
     },
     "9b7579aaaaca4d909f8209eb721de2c4": {
      "model_module": "@jupyter-widgets/base",
      "model_module_version": "1.1.0",
      "model_name": "LayoutModel",
      "state": {}
     },
     "9bb11af975bc4edbac5c3ecd55d0d306": {
      "model_module": "@jupyter-widgets/controls",
      "model_module_version": "1.4.0",
      "model_name": "HTMLModel",
      "state": {
       "layout": "IPY_MODEL_134d55db09ae42f0b8232a862d0db8fa",
       "style": "IPY_MODEL_4b8245168e714dd1b75cbcc0822f96d7",
       "value": "100% 55/55 [02:55&lt;00:00,  3.20s/it]"
      }
     },
     "9fc63aaf2157487daca9c4f5d76c04f6": {
      "model_module": "@jupyter-widgets/controls",
      "model_module_version": "1.4.0",
      "model_name": "DescriptionStyleModel",
      "state": {
       "description_width": ""
      }
     },
     "a2a8edae27be4c398b749f889d6f8950": {
      "model_module": "@jupyter-widgets/controls",
      "model_module_version": "1.4.0",
      "model_name": "HBoxModel",
      "state": {
       "children": [
        "IPY_MODEL_5c8ffa426d56440b8d166ff47038bffe",
        "IPY_MODEL_3db4a223c4ff456e9a96ced0a06430d1"
       ],
       "layout": "IPY_MODEL_f69921f21c954b1ba4cb15bba774e408"
      }
     },
     "a36ba22c05a84b55968c3b76485aa922": {
      "model_module": "@jupyter-widgets/controls",
      "model_module_version": "1.4.0",
      "model_name": "IntProgressModel",
      "state": {
       "bar_style": "success",
       "layout": "IPY_MODEL_0db607562b874262af5222a744c80146",
       "max": 55,
       "style": "IPY_MODEL_aebb281263a74df0900e19c02462e8fc",
       "value": 55
      }
     },
     "a4a0e846091b4c5dab130cc10cd8c3e4": {
      "model_module": "@jupyter-widgets/base",
      "model_module_version": "1.1.0",
      "model_name": "LayoutModel",
      "state": {}
     },
     "a4b45ae9a3304f199a076d146a39f3fd": {
      "model_module": "@jupyter-widgets/controls",
      "model_module_version": "1.4.0",
      "model_name": "ProgressStyleModel",
      "state": {
       "description_width": ""
      }
     },
     "a8467d60e0ac4a65809a9e993f1f998b": {
      "model_module": "@jupyter-widgets/base",
      "model_module_version": "1.1.0",
      "model_name": "LayoutModel",
      "state": {}
     },
     "a885c585dea44fe3972287a94a2c1e4a": {
      "model_module": "@jupyter-widgets/controls",
      "model_module_version": "1.4.0",
      "model_name": "ProgressStyleModel",
      "state": {
       "description_width": ""
      }
     },
     "a91b2d0bfb8b4cbd9e79906e361889f7": {
      "model_module": "@jupyter-widgets/base",
      "model_module_version": "1.1.0",
      "model_name": "LayoutModel",
      "state": {}
     },
     "a9bdd67d82da4e068d86515bbb624c02": {
      "model_module": "@jupyter-widgets/base",
      "model_module_version": "1.1.0",
      "model_name": "LayoutModel",
      "state": {}
     },
     "ae2f896a0b0e4496a15afab58e203807": {
      "model_module": "@jupyter-widgets/controls",
      "model_module_version": "1.4.0",
      "model_name": "IntProgressModel",
      "state": {
       "bar_style": "success",
       "layout": "IPY_MODEL_8cd99b453d594b1383c8cd6b9c44ba9d",
       "max": 55,
       "style": "IPY_MODEL_769592b0f61f4b549a2047c7097620f0",
       "value": 55
      }
     },
     "aebb281263a74df0900e19c02462e8fc": {
      "model_module": "@jupyter-widgets/controls",
      "model_module_version": "1.4.0",
      "model_name": "ProgressStyleModel",
      "state": {
       "description_width": ""
      }
     },
     "b5dc00a9bc814b1f841d78fecfcd104a": {
      "model_module": "@jupyter-widgets/controls",
      "model_module_version": "1.4.0",
      "model_name": "HTMLModel",
      "state": {
       "layout": "IPY_MODEL_d6d40e96ef104195b6f89ffca8b7c9c2",
       "style": "IPY_MODEL_e2bf00e014a04f25b524fb7d4814affd",
       "value": "100% 55/55 [20:27&lt;00:00, 22.31s/it]"
      }
     },
     "b7611dd2546d44b8b90d17a6a7422875": {
      "model_module": "@jupyter-widgets/controls",
      "model_module_version": "1.4.0",
      "model_name": "ProgressStyleModel",
      "state": {
       "description_width": ""
      }
     },
     "bad2eca188f54ba5bc898b975f27ae4e": {
      "model_module": "@jupyter-widgets/controls",
      "model_module_version": "1.4.0",
      "model_name": "HBoxModel",
      "state": {
       "children": [
        "IPY_MODEL_a36ba22c05a84b55968c3b76485aa922",
        "IPY_MODEL_4323cab7b9b048fcb4e68e077b2c0b88"
       ],
       "layout": "IPY_MODEL_293ab15188ce4035a0b2b937cf7bdb49"
      }
     },
     "bcfbcf86f7d848a0a8f1b233c53416a5": {
      "model_module": "@jupyter-widgets/base",
      "model_module_version": "1.1.0",
      "model_name": "LayoutModel",
      "state": {}
     },
     "c130500fc2a04339971f6b93ce037940": {
      "model_module": "@jupyter-widgets/base",
      "model_module_version": "1.1.0",
      "model_name": "LayoutModel",
      "state": {}
     },
     "c13756be5392448b9c113a7c4fc9b711": {
      "model_module": "@jupyter-widgets/controls",
      "model_module_version": "1.4.0",
      "model_name": "HTMLModel",
      "state": {
       "layout": "IPY_MODEL_0d4f80665d9c4a01baca0af4780d3cb1",
       "style": "IPY_MODEL_8fb5415097a14b208c71afc102bb0dff",
       "value": "100% 55/55 [20:29&lt;00:00, 22.35s/it]"
      }
     },
     "c42bab25f03444c79ac4a1f3de7d6cab": {
      "model_module": "@jupyter-widgets/controls",
      "model_module_version": "1.4.0",
      "model_name": "DescriptionStyleModel",
      "state": {
       "description_width": ""
      }
     },
     "c54b0a07647e4744a2288d4410d13fca": {
      "model_module": "@jupyter-widgets/controls",
      "model_module_version": "1.4.0",
      "model_name": "HTMLModel",
      "state": {
       "layout": "IPY_MODEL_54c0d0ec9573420cb858e0789a301581",
       "style": "IPY_MODEL_4b18a7283b004b7186f4a6c17e179de4",
       "value": "100% 55/55 [20:43&lt;00:00, 22.61s/it]"
      }
     },
     "d0c47d1516414077ba01c0564ff3787c": {
      "model_module": "@jupyter-widgets/base",
      "model_module_version": "1.1.0",
      "model_name": "LayoutModel",
      "state": {}
     },
     "d0e9754f8a8c49efb7fb1b5cf5df226c": {
      "model_module": "@jupyter-widgets/controls",
      "model_module_version": "1.4.0",
      "model_name": "IntProgressModel",
      "state": {
       "bar_style": "success",
       "layout": "IPY_MODEL_a9bdd67d82da4e068d86515bbb624c02",
       "max": 55,
       "style": "IPY_MODEL_a4b45ae9a3304f199a076d146a39f3fd",
       "value": 55
      }
     },
     "d4a20878dcf344e694882bbd5f40c485": {
      "model_module": "@jupyter-widgets/controls",
      "model_module_version": "1.4.0",
      "model_name": "HBoxModel",
      "state": {
       "children": [
        "IPY_MODEL_dad54da089fe427eaeac6a993ee2602e",
        "IPY_MODEL_740b99bd6e314a849dbdec8565009cb9"
       ],
       "layout": "IPY_MODEL_d0c47d1516414077ba01c0564ff3787c"
      }
     },
     "d6d40e96ef104195b6f89ffca8b7c9c2": {
      "model_module": "@jupyter-widgets/base",
      "model_module_version": "1.1.0",
      "model_name": "LayoutModel",
      "state": {}
     },
     "dad54da089fe427eaeac6a993ee2602e": {
      "model_module": "@jupyter-widgets/controls",
      "model_module_version": "1.4.0",
      "model_name": "IntProgressModel",
      "state": {
       "bar_style": "success",
       "layout": "IPY_MODEL_a8467d60e0ac4a65809a9e993f1f998b",
       "max": 55,
       "style": "IPY_MODEL_b7611dd2546d44b8b90d17a6a7422875",
       "value": 55
      }
     },
     "dad8f43fbee84ac9b3bcd4024828b0e1": {
      "model_module": "@jupyter-widgets/controls",
      "model_module_version": "1.4.0",
      "model_name": "DescriptionStyleModel",
      "state": {
       "description_width": ""
      }
     },
     "df9964da57d34ffeace16065a0d2f62a": {
      "model_module": "@jupyter-widgets/controls",
      "model_module_version": "1.4.0",
      "model_name": "DescriptionStyleModel",
      "state": {
       "description_width": ""
      }
     },
     "e0294d12217e4e5d8b2b85814cd81880": {
      "model_module": "@jupyter-widgets/base",
      "model_module_version": "1.1.0",
      "model_name": "LayoutModel",
      "state": {}
     },
     "e2bf00e014a04f25b524fb7d4814affd": {
      "model_module": "@jupyter-widgets/controls",
      "model_module_version": "1.4.0",
      "model_name": "DescriptionStyleModel",
      "state": {
       "description_width": ""
      }
     },
     "eb9fc331b4a94bd493d1f5be846a48c0": {
      "model_module": "@jupyter-widgets/controls",
      "model_module_version": "1.4.0",
      "model_name": "HTMLModel",
      "state": {
       "layout": "IPY_MODEL_69ff3490cd6041dfa2d0c9c4ee9f6906",
       "style": "IPY_MODEL_9fc63aaf2157487daca9c4f5d76c04f6",
       "value": "100% 55/55 [22:07&lt;00:00, 24.14s/it]"
      }
     },
     "eccc140d52344353b88e42ec7bcd8e14": {
      "model_module": "@jupyter-widgets/controls",
      "model_module_version": "1.4.0",
      "model_name": "HTMLModel",
      "state": {
       "layout": "IPY_MODEL_9b7579aaaaca4d909f8209eb721de2c4",
       "style": "IPY_MODEL_df9964da57d34ffeace16065a0d2f62a",
       "value": " 66% 37/56 [01:53&lt;00:58,  3.08s/it]"
      }
     },
     "f30fdc5caa3d48c69cb5b69a70dcc892": {
      "model_module": "@jupyter-widgets/controls",
      "model_module_version": "1.4.0",
      "model_name": "IntProgressModel",
      "state": {
       "bar_style": "success",
       "layout": "IPY_MODEL_841e557fa6b14b7aa725c0b99c51bf42",
       "max": 55,
       "style": "IPY_MODEL_f57029a5ce744d4fa4e73f215edc55a4",
       "value": 55
      }
     },
     "f5503f0323914b4695d49967ea493f91": {
      "model_module": "@jupyter-widgets/controls",
      "model_module_version": "1.4.0",
      "model_name": "ProgressStyleModel",
      "state": {
       "description_width": ""
      }
     },
     "f57029a5ce744d4fa4e73f215edc55a4": {
      "model_module": "@jupyter-widgets/controls",
      "model_module_version": "1.4.0",
      "model_name": "ProgressStyleModel",
      "state": {
       "description_width": ""
      }
     },
     "f69921f21c954b1ba4cb15bba774e408": {
      "model_module": "@jupyter-widgets/base",
      "model_module_version": "1.1.0",
      "model_name": "LayoutModel",
      "state": {}
     },
     "fa68eb6facec4a72b698076a8673e88c": {
      "model_module": "@jupyter-widgets/controls",
      "model_module_version": "1.4.0",
      "model_name": "DescriptionStyleModel",
      "state": {
       "description_width": ""
      }
     },
     "fc9007d3ae91460b9d3fb62bf16fda7b": {
      "model_module": "@jupyter-widgets/base",
      "model_module_version": "1.1.0",
      "model_name": "LayoutModel",
      "state": {}
     }
    },
    "version_major": 2,
    "version_minor": 0
   }
  }
 },
 "nbformat": 4,
 "nbformat_minor": 2
}
